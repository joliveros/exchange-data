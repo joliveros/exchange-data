{
 "cells": [
  {
   "cell_type": "code",
   "execution_count": 4,
   "id": "ae384a2f",
   "metadata": {},
   "outputs": [
    {
     "name": "stdout",
     "output_type": "stream",
     "text": [
      "The autoreload extension is already loaded. To reload it, use:\n",
      "  %reload_ext autoreload\n"
     ]
    },
    {
     "data": {
      "text/html": [
       "        <script type=\"text/javascript\">\n",
       "        window.PlotlyConfig = {MathJaxConfig: 'local'};\n",
       "        if (window.MathJax && window.MathJax.Hub && window.MathJax.Hub.Config) {window.MathJax.Hub.Config({SVG: {font: \"STIX-Web\"}});}\n",
       "        if (typeof require !== 'undefined') {\n",
       "        require.undef(\"plotly\");\n",
       "        requirejs.config({\n",
       "            paths: {\n",
       "                'plotly': ['https://cdn.plot.ly/plotly-2.25.2.min']\n",
       "            }\n",
       "        });\n",
       "        require(['plotly'], function(Plotly) {\n",
       "            window._Plotly = Plotly;\n",
       "        });\n",
       "        }\n",
       "        </script>\n",
       "        "
      ]
     },
     "metadata": {},
     "output_type": "display_data"
    },
    {
     "name": "stderr",
     "output_type": "stream",
     "text": [
      "2023-12-20 13:48:48 INFO  [data.macd_frame:47] SELECT last(best_bid) AS data FROM UNFIUSDT_OrderBookFrame WHERE time >= '2023-12-13 19:48:48.309302' AND time <= '2023-12-20 19:48:48.309318' GROUP BY time(1m)\n",
      "2023-12-20 13:48:48 DEBUG [exchange_data._database:64] SELECT last(best_bid) AS data FROM UNFIUSDT_OrderBookFrame WHERE time >= '2023-12-13 19:48:48.309302' AND time <= '2023-12-20 19:48:48.309318' GROUP BY time(1m)\n",
      "2023-12-20 13:48:48 INFO  [data.macd_frame:62]                            price\n",
      "time                            \n",
      "2023-12-13 19:48:00+00:00  7.491\n",
      "2023-12-13 19:49:00+00:00  7.495\n",
      "2023-12-13 19:50:00+00:00  7.499\n",
      "2023-12-13 19:51:00+00:00  7.497\n",
      "2023-12-13 19:52:00+00:00  7.498\n",
      "...                          ...\n",
      "2023-12-20 19:44:00+00:00  7.512\n",
      "2023-12-20 19:45:00+00:00  7.537\n",
      "2023-12-20 19:46:00+00:00  7.540\n",
      "2023-12-20 19:47:00+00:00  7.535\n",
      "2023-12-20 19:48:00+00:00  7.541\n",
      "\n",
      "[10081 rows x 1 columns]\n"
     ]
    },
    {
     "name": "stdout",
     "output_type": "stream",
     "text": [
      "                            open   high    low  close  macd_diff  trade\n",
      "time                                                                   \n",
      "2023-12-13 19:45:00+00:00  7.491  7.530  7.481  7.530   0.000000      0\n",
      "2023-12-13 20:00:00+00:00  7.534  7.642  7.532  7.602   0.000000      0\n",
      "2023-12-13 20:15:00+00:00  7.619  7.701  7.596  7.622   0.000000      0\n",
      "2023-12-13 20:30:00+00:00  7.641  7.641  7.569  7.583   0.000000      0\n",
      "2023-12-13 20:45:00+00:00  7.578  7.603  7.554  7.582   0.000000      0\n",
      "...                          ...    ...    ...    ...        ...    ...\n",
      "2023-12-20 18:45:00+00:00  7.595  7.613  7.565  7.579  -0.006293      1\n",
      "2023-12-20 19:00:00+00:00  7.590  7.596  7.535  7.541  -0.009230      1\n",
      "2023-12-20 19:15:00+00:00  7.550  7.579  7.550  7.568  -0.009119      1\n",
      "2023-12-20 19:30:00+00:00  7.574  7.578  7.512  7.512  -0.012381      1\n",
      "2023-12-20 19:45:00+00:00  7.537  7.541  7.535  7.541  -0.012132      1\n",
      "\n",
      "[673 rows x 6 columns]\n"
     ]
    },
    {
     "ename": "NameError",
     "evalue": "name 'best_bid' is not defined",
     "output_type": "error",
     "traceback": [
      "\u001b[0;31m---------------------------------------------------------------------------\u001b[0m",
      "\u001b[0;31mNameError\u001b[0m                                 Traceback (most recent call last)",
      "Cell \u001b[0;32mIn[4], line 36\u001b[0m\n\u001b[1;32m     34\u001b[0m \u001b[38;5;28mmax\u001b[39m \u001b[38;5;241m=\u001b[39m argrelextrema(df[\u001b[38;5;124m'\u001b[39m\u001b[38;5;124mopen\u001b[39m\u001b[38;5;124m'\u001b[39m]\u001b[38;5;241m.\u001b[39mto_numpy(), np\u001b[38;5;241m.\u001b[39mgreater_equal, order\u001b[38;5;241m=\u001b[39mn)[\u001b[38;5;241m0\u001b[39m]\n\u001b[1;32m     35\u001b[0m active_trade \u001b[38;5;241m=\u001b[39m \u001b[38;5;28;01mFalse\u001b[39;00m\n\u001b[0;32m---> 36\u001b[0m position \u001b[38;5;241m=\u001b[39m np\u001b[38;5;241m.\u001b[39mzeros(\u001b[43mbest_bid\u001b[49m\u001b[38;5;241m.\u001b[39mshape)\n\u001b[1;32m     37\u001b[0m capital_ls \u001b[38;5;241m=\u001b[39m []\n\u001b[1;32m     38\u001b[0m capital \u001b[38;5;241m=\u001b[39m \u001b[38;5;241m1\u001b[39m\n",
      "\u001b[0;31mNameError\u001b[0m: name 'best_bid' is not defined"
     ]
    }
   ],
   "source": [
    "%load_ext autoreload\n",
    "%autoreload 2\n",
    "\n",
    "from exchange_data.data.macd_frame import MacdFrame\n",
    "import pandas as pd\n",
    "import numpy as np\n",
    "import alog\n",
    "import plotly.graph_objs as go\n",
    "import plotly.express as px\n",
    "import plotly as py\n",
    "import plotly.offline as ofl\n",
    "from plotly.offline import init_notebook_mode\n",
    "import plotly.graph_objects as go\n",
    "from plotly.subplots import make_subplots\n",
    "\n",
    "init_notebook_mode(connected=True)\n",
    "params = {\n",
    " 'database_name': 'binance_futures',\n",
    " 'futures': False,\n",
    " 'group_by': '1m',\n",
    " 'interval': '7d',\n",
    " 'offset_interval': '0h',\n",
    " 'symbol': 'UNFIUSDT'\n",
    "}\n",
    "\n",
    "df = MacdFrame(**params).frame\n",
    "print(df)\n",
    "#pd.set_option(\"display.max_rows\", len(df) + 1)\n",
    "\n",
    "from scipy.signal import argrelextrema\n",
    "n = 6\n",
    "\n",
    "min = argrelextrema(df['open'].to_numpy(), np.less_equal, order=n)[0]\n",
    "max = argrelextrema(df['open'].to_numpy(), np.greater_equal, order=n)[0]\n",
    "active_trade = False\n",
    "position = np.zeros(best_bid.shape)\n",
    "capital_ls = []\n",
    "capital = 1\n",
    "price_in = 0.0\n",
    "ix_in = None\n",
    "ix_out = None\n",
    "\n",
    "for ix in range(0, df.shape[0]):\n",
    "    if ix in max_ix:\n",
    "        ix_in = ix\n",
    "        price_in = best_bid[ix]\n",
    "        continue\n",
    "\n",
    "    if ix in min_ix:\n",
    "        if price_in > 0:\n",
    "            ix_out = ix\n",
    "            pnl = (price_in - best_ask[ix]) / price_in\n",
    "\n",
    "            alog.info((price_in, best_ask[ix], pnl))\n",
    "\n",
    "            capital = capital + (capital * pnl * (1 - 0.005))\n",
    "\n",
    "            if pnl > 0.004:\n",
    "                alog.debug(pnl)\n",
    "                position[ix_in:ix_out] = 1\n",
    "\n",
    "        price_in = 0.0\n",
    "\n",
    "    capital_ls.append(capital)\n",
    "\n",
    "alog.debug(trades)\n",
    "alog.debug(len(trades))\n",
    "df['capital'] = np.asarray(capital_ls)\n",
    "\n",
    "print(df)\n",
    "\n",
    "fig1 = go.Ohlc(x=df.index,\n",
    "                open=df['open'],\n",
    "                high=df['high'],\n",
    "                low=df['low'],\n",
    "                close=df['close'])\n",
    "\n",
    "fig2 = go.Line(\n",
    "    x=df.index,\n",
    "    y=df['capital'],\n",
    "    yaxis='y2'\n",
    ")\n",
    "\n",
    "fig = make_subplots(specs=[[{\"secondary_y\": True}]])\n",
    "fig.add_trace(fig1)\n",
    "fig.add_trace(fig2,secondary_y=True)\n",
    "fig.update_layout(height=800)\n",
    "fig.update(layout_xaxis_rangeslider_visible=False)\n",
    "fig.show()"
   ]
  },
  {
   "cell_type": "code",
   "execution_count": null,
   "id": "823ac8e2-341b-4953-a9eb-622eef3e8327",
   "metadata": {},
   "outputs": [],
   "source": []
  }
 ],
 "metadata": {
  "kernelspec": {
   "display_name": "Python 3 (ipykernel)",
   "language": "python",
   "name": "python3"
  },
  "language_info": {
   "codemirror_mode": {
    "name": "ipython",
    "version": 3
   },
   "file_extension": ".py",
   "mimetype": "text/x-python",
   "name": "python",
   "nbconvert_exporter": "python",
   "pygments_lexer": "ipython3",
   "version": "3.8.10"
  }
 },
 "nbformat": 4,
 "nbformat_minor": 5
}
