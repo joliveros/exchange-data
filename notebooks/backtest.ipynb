{
 "cells": [
  {
   "cell_type": "code",
   "execution_count": 6,
   "id": "ae384a2f",
   "metadata": {
    "scrolled": true
   },
   "outputs": [
    {
     "name": "stdout",
     "output_type": "stream",
     "text": [
      "The autoreload extension is already loaded. To reload it, use:\n",
      "  %reload_ext autoreload\n"
     ]
    },
    {
     "data": {
      "text/html": [
       "        <script type=\"text/javascript\">\n",
       "        window.PlotlyConfig = {MathJaxConfig: 'local'};\n",
       "        if (window.MathJax && window.MathJax.Hub && window.MathJax.Hub.Config) {window.MathJax.Hub.Config({SVG: {font: \"STIX-Web\"}});}\n",
       "        if (typeof require !== 'undefined') {\n",
       "        require.undef(\"plotly\");\n",
       "        requirejs.config({\n",
       "            paths: {\n",
       "                'plotly': ['https://cdn.plot.ly/plotly-2.25.2.min']\n",
       "            }\n",
       "        });\n",
       "        require(['plotly'], function(Plotly) {\n",
       "            window._Plotly = Plotly;\n",
       "        });\n",
       "        }\n",
       "        </script>\n",
       "        "
      ]
     },
     "metadata": {},
     "output_type": "display_data"
    },
    {
     "name": "stderr",
     "output_type": "stream",
     "text": [
      "2024-03-05 12:06:20 INFO  [data.backtest:22] \n",
      "{'additional_group_by': '20Min',\n",
      " 'cache': False,\n",
      " 'database_name': 'binance_futures',\n",
      " 'depth': 124,\n",
      " 'frame_width': 299,\n",
      " 'futures': False,\n",
      " 'group_by': '7m',\n",
      " 'interval': '1d',\n",
      " 'max_volume_quantile': 0.99,\n",
      " 'offset_interval': '0h',\n",
      " 'plot': False,\n",
      " 'round_decimals': 3,\n",
      " 'sequence_length': 124,\n",
      " 'symbol': 'UNFIUSDT',\n",
      " 'window_size': '4h'}\n",
      "2024-03-05 12:06:20 DEBUG [exchange_data._database:64] SELECT last(*) AS data FROM UNFIUSDT_OrderBookFrame WHERE time >= '2024-03-04 03:38:20.579447' AND time <= '2024-03-04 07:38:20.579447' GROUP BY time(7m);\n",
      "2024-03-05 12:06:20 DEBUG [exchange_data._database:64] SELECT last(*) AS data FROM UNFIUSDT_OrderBookFrame WHERE time >= '2024-03-04 07:38:20.579447' AND time <= '2024-03-04 11:38:20.579447' GROUP BY time(7m);\n",
      "2024-03-05 12:06:21 DEBUG [exchange_data._database:64] SELECT last(*) AS data FROM UNFIUSDT_OrderBookFrame WHERE time >= '2024-03-04 11:38:20.579447' AND time <= '2024-03-04 15:38:20.579447' GROUP BY time(7m);\n",
      "2024-03-05 12:06:21 DEBUG [exchange_data._database:64] SELECT last(*) AS data FROM UNFIUSDT_OrderBookFrame WHERE time >= '2024-03-04 15:38:20.579447' AND time <= '2024-03-04 19:38:20.579447' GROUP BY time(7m);\n",
      "2024-03-05 12:06:21 DEBUG [exchange_data._database:64] SELECT last(*) AS data FROM UNFIUSDT_OrderBookFrame WHERE time >= '2024-03-04 19:38:20.579447' AND time <= '2024-03-04 23:38:20.579447' GROUP BY time(7m);\n",
      "2024-03-05 12:06:22 DEBUG [exchange_data._database:64] SELECT last(*) AS data FROM UNFIUSDT_OrderBookFrame WHERE time >= '2024-03-04 23:38:20.579447' AND time <= '2024-03-05 03:38:20.579447' GROUP BY time(7m);\n",
      "2024-03-05 12:06:22 DEBUG [exchange_data._database:64] SELECT last(*) AS data FROM UNFIUSDT_OrderBookFrame WHERE time >= '2024-03-05 03:38:20.579447' AND time <= '2024-03-05 07:38:20.579447' GROUP BY time(7m);\n",
      "2024-03-05 12:06:22 DEBUG [exchange_data._database:64] SELECT last(*) AS data FROM UNFIUSDT_OrderBookFrame WHERE time >= '2024-03-05 07:38:20.579447' AND time <= '2024-03-05 11:38:20.579447' GROUP BY time(7m);\n",
      "2024-03-05 12:06:22 DEBUG [exchange_data._database:64] SELECT last(*) AS data FROM UNFIUSDT_OrderBookFrame WHERE time >= '2024-03-05 11:38:20.579447' AND time <= '2024-03-05 15:38:20.579447' GROUP BY time(7m);\n",
      "2024-03-05 12:06:23 DEBUG [exchange_data._database:64] SELECT last(*) AS data FROM UNFIUSDT_OrderBookFrame WHERE time >= '2024-03-05 15:38:20.579447' AND time <= '2024-03-05 19:38:20.579447' GROUP BY time(7m);\n",
      "2024-03-05 12:08:40 INFO  [data.backtest:37] /home/joliveros/codequants/exchange-data/vit_output/pretrained\n",
      "/home/joliveros/.pyenv/versions/3.8.10/envs/exchange-data/lib/python3.8/site-packages/transformers/models/vit/feature_extraction_vit.py:28: FutureWarning:\n",
      "\n",
      "The class ViTFeatureExtractor is deprecated and will be removed in version 5 of Transformers. Please use ViTImageProcessor instead.\n",
      "\n",
      "2024-03-05 12:09:50 INFO  [ipykernel_16876.3429399507:54] (7.88, 7.934, -0.006943)\n",
      "2024-03-05 12:09:50 INFO  [ipykernel_16876.3429399507:54] (7.938, 8.01, -0.00886)\n",
      "2024-03-05 12:09:50 INFO  [ipykernel_16876.3429399507:54] (8.12, 8.086, 0.003849)\n",
      "2024-03-05 12:09:50 INFO  [ipykernel_16876.3429399507:54] (8.1, 8.15, -0.005787)\n",
      "2024-03-05 12:09:50 INFO  [ipykernel_16876.3429399507:54] (8.04, 8.016, 0.002916)\n",
      "2024-03-05 12:09:50 INFO  [ipykernel_16876.3429399507:54] (8.055, 8.09, -0.00485)\n",
      "2024-03-05 12:09:50 INFO  [ipykernel_16876.3429399507:54] (8.055, 7.926, 0.016)\n",
      "2024-03-05 12:09:50 INFO  [ipykernel_16876.3429399507:54] (7.953, 8.03, -0.00983)\n",
      "2024-03-05 12:09:50 INFO  [ipykernel_16876.3429399507:54] (7.855, 8.1, -0.03134)\n",
      "2024-03-05 12:09:50 INFO  [ipykernel_16876.3429399507:54] (8.19, 8.18, 0.000954)\n",
      "2024-03-05 12:09:50 INFO  [ipykernel_16876.3429399507:54] (8.19, 8.15, 0.004772)\n",
      "2024-03-05 12:09:50 INFO  [ipykernel_16876.3429399507:54] (8.09, 8.13, -0.004826)\n",
      "2024-03-05 12:09:50 INFO  [ipykernel_16876.3429399507:54] (8.14, 8.17, -0.00384)\n",
      "2024-03-05 12:09:50 INFO  [ipykernel_16876.3429399507:54] (8.12, 8.016, 0.01251)\n",
      "2024-03-05 12:09:50 INFO  [ipykernel_16876.3429399507:54] (7.89, 7.742, 0.01881)\n",
      "2024-03-05 12:09:50 INFO  [ipykernel_16876.3429399507:54] (7.652, 7.66, -0.001021)\n"
     ]
    },
    {
     "data": {
      "application/vnd.plotly.v1+json": {
       "config": {
        "plotlyServerURL": "https://plot.ly"
       },
       "data": [
        {
         "hovertemplate": "time=%{x}<br>capital=%{y}<extra></extra>",
         "legendgroup": "",
         "line": {
          "color": "#636efa",
          "dash": "solid"
         },
         "marker": {
          "symbol": "circle"
         },
         "mode": "lines",
         "name": "",
         "orientation": "v",
         "showlegend": false,
         "type": "scatter",
         "x": [
          "2024-03-04T17:40:00+00:00",
          "2024-03-04T18:00:00+00:00",
          "2024-03-04T18:20:00+00:00",
          "2024-03-04T18:40:00+00:00",
          "2024-03-04T19:00:00+00:00",
          "2024-03-04T19:20:00+00:00",
          "2024-03-04T19:40:00+00:00",
          "2024-03-04T20:00:00+00:00",
          "2024-03-04T20:20:00+00:00",
          "2024-03-04T20:40:00+00:00",
          "2024-03-04T21:00:00+00:00",
          "2024-03-04T21:20:00+00:00",
          "2024-03-04T21:40:00+00:00",
          "2024-03-04T22:00:00+00:00",
          "2024-03-04T22:20:00+00:00",
          "2024-03-04T22:40:00+00:00",
          "2024-03-04T23:00:00+00:00",
          "2024-03-04T23:20:00+00:00",
          "2024-03-04T23:40:00+00:00",
          "2024-03-05T00:00:00+00:00",
          "2024-03-05T00:20:00+00:00",
          "2024-03-05T00:40:00+00:00",
          "2024-03-05T01:00:00+00:00",
          "2024-03-05T01:20:00+00:00",
          "2024-03-05T01:40:00+00:00",
          "2024-03-05T02:00:00+00:00",
          "2024-03-05T02:20:00+00:00",
          "2024-03-05T02:40:00+00:00",
          "2024-03-05T03:00:00+00:00",
          "2024-03-05T03:20:00+00:00",
          "2024-03-05T03:40:00+00:00",
          "2024-03-05T04:00:00+00:00",
          "2024-03-05T04:20:00+00:00",
          "2024-03-05T04:40:00+00:00",
          "2024-03-05T05:00:00+00:00",
          "2024-03-05T05:20:00+00:00",
          "2024-03-05T05:40:00+00:00",
          "2024-03-05T06:00:00+00:00",
          "2024-03-05T06:20:00+00:00",
          "2024-03-05T06:40:00+00:00",
          "2024-03-05T07:00:00+00:00",
          "2024-03-05T07:20:00+00:00",
          "2024-03-05T07:40:00+00:00",
          "2024-03-05T08:00:00+00:00",
          "2024-03-05T08:20:00+00:00",
          "2024-03-05T08:40:00+00:00",
          "2024-03-05T09:00:00+00:00",
          "2024-03-05T09:20:00+00:00",
          "2024-03-05T09:40:00+00:00",
          "2024-03-05T10:00:00+00:00",
          "2024-03-05T10:20:00+00:00",
          "2024-03-05T10:40:00+00:00",
          "2024-03-05T11:00:00+00:00",
          "2024-03-05T11:20:00+00:00",
          "2024-03-05T11:40:00+00:00",
          "2024-03-05T12:00:00+00:00",
          "2024-03-05T12:20:00+00:00",
          "2024-03-05T12:40:00+00:00",
          "2024-03-05T13:00:00+00:00",
          "2024-03-05T13:20:00+00:00",
          "2024-03-05T13:40:00+00:00",
          "2024-03-05T14:00:00+00:00",
          "2024-03-05T14:20:00+00:00",
          "2024-03-05T14:40:00+00:00",
          "2024-03-05T15:00:00+00:00",
          "2024-03-05T15:20:00+00:00",
          "2024-03-05T15:40:00+00:00",
          "2024-03-05T16:00:00+00:00",
          "2024-03-05T16:20:00+00:00",
          "2024-03-05T16:40:00+00:00",
          "2024-03-05T17:00:00+00:00",
          "2024-03-05T17:20:00+00:00",
          "2024-03-05T17:40:00+00:00",
          "2024-03-05T18:00:00+00:00"
         ],
         "xaxis": "x",
         "y": [
          1,
          1,
          0.9930919647216797,
          0.9930919647216797,
          0.9930919647216797,
          0.9930919647216797,
          0.9930919647216797,
          0.9930919647216797,
          0.9843394098496502,
          0.9843394098496502,
          0.9843394098496502,
          0.9843394098496502,
          0.9881092175592129,
          0.9881092175592129,
          0.9824197229508216,
          0.9824197229508216,
          0.9824197229508216,
          0.9824197229508216,
          0.9852704636841778,
          0.9852704636841778,
          0.9852704636841778,
          0.9852704636841778,
          0.9852704636841778,
          0.9852704636841778,
          0.9805172846469087,
          0.9805172846469087,
          0.9961334317788153,
          0.9961334317788153,
          0.9961334317788153,
          0.9961334317788153,
          0.9961334317788153,
          0.9863937103979676,
          0.9863937103979676,
          0.9863937103979676,
          0.9863937103979676,
          0.9863937103979676,
          0.9863937103979676,
          0.9863937103979676,
          0.9863937103979676,
          0.9863937103979676,
          0.9863937103979676,
          0.9556331754591304,
          0.9556331754591304,
          0.9556331754591304,
          0.9556331754591304,
          0.9556331754591304,
          0.9556331754591304,
          0.9556331754591304,
          0.9556331754591304,
          0.9556331754591304,
          0.9565404348633955,
          0.9565404348633955,
          0.961082400056549,
          0.961082400056549,
          0.9564677974339783,
          0.9564677974339783,
          0.9528138079704517,
          0.9528138079704517,
          0.9528138079704517,
          0.9528138079704517,
          0.9646760025798738,
          0.9646760025798738,
          0.9646760025798738,
          0.9646760025798738,
          0.9646760025798738,
          0.9646760025798738,
          0.9646760025798738,
          0.9646760025798738,
          0.9827347532455397,
          0.9827347532455397,
          0.9817360212736823,
          0.9817360212736823,
          0.9817360212736823,
          0.9817360212736823
         ],
         "yaxis": "y"
        }
       ],
       "layout": {
        "autosize": true,
        "legend": {
         "tracegroupgap": 0
        },
        "margin": {
         "t": 60
        },
        "template": {
         "data": {
          "bar": [
           {
            "error_x": {
             "color": "#2a3f5f"
            },
            "error_y": {
             "color": "#2a3f5f"
            },
            "marker": {
             "line": {
              "color": "#E5ECF6",
              "width": 0.5
             },
             "pattern": {
              "fillmode": "overlay",
              "size": 10,
              "solidity": 0.2
             }
            },
            "type": "bar"
           }
          ],
          "barpolar": [
           {
            "marker": {
             "line": {
              "color": "#E5ECF6",
              "width": 0.5
             },
             "pattern": {
              "fillmode": "overlay",
              "size": 10,
              "solidity": 0.2
             }
            },
            "type": "barpolar"
           }
          ],
          "carpet": [
           {
            "aaxis": {
             "endlinecolor": "#2a3f5f",
             "gridcolor": "white",
             "linecolor": "white",
             "minorgridcolor": "white",
             "startlinecolor": "#2a3f5f"
            },
            "baxis": {
             "endlinecolor": "#2a3f5f",
             "gridcolor": "white",
             "linecolor": "white",
             "minorgridcolor": "white",
             "startlinecolor": "#2a3f5f"
            },
            "type": "carpet"
           }
          ],
          "choropleth": [
           {
            "colorbar": {
             "outlinewidth": 0,
             "ticks": ""
            },
            "type": "choropleth"
           }
          ],
          "contour": [
           {
            "colorbar": {
             "outlinewidth": 0,
             "ticks": ""
            },
            "colorscale": [
             [
              0,
              "#0d0887"
             ],
             [
              0.1111111111111111,
              "#46039f"
             ],
             [
              0.2222222222222222,
              "#7201a8"
             ],
             [
              0.3333333333333333,
              "#9c179e"
             ],
             [
              0.4444444444444444,
              "#bd3786"
             ],
             [
              0.5555555555555556,
              "#d8576b"
             ],
             [
              0.6666666666666666,
              "#ed7953"
             ],
             [
              0.7777777777777778,
              "#fb9f3a"
             ],
             [
              0.8888888888888888,
              "#fdca26"
             ],
             [
              1,
              "#f0f921"
             ]
            ],
            "type": "contour"
           }
          ],
          "contourcarpet": [
           {
            "colorbar": {
             "outlinewidth": 0,
             "ticks": ""
            },
            "type": "contourcarpet"
           }
          ],
          "heatmap": [
           {
            "colorbar": {
             "outlinewidth": 0,
             "ticks": ""
            },
            "colorscale": [
             [
              0,
              "#0d0887"
             ],
             [
              0.1111111111111111,
              "#46039f"
             ],
             [
              0.2222222222222222,
              "#7201a8"
             ],
             [
              0.3333333333333333,
              "#9c179e"
             ],
             [
              0.4444444444444444,
              "#bd3786"
             ],
             [
              0.5555555555555556,
              "#d8576b"
             ],
             [
              0.6666666666666666,
              "#ed7953"
             ],
             [
              0.7777777777777778,
              "#fb9f3a"
             ],
             [
              0.8888888888888888,
              "#fdca26"
             ],
             [
              1,
              "#f0f921"
             ]
            ],
            "type": "heatmap"
           }
          ],
          "heatmapgl": [
           {
            "colorbar": {
             "outlinewidth": 0,
             "ticks": ""
            },
            "colorscale": [
             [
              0,
              "#0d0887"
             ],
             [
              0.1111111111111111,
              "#46039f"
             ],
             [
              0.2222222222222222,
              "#7201a8"
             ],
             [
              0.3333333333333333,
              "#9c179e"
             ],
             [
              0.4444444444444444,
              "#bd3786"
             ],
             [
              0.5555555555555556,
              "#d8576b"
             ],
             [
              0.6666666666666666,
              "#ed7953"
             ],
             [
              0.7777777777777778,
              "#fb9f3a"
             ],
             [
              0.8888888888888888,
              "#fdca26"
             ],
             [
              1,
              "#f0f921"
             ]
            ],
            "type": "heatmapgl"
           }
          ],
          "histogram": [
           {
            "marker": {
             "pattern": {
              "fillmode": "overlay",
              "size": 10,
              "solidity": 0.2
             }
            },
            "type": "histogram"
           }
          ],
          "histogram2d": [
           {
            "colorbar": {
             "outlinewidth": 0,
             "ticks": ""
            },
            "colorscale": [
             [
              0,
              "#0d0887"
             ],
             [
              0.1111111111111111,
              "#46039f"
             ],
             [
              0.2222222222222222,
              "#7201a8"
             ],
             [
              0.3333333333333333,
              "#9c179e"
             ],
             [
              0.4444444444444444,
              "#bd3786"
             ],
             [
              0.5555555555555556,
              "#d8576b"
             ],
             [
              0.6666666666666666,
              "#ed7953"
             ],
             [
              0.7777777777777778,
              "#fb9f3a"
             ],
             [
              0.8888888888888888,
              "#fdca26"
             ],
             [
              1,
              "#f0f921"
             ]
            ],
            "type": "histogram2d"
           }
          ],
          "histogram2dcontour": [
           {
            "colorbar": {
             "outlinewidth": 0,
             "ticks": ""
            },
            "colorscale": [
             [
              0,
              "#0d0887"
             ],
             [
              0.1111111111111111,
              "#46039f"
             ],
             [
              0.2222222222222222,
              "#7201a8"
             ],
             [
              0.3333333333333333,
              "#9c179e"
             ],
             [
              0.4444444444444444,
              "#bd3786"
             ],
             [
              0.5555555555555556,
              "#d8576b"
             ],
             [
              0.6666666666666666,
              "#ed7953"
             ],
             [
              0.7777777777777778,
              "#fb9f3a"
             ],
             [
              0.8888888888888888,
              "#fdca26"
             ],
             [
              1,
              "#f0f921"
             ]
            ],
            "type": "histogram2dcontour"
           }
          ],
          "mesh3d": [
           {
            "colorbar": {
             "outlinewidth": 0,
             "ticks": ""
            },
            "type": "mesh3d"
           }
          ],
          "parcoords": [
           {
            "line": {
             "colorbar": {
              "outlinewidth": 0,
              "ticks": ""
             }
            },
            "type": "parcoords"
           }
          ],
          "pie": [
           {
            "automargin": true,
            "type": "pie"
           }
          ],
          "scatter": [
           {
            "fillpattern": {
             "fillmode": "overlay",
             "size": 10,
             "solidity": 0.2
            },
            "type": "scatter"
           }
          ],
          "scatter3d": [
           {
            "line": {
             "colorbar": {
              "outlinewidth": 0,
              "ticks": ""
             }
            },
            "marker": {
             "colorbar": {
              "outlinewidth": 0,
              "ticks": ""
             }
            },
            "type": "scatter3d"
           }
          ],
          "scattercarpet": [
           {
            "marker": {
             "colorbar": {
              "outlinewidth": 0,
              "ticks": ""
             }
            },
            "type": "scattercarpet"
           }
          ],
          "scattergeo": [
           {
            "marker": {
             "colorbar": {
              "outlinewidth": 0,
              "ticks": ""
             }
            },
            "type": "scattergeo"
           }
          ],
          "scattergl": [
           {
            "marker": {
             "colorbar": {
              "outlinewidth": 0,
              "ticks": ""
             }
            },
            "type": "scattergl"
           }
          ],
          "scattermapbox": [
           {
            "marker": {
             "colorbar": {
              "outlinewidth": 0,
              "ticks": ""
             }
            },
            "type": "scattermapbox"
           }
          ],
          "scatterpolar": [
           {
            "marker": {
             "colorbar": {
              "outlinewidth": 0,
              "ticks": ""
             }
            },
            "type": "scatterpolar"
           }
          ],
          "scatterpolargl": [
           {
            "marker": {
             "colorbar": {
              "outlinewidth": 0,
              "ticks": ""
             }
            },
            "type": "scatterpolargl"
           }
          ],
          "scatterternary": [
           {
            "marker": {
             "colorbar": {
              "outlinewidth": 0,
              "ticks": ""
             }
            },
            "type": "scatterternary"
           }
          ],
          "surface": [
           {
            "colorbar": {
             "outlinewidth": 0,
             "ticks": ""
            },
            "colorscale": [
             [
              0,
              "#0d0887"
             ],
             [
              0.1111111111111111,
              "#46039f"
             ],
             [
              0.2222222222222222,
              "#7201a8"
             ],
             [
              0.3333333333333333,
              "#9c179e"
             ],
             [
              0.4444444444444444,
              "#bd3786"
             ],
             [
              0.5555555555555556,
              "#d8576b"
             ],
             [
              0.6666666666666666,
              "#ed7953"
             ],
             [
              0.7777777777777778,
              "#fb9f3a"
             ],
             [
              0.8888888888888888,
              "#fdca26"
             ],
             [
              1,
              "#f0f921"
             ]
            ],
            "type": "surface"
           }
          ],
          "table": [
           {
            "cells": {
             "fill": {
              "color": "#EBF0F8"
             },
             "line": {
              "color": "white"
             }
            },
            "header": {
             "fill": {
              "color": "#C8D4E3"
             },
             "line": {
              "color": "white"
             }
            },
            "type": "table"
           }
          ]
         },
         "layout": {
          "annotationdefaults": {
           "arrowcolor": "#2a3f5f",
           "arrowhead": 0,
           "arrowwidth": 1
          },
          "autotypenumbers": "strict",
          "coloraxis": {
           "colorbar": {
            "outlinewidth": 0,
            "ticks": ""
           }
          },
          "colorscale": {
           "diverging": [
            [
             0,
             "#8e0152"
            ],
            [
             0.1,
             "#c51b7d"
            ],
            [
             0.2,
             "#de77ae"
            ],
            [
             0.3,
             "#f1b6da"
            ],
            [
             0.4,
             "#fde0ef"
            ],
            [
             0.5,
             "#f7f7f7"
            ],
            [
             0.6,
             "#e6f5d0"
            ],
            [
             0.7,
             "#b8e186"
            ],
            [
             0.8,
             "#7fbc41"
            ],
            [
             0.9,
             "#4d9221"
            ],
            [
             1,
             "#276419"
            ]
           ],
           "sequential": [
            [
             0,
             "#0d0887"
            ],
            [
             0.1111111111111111,
             "#46039f"
            ],
            [
             0.2222222222222222,
             "#7201a8"
            ],
            [
             0.3333333333333333,
             "#9c179e"
            ],
            [
             0.4444444444444444,
             "#bd3786"
            ],
            [
             0.5555555555555556,
             "#d8576b"
            ],
            [
             0.6666666666666666,
             "#ed7953"
            ],
            [
             0.7777777777777778,
             "#fb9f3a"
            ],
            [
             0.8888888888888888,
             "#fdca26"
            ],
            [
             1,
             "#f0f921"
            ]
           ],
           "sequentialminus": [
            [
             0,
             "#0d0887"
            ],
            [
             0.1111111111111111,
             "#46039f"
            ],
            [
             0.2222222222222222,
             "#7201a8"
            ],
            [
             0.3333333333333333,
             "#9c179e"
            ],
            [
             0.4444444444444444,
             "#bd3786"
            ],
            [
             0.5555555555555556,
             "#d8576b"
            ],
            [
             0.6666666666666666,
             "#ed7953"
            ],
            [
             0.7777777777777778,
             "#fb9f3a"
            ],
            [
             0.8888888888888888,
             "#fdca26"
            ],
            [
             1,
             "#f0f921"
            ]
           ]
          },
          "colorway": [
           "#636efa",
           "#EF553B",
           "#00cc96",
           "#ab63fa",
           "#FFA15A",
           "#19d3f3",
           "#FF6692",
           "#B6E880",
           "#FF97FF",
           "#FECB52"
          ],
          "font": {
           "color": "#2a3f5f"
          },
          "geo": {
           "bgcolor": "white",
           "lakecolor": "white",
           "landcolor": "#E5ECF6",
           "showlakes": true,
           "showland": true,
           "subunitcolor": "white"
          },
          "hoverlabel": {
           "align": "left"
          },
          "hovermode": "closest",
          "mapbox": {
           "style": "light"
          },
          "paper_bgcolor": "white",
          "plot_bgcolor": "#E5ECF6",
          "polar": {
           "angularaxis": {
            "gridcolor": "white",
            "linecolor": "white",
            "ticks": ""
           },
           "bgcolor": "#E5ECF6",
           "radialaxis": {
            "gridcolor": "white",
            "linecolor": "white",
            "ticks": ""
           }
          },
          "scene": {
           "xaxis": {
            "backgroundcolor": "#E5ECF6",
            "gridcolor": "white",
            "gridwidth": 2,
            "linecolor": "white",
            "showbackground": true,
            "ticks": "",
            "zerolinecolor": "white"
           },
           "yaxis": {
            "backgroundcolor": "#E5ECF6",
            "gridcolor": "white",
            "gridwidth": 2,
            "linecolor": "white",
            "showbackground": true,
            "ticks": "",
            "zerolinecolor": "white"
           },
           "zaxis": {
            "backgroundcolor": "#E5ECF6",
            "gridcolor": "white",
            "gridwidth": 2,
            "linecolor": "white",
            "showbackground": true,
            "ticks": "",
            "zerolinecolor": "white"
           }
          },
          "shapedefaults": {
           "line": {
            "color": "#2a3f5f"
           }
          },
          "ternary": {
           "aaxis": {
            "gridcolor": "white",
            "linecolor": "white",
            "ticks": ""
           },
           "baxis": {
            "gridcolor": "white",
            "linecolor": "white",
            "ticks": ""
           },
           "bgcolor": "#E5ECF6",
           "caxis": {
            "gridcolor": "white",
            "linecolor": "white",
            "ticks": ""
           }
          },
          "title": {
           "x": 0.05
          },
          "xaxis": {
           "automargin": true,
           "gridcolor": "white",
           "linecolor": "white",
           "ticks": "",
           "title": {
            "standoff": 15
           },
           "zerolinecolor": "white",
           "zerolinewidth": 2
          },
          "yaxis": {
           "automargin": true,
           "gridcolor": "white",
           "linecolor": "white",
           "ticks": "",
           "title": {
            "standoff": 15
           },
           "zerolinecolor": "white",
           "zerolinewidth": 2
          }
         }
        },
        "xaxis": {
         "anchor": "y",
         "autorange": true,
         "domain": [
          0,
          1
         ],
         "range": [
          "2024-03-04 17:40",
          "2024-03-05 18:00"
         ],
         "title": {
          "text": "time"
         },
         "type": "date"
        },
        "yaxis": {
         "anchor": "x",
         "autorange": true,
         "domain": [
          0,
          1
         ],
         "range": [
          0.950192352857699,
          1.0026214551127526
         ],
         "title": {
          "text": "capital"
         },
         "type": "linear"
        }
       }
      },
      "image/png": "[encoded data removed]",
      "text/html": [
       "<div>                            <div id=\"756e0afa-4524-4a02-99ae-cc427bcbedd2\" class=\"plotly-graph-div\" style=\"height:525px; width:100%;\"></div>            <script type=\"text/javascript\">                require([\"plotly\"], function(Plotly) {                    window.PLOTLYENV=window.PLOTLYENV || {};                                    if (document.getElementById(\"756e0afa-4524-4a02-99ae-cc427bcbedd2\")) {                    Plotly.newPlot(                        \"756e0afa-4524-4a02-99ae-cc427bcbedd2\",                        [{\"hovertemplate\":\"time=%{x}\\u003cbr\\u003ecapital=%{y}\\u003cextra\\u003e\\u003c\\u002fextra\\u003e\",\"legendgroup\":\"\",\"line\":{\"color\":\"#636efa\",\"dash\":\"solid\"},\"marker\":{\"symbol\":\"circle\"},\"mode\":\"lines\",\"name\":\"\",\"orientation\":\"v\",\"showlegend\":false,\"x\":[\"2024-03-04T17:40:00+00:00\",\"2024-03-04T18:00:00+00:00\",\"2024-03-04T18:20:00+00:00\",\"2024-03-04T18:40:00+00:00\",\"2024-03-04T19:00:00+00:00\",\"2024-03-04T19:20:00+00:00\",\"2024-03-04T19:40:00+00:00\",\"2024-03-04T20:00:00+00:00\",\"2024-03-04T20:20:00+00:00\",\"2024-03-04T20:40:00+00:00\",\"2024-03-04T21:00:00+00:00\",\"2024-03-04T21:20:00+00:00\",\"2024-03-04T21:40:00+00:00\",\"2024-03-04T22:00:00+00:00\",\"2024-03-04T22:20:00+00:00\",\"2024-03-04T22:40:00+00:00\",\"2024-03-04T23:00:00+00:00\",\"2024-03-04T23:20:00+00:00\",\"2024-03-04T23:40:00+00:00\",\"2024-03-05T00:00:00+00:00\",\"2024-03-05T00:20:00+00:00\",\"2024-03-05T00:40:00+00:00\",\"2024-03-05T01:00:00+00:00\",\"2024-03-05T01:20:00+00:00\",\"2024-03-05T01:40:00+00:00\",\"2024-03-05T02:00:00+00:00\",\"2024-03-05T02:20:00+00:00\",\"2024-03-05T02:40:00+00:00\",\"2024-03-05T03:00:00+00:00\",\"2024-03-05T03:20:00+00:00\",\"2024-03-05T03:40:00+00:00\",\"2024-03-05T04:00:00+00:00\",\"2024-03-05T04:20:00+00:00\",\"2024-03-05T04:40:00+00:00\",\"2024-03-05T05:00:00+00:00\",\"2024-03-05T05:20:00+00:00\",\"2024-03-05T05:40:00+00:00\",\"2024-03-05T06:00:00+00:00\",\"2024-03-05T06:20:00+00:00\",\"2024-03-05T06:40:00+00:00\",\"2024-03-05T07:00:00+00:00\",\"2024-03-05T07:20:00+00:00\",\"2024-03-05T07:40:00+00:00\",\"2024-03-05T08:00:00+00:00\",\"2024-03-05T08:20:00+00:00\",\"2024-03-05T08:40:00+00:00\",\"2024-03-05T09:00:00+00:00\",\"2024-03-05T09:20:00+00:00\",\"2024-03-05T09:40:00+00:00\",\"2024-03-05T10:00:00+00:00\",\"2024-03-05T10:20:00+00:00\",\"2024-03-05T10:40:00+00:00\",\"2024-03-05T11:00:00+00:00\",\"2024-03-05T11:20:00+00:00\",\"2024-03-05T11:40:00+00:00\",\"2024-03-05T12:00:00+00:00\",\"2024-03-05T12:20:00+00:00\",\"2024-03-05T12:40:00+00:00\",\"2024-03-05T13:00:00+00:00\",\"2024-03-05T13:20:00+00:00\",\"2024-03-05T13:40:00+00:00\",\"2024-03-05T14:00:00+00:00\",\"2024-03-05T14:20:00+00:00\",\"2024-03-05T14:40:00+00:00\",\"2024-03-05T15:00:00+00:00\",\"2024-03-05T15:20:00+00:00\",\"2024-03-05T15:40:00+00:00\",\"2024-03-05T16:00:00+00:00\",\"2024-03-05T16:20:00+00:00\",\"2024-03-05T16:40:00+00:00\",\"2024-03-05T17:00:00+00:00\",\"2024-03-05T17:20:00+00:00\",\"2024-03-05T17:40:00+00:00\",\"2024-03-05T18:00:00+00:00\"],\"xaxis\":\"x\",\"y\":[1.0,1.0,0.9930919647216797,0.9930919647216797,0.9930919647216797,0.9930919647216797,0.9930919647216797,0.9930919647216797,0.9843394098496502,0.9843394098496502,0.9843394098496502,0.9843394098496502,0.9881092175592129,0.9881092175592129,0.9824197229508216,0.9824197229508216,0.9824197229508216,0.9824197229508216,0.9852704636841778,0.9852704636841778,0.9852704636841778,0.9852704636841778,0.9852704636841778,0.9852704636841778,0.9805172846469087,0.9805172846469087,0.9961334317788153,0.9961334317788153,0.9961334317788153,0.9961334317788153,0.9961334317788153,0.9863937103979676,0.9863937103979676,0.9863937103979676,0.9863937103979676,0.9863937103979676,0.9863937103979676,0.9863937103979676,0.9863937103979676,0.9863937103979676,0.9863937103979676,0.9556331754591304,0.9556331754591304,0.9556331754591304,0.9556331754591304,0.9556331754591304,0.9556331754591304,0.9556331754591304,0.9556331754591304,0.9556331754591304,0.9565404348633955,0.9565404348633955,0.961082400056549,0.961082400056549,0.9564677974339783,0.9564677974339783,0.9528138079704517,0.9528138079704517,0.9528138079704517,0.9528138079704517,0.9646760025798738,0.9646760025798738,0.9646760025798738,0.9646760025798738,0.9646760025798738,0.9646760025798738,0.9646760025798738,0.9646760025798738,0.9827347532455397,0.9827347532455397,0.9817360212736823,0.9817360212736823,0.9817360212736823,0.9817360212736823],\"yaxis\":\"y\",\"type\":\"scatter\"}],                        {\"template\":{\"data\":{\"histogram2dcontour\":[{\"type\":\"histogram2dcontour\",\"colorbar\":{\"outlinewidth\":0,\"ticks\":\"\"},\"colorscale\":[[0.0,\"#0d0887\"],[0.1111111111111111,\"#46039f\"],[0.2222222222222222,\"#7201a8\"],[0.3333333333333333,\"#9c179e\"],[0.4444444444444444,\"#bd3786\"],[0.5555555555555556,\"#d8576b\"],[0.6666666666666666,\"#ed7953\"],[0.7777777777777778,\"#fb9f3a\"],[0.8888888888888888,\"#fdca26\"],[1.0,\"#f0f921\"]]}],\"choropleth\":[{\"type\":\"choropleth\",\"colorbar\":{\"outlinewidth\":0,\"ticks\":\"\"}}],\"histogram2d\":[{\"type\":\"histogram2d\",\"colorbar\":{\"outlinewidth\":0,\"ticks\":\"\"},\"colorscale\":[[0.0,\"#0d0887\"],[0.1111111111111111,\"#46039f\"],[0.2222222222222222,\"#7201a8\"],[0.3333333333333333,\"#9c179e\"],[0.4444444444444444,\"#bd3786\"],[0.5555555555555556,\"#d8576b\"],[0.6666666666666666,\"#ed7953\"],[0.7777777777777778,\"#fb9f3a\"],[0.8888888888888888,\"#fdca26\"],[1.0,\"#f0f921\"]]}],\"heatmap\":[{\"type\":\"heatmap\",\"colorbar\":{\"outlinewidth\":0,\"ticks\":\"\"},\"colorscale\":[[0.0,\"#0d0887\"],[0.1111111111111111,\"#46039f\"],[0.2222222222222222,\"#7201a8\"],[0.3333333333333333,\"#9c179e\"],[0.4444444444444444,\"#bd3786\"],[0.5555555555555556,\"#d8576b\"],[0.6666666666666666,\"#ed7953\"],[0.7777777777777778,\"#fb9f3a\"],[0.8888888888888888,\"#fdca26\"],[1.0,\"#f0f921\"]]}],\"heatmapgl\":[{\"type\":\"heatmapgl\",\"colorbar\":{\"outlinewidth\":0,\"ticks\":\"\"},\"colorscale\":[[0.0,\"#0d0887\"],[0.1111111111111111,\"#46039f\"],[0.2222222222222222,\"#7201a8\"],[0.3333333333333333,\"#9c179e\"],[0.4444444444444444,\"#bd3786\"],[0.5555555555555556,\"#d8576b\"],[0.6666666666666666,\"#ed7953\"],[0.7777777777777778,\"#fb9f3a\"],[0.8888888888888888,\"#fdca26\"],[1.0,\"#f0f921\"]]}],\"contourcarpet\":[{\"type\":\"contourcarpet\",\"colorbar\":{\"outlinewidth\":0,\"ticks\":\"\"}}],\"contour\":[{\"type\":\"contour\",\"colorbar\":{\"outlinewidth\":0,\"ticks\":\"\"},\"colorscale\":[[0.0,\"#0d0887\"],[0.1111111111111111,\"#46039f\"],[0.2222222222222222,\"#7201a8\"],[0.3333333333333333,\"#9c179e\"],[0.4444444444444444,\"#bd3786\"],[0.5555555555555556,\"#d8576b\"],[0.6666666666666666,\"#ed7953\"],[0.7777777777777778,\"#fb9f3a\"],[0.8888888888888888,\"#fdca26\"],[1.0,\"#f0f921\"]]}],\"surface\":[{\"type\":\"surface\",\"colorbar\":{\"outlinewidth\":0,\"ticks\":\"\"},\"colorscale\":[[0.0,\"#0d0887\"],[0.1111111111111111,\"#46039f\"],[0.2222222222222222,\"#7201a8\"],[0.3333333333333333,\"#9c179e\"],[0.4444444444444444,\"#bd3786\"],[0.5555555555555556,\"#d8576b\"],[0.6666666666666666,\"#ed7953\"],[0.7777777777777778,\"#fb9f3a\"],[0.8888888888888888,\"#fdca26\"],[1.0,\"#f0f921\"]]}],\"mesh3d\":[{\"type\":\"mesh3d\",\"colorbar\":{\"outlinewidth\":0,\"ticks\":\"\"}}],\"scatter\":[{\"fillpattern\":{\"fillmode\":\"overlay\",\"size\":10,\"solidity\":0.2},\"type\":\"scatter\"}],\"parcoords\":[{\"type\":\"parcoords\",\"line\":{\"colorbar\":{\"outlinewidth\":0,\"ticks\":\"\"}}}],\"scatterpolargl\":[{\"type\":\"scatterpolargl\",\"marker\":{\"colorbar\":{\"outlinewidth\":0,\"ticks\":\"\"}}}],\"bar\":[{\"error_x\":{\"color\":\"#2a3f5f\"},\"error_y\":{\"color\":\"#2a3f5f\"},\"marker\":{\"line\":{\"color\":\"#E5ECF6\",\"width\":0.5},\"pattern\":{\"fillmode\":\"overlay\",\"size\":10,\"solidity\":0.2}},\"type\":\"bar\"}],\"scattergeo\":[{\"type\":\"scattergeo\",\"marker\":{\"colorbar\":{\"outlinewidth\":0,\"ticks\":\"\"}}}],\"scatterpolar\":[{\"type\":\"scatterpolar\",\"marker\":{\"colorbar\":{\"outlinewidth\":0,\"ticks\":\"\"}}}],\"histogram\":[{\"marker\":{\"pattern\":{\"fillmode\":\"overlay\",\"size\":10,\"solidity\":0.2}},\"type\":\"histogram\"}],\"scattergl\":[{\"type\":\"scattergl\",\"marker\":{\"colorbar\":{\"outlinewidth\":0,\"ticks\":\"\"}}}],\"scatter3d\":[{\"type\":\"scatter3d\",\"line\":{\"colorbar\":{\"outlinewidth\":0,\"ticks\":\"\"}},\"marker\":{\"colorbar\":{\"outlinewidth\":0,\"ticks\":\"\"}}}],\"scattermapbox\":[{\"type\":\"scattermapbox\",\"marker\":{\"colorbar\":{\"outlinewidth\":0,\"ticks\":\"\"}}}],\"scatterternary\":[{\"type\":\"scatterternary\",\"marker\":{\"colorbar\":{\"outlinewidth\":0,\"ticks\":\"\"}}}],\"scattercarpet\":[{\"type\":\"scattercarpet\",\"marker\":{\"colorbar\":{\"outlinewidth\":0,\"ticks\":\"\"}}}],\"carpet\":[{\"aaxis\":{\"endlinecolor\":\"#2a3f5f\",\"gridcolor\":\"white\",\"linecolor\":\"white\",\"minorgridcolor\":\"white\",\"startlinecolor\":\"#2a3f5f\"},\"baxis\":{\"endlinecolor\":\"#2a3f5f\",\"gridcolor\":\"white\",\"linecolor\":\"white\",\"minorgridcolor\":\"white\",\"startlinecolor\":\"#2a3f5f\"},\"type\":\"carpet\"}],\"table\":[{\"cells\":{\"fill\":{\"color\":\"#EBF0F8\"},\"line\":{\"color\":\"white\"}},\"header\":{\"fill\":{\"color\":\"#C8D4E3\"},\"line\":{\"color\":\"white\"}},\"type\":\"table\"}],\"barpolar\":[{\"marker\":{\"line\":{\"color\":\"#E5ECF6\",\"width\":0.5},\"pattern\":{\"fillmode\":\"overlay\",\"size\":10,\"solidity\":0.2}},\"type\":\"barpolar\"}],\"pie\":[{\"automargin\":true,\"type\":\"pie\"}]},\"layout\":{\"autotypenumbers\":\"strict\",\"colorway\":[\"#636efa\",\"#EF553B\",\"#00cc96\",\"#ab63fa\",\"#FFA15A\",\"#19d3f3\",\"#FF6692\",\"#B6E880\",\"#FF97FF\",\"#FECB52\"],\"font\":{\"color\":\"#2a3f5f\"},\"hovermode\":\"closest\",\"hoverlabel\":{\"align\":\"left\"},\"paper_bgcolor\":\"white\",\"plot_bgcolor\":\"#E5ECF6\",\"polar\":{\"bgcolor\":\"#E5ECF6\",\"angularaxis\":{\"gridcolor\":\"white\",\"linecolor\":\"white\",\"ticks\":\"\"},\"radialaxis\":{\"gridcolor\":\"white\",\"linecolor\":\"white\",\"ticks\":\"\"}},\"ternary\":{\"bgcolor\":\"#E5ECF6\",\"aaxis\":{\"gridcolor\":\"white\",\"linecolor\":\"white\",\"ticks\":\"\"},\"baxis\":{\"gridcolor\":\"white\",\"linecolor\":\"white\",\"ticks\":\"\"},\"caxis\":{\"gridcolor\":\"white\",\"linecolor\":\"white\",\"ticks\":\"\"}},\"coloraxis\":{\"colorbar\":{\"outlinewidth\":0,\"ticks\":\"\"}},\"colorscale\":{\"sequential\":[[0.0,\"#0d0887\"],[0.1111111111111111,\"#46039f\"],[0.2222222222222222,\"#7201a8\"],[0.3333333333333333,\"#9c179e\"],[0.4444444444444444,\"#bd3786\"],[0.5555555555555556,\"#d8576b\"],[0.6666666666666666,\"#ed7953\"],[0.7777777777777778,\"#fb9f3a\"],[0.8888888888888888,\"#fdca26\"],[1.0,\"#f0f921\"]],\"sequentialminus\":[[0.0,\"#0d0887\"],[0.1111111111111111,\"#46039f\"],[0.2222222222222222,\"#7201a8\"],[0.3333333333333333,\"#9c179e\"],[0.4444444444444444,\"#bd3786\"],[0.5555555555555556,\"#d8576b\"],[0.6666666666666666,\"#ed7953\"],[0.7777777777777778,\"#fb9f3a\"],[0.8888888888888888,\"#fdca26\"],[1.0,\"#f0f921\"]],\"diverging\":[[0,\"#8e0152\"],[0.1,\"#c51b7d\"],[0.2,\"#de77ae\"],[0.3,\"#f1b6da\"],[0.4,\"#fde0ef\"],[0.5,\"#f7f7f7\"],[0.6,\"#e6f5d0\"],[0.7,\"#b8e186\"],[0.8,\"#7fbc41\"],[0.9,\"#4d9221\"],[1,\"#276419\"]]},\"xaxis\":{\"gridcolor\":\"white\",\"linecolor\":\"white\",\"ticks\":\"\",\"title\":{\"standoff\":15},\"zerolinecolor\":\"white\",\"automargin\":true,\"zerolinewidth\":2},\"yaxis\":{\"gridcolor\":\"white\",\"linecolor\":\"white\",\"ticks\":\"\",\"title\":{\"standoff\":15},\"zerolinecolor\":\"white\",\"automargin\":true,\"zerolinewidth\":2},\"scene\":{\"xaxis\":{\"backgroundcolor\":\"#E5ECF6\",\"gridcolor\":\"white\",\"linecolor\":\"white\",\"showbackground\":true,\"ticks\":\"\",\"zerolinecolor\":\"white\",\"gridwidth\":2},\"yaxis\":{\"backgroundcolor\":\"#E5ECF6\",\"gridcolor\":\"white\",\"linecolor\":\"white\",\"showbackground\":true,\"ticks\":\"\",\"zerolinecolor\":\"white\",\"gridwidth\":2},\"zaxis\":{\"backgroundcolor\":\"#E5ECF6\",\"gridcolor\":\"white\",\"linecolor\":\"white\",\"showbackground\":true,\"ticks\":\"\",\"zerolinecolor\":\"white\",\"gridwidth\":2}},\"shapedefaults\":{\"line\":{\"color\":\"#2a3f5f\"}},\"annotationdefaults\":{\"arrowcolor\":\"#2a3f5f\",\"arrowhead\":0,\"arrowwidth\":1},\"geo\":{\"bgcolor\":\"white\",\"landcolor\":\"#E5ECF6\",\"subunitcolor\":\"white\",\"showland\":true,\"showlakes\":true,\"lakecolor\":\"white\"},\"title\":{\"x\":0.05},\"mapbox\":{\"style\":\"light\"}}},\"xaxis\":{\"anchor\":\"y\",\"domain\":[0.0,1.0],\"title\":{\"text\":\"time\"}},\"yaxis\":{\"anchor\":\"x\",\"domain\":[0.0,1.0],\"title\":{\"text\":\"capital\"}},\"legend\":{\"tracegroupgap\":0},\"margin\":{\"t\":60}},                        {\"responsive\": true}                    ).then(function(){\n",
       "                            \n",
       "var gd = document.getElementById('756e0afa-4524-4a02-99ae-cc427bcbedd2');\n",
       "var x = new MutationObserver(function (mutations, observer) {{\n",
       "        var display = window.getComputedStyle(gd).display;\n",
       "        if (!display || display === 'none') {{\n",
       "            console.log([gd, 'removed!']);\n",
       "            Plotly.purge(gd);\n",
       "            observer.disconnect();\n",
       "        }}\n",
       "}});\n",
       "\n",
       "// Listen for the removal of the full notebook cells\n",
       "var notebookContainer = gd.closest('#notebook-container');\n",
       "if (notebookContainer) {{\n",
       "    x.observe(notebookContainer, {childList: true});\n",
       "}}\n",
       "\n",
       "// Listen for the clearing of the current output cell\n",
       "var outputEl = gd.closest('.output');\n",
       "if (outputEl) {{\n",
       "    x.observe(outputEl, {childList: true});\n",
       "}}\n",
       "\n",
       "                        })                };                });            </script>        </div>"
      ]
     },
     "metadata": {},
     "output_type": "display_data"
    }
   ],
   "source": [
    "%load_ext autoreload\n",
    "%autoreload 2\n",
    "\n",
    "from exchange_data.data import OrderBookFrame\n",
    "from exchange_data.data.backtest import Backtest\n",
    "import pandas as pd\n",
    "import numpy as np\n",
    "import alog\n",
    "import plotly.graph_objs as go\n",
    "import plotly.express as px\n",
    "import plotly as py\n",
    "import plotly.offline as ofl\n",
    "from plotly.offline import init_notebook_mode\n",
    "\n",
    "init_notebook_mode(connected=True)\n",
    "params = {\n",
    " 'cache': False,\n",
    " 'database_name': 'binance_futures',\n",
    " 'depth': 124,\n",
    " 'futures': False,\n",
    " 'group_by': '7m',\n",
    " 'interval': '1d',\n",
    " 'max_volume_quantile': 0.99,\n",
    " 'offset_interval': '0h',\n",
    " 'plot': False,\n",
    " 'round_decimals': 3,\n",
    " 'sequence_length': 124,\n",
    " 'symbol': 'UNFIUSDT',\n",
    " 'window_size': '4h',\n",
    " 'additional_group_by': '20Min',\n",
    " 'frame_width': 299\n",
    "}\n",
    "\n",
    "df = Backtest(**params).frame\n",
    "capital = 1\n",
    "df['capital'] = 0\n",
    "df_len = df.shape[0]\n",
    "capital_ls = []\n",
    "price_in = 0\n",
    "\n",
    "for ix in range(0, df_len):\n",
    "    if ix < df_len - 1:\n",
    "        row = df.iloc[ix]\n",
    "        #next_row = df.iloc[ix + 1]\n",
    "        best_ask = row['best_ask']\n",
    "        best_bid = row['best_bid']\n",
    "        \n",
    "        if row['prediction'] == 1:\n",
    "            if price_in == 0:\n",
    "                price_in = best_bid\n",
    "        else:\n",
    "            if price_in > 0:\n",
    "                pnl = (price_in - best_ask) / price_in\n",
    "                alog.info((price_in, best_ask, pnl))\n",
    "                capital = capital + (capital * pnl * (1 - 0.005))\n",
    "                \n",
    "            price_in = 0\n",
    "            \n",
    "    #alog.info(capital)\n",
    "    capital_ls.append(capital)\n",
    "\n",
    "df['capital'] = np.asarray(capital_ls)\n",
    "\n",
    "df=df.loc[:, df.columns!='orderbook_img']\n",
    "px.line(df, y='capital')"
   ]
  },
  {
   "cell_type": "code",
   "execution_count": null,
   "id": "b6458677-0e8e-4299-9fe5-4554b9391ef3",
   "metadata": {},
   "outputs": [],
   "source": []
  }
 ],
 "metadata": {
  "kernelspec": {
   "display_name": "Python 3 (ipykernel)",
   "language": "python",
   "name": "python3"
  },
  "language_info": {
   "codemirror_mode": {
    "name": "ipython",
    "version": 3
   },
   "file_extension": ".py",
   "mimetype": "text/x-python",
   "name": "python",
   "nbconvert_exporter": "python",
   "pygments_lexer": "ipython3",
   "version": "3.8.10"
  }
 },
 "nbformat": 4,
 "nbformat_minor": 5
}
