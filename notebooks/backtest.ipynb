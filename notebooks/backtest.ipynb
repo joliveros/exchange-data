{
 "cells": [
  {
   "cell_type": "code",
   "execution_count": 13,
   "id": "ae384a2f",
   "metadata": {},
   "outputs": [
    {
     "name": "stdout",
     "output_type": "stream",
     "text": [
      "The autoreload extension is already loaded. To reload it, use:\n",
      "  %reload_ext autoreload\n"
     ]
    },
    {
     "data": {
      "text/html": [
       "        <script type=\"text/javascript\">\n",
       "        window.PlotlyConfig = {MathJaxConfig: 'local'};\n",
       "        if (window.MathJax && window.MathJax.Hub && window.MathJax.Hub.Config) {window.MathJax.Hub.Config({SVG: {font: \"STIX-Web\"}});}\n",
       "        if (typeof require !== 'undefined') {\n",
       "        require.undef(\"plotly\");\n",
       "        requirejs.config({\n",
       "            paths: {\n",
       "                'plotly': ['https://cdn.plot.ly/plotly-2.25.2.min']\n",
       "            }\n",
       "        });\n",
       "        require(['plotly'], function(Plotly) {\n",
       "            window._Plotly = Plotly;\n",
       "        });\n",
       "        }\n",
       "        </script>\n",
       "        "
      ]
     },
     "metadata": {},
     "output_type": "display_data"
    },
    {
     "name": "stderr",
     "output_type": "stream",
     "text": [
      "2023-11-25 20:32:39 INFO  [data.backtest:21] \n",
      "{'additional_group_by': '10Min',\n",
      " 'cache': False,\n",
      " 'database_name': 'binance_futures',\n",
      " 'depth': 32,\n",
      " 'frame_width': 299,\n",
      " 'futures': False,\n",
      " 'group_by': '1m',\n",
      " 'interval': '3d',\n",
      " 'max_volume_quantile': 0.99,\n",
      " 'offset_interval': '0h',\n",
      " 'plot': False,\n",
      " 'round_decimals': 2,\n",
      " 'sequence_length': 48,\n",
      " 'symbol': 'UNFIUSDT',\n",
      " 'window_size': '1h'}\n",
      "2023-11-25 20:32:39 DEBUG [exchange_data._database:64] SELECT last(*) AS data FROM UNFIUSDT_OrderBookFrame WHERE time >= '2023-11-23 01:44:39.973976' AND time <= '2023-11-23 02:44:39.973976' GROUP BY time(1m);\n",
      "2023-11-25 20:32:40 DEBUG [exchange_data._database:64] SELECT last(*) AS data FROM UNFIUSDT_OrderBookFrame WHERE time >= '2023-11-23 02:44:39.973976' AND time <= '2023-11-23 03:44:39.973976' GROUP BY time(1m);\n",
      "2023-11-25 20:32:40 DEBUG [exchange_data._database:64] SELECT last(*) AS data FROM UNFIUSDT_OrderBookFrame WHERE time >= '2023-11-23 03:44:39.973976' AND time <= '2023-11-23 04:44:39.973976' GROUP BY time(1m);\n",
      "2023-11-25 20:32:40 DEBUG [exchange_data._database:64] SELECT last(*) AS data FROM UNFIUSDT_OrderBookFrame WHERE time >= '2023-11-23 04:44:39.973976' AND time <= '2023-11-23 05:44:39.973976' GROUP BY time(1m);\n",
      "2023-11-25 20:32:40 DEBUG [exchange_data._database:64] SELECT last(*) AS data FROM UNFIUSDT_OrderBookFrame WHERE time >= '2023-11-23 05:44:39.973976' AND time <= '2023-11-23 06:44:39.973976' GROUP BY time(1m);\n",
      "2023-11-25 20:32:40 DEBUG [exchange_data._database:64] SELECT last(*) AS data FROM UNFIUSDT_OrderBookFrame WHERE time >= '2023-11-23 06:44:39.973976' AND time <= '2023-11-23 07:44:39.973976' GROUP BY time(1m);\n",
      "2023-11-25 20:32:41 DEBUG [exchange_data._database:64] SELECT last(*) AS data FROM UNFIUSDT_OrderBookFrame WHERE time >= '2023-11-23 07:44:39.973976' AND time <= '2023-11-23 08:44:39.973976' GROUP BY time(1m);\n",
      "2023-11-25 20:32:41 DEBUG [exchange_data._database:64] SELECT last(*) AS data FROM UNFIUSDT_OrderBookFrame WHERE time >= '2023-11-23 08:44:39.973976' AND time <= '2023-11-23 09:44:39.973976' GROUP BY time(1m);\n",
      "2023-11-25 20:32:41 DEBUG [exchange_data._database:64] SELECT last(*) AS data FROM UNFIUSDT_OrderBookFrame WHERE time >= '2023-11-23 09:44:39.973976' AND time <= '2023-11-23 10:44:39.973976' GROUP BY time(1m);\n",
      "2023-11-25 20:32:41 DEBUG [exchange_data._database:64] SELECT last(*) AS data FROM UNFIUSDT_OrderBookFrame WHERE time >= '2023-11-23 10:44:39.973976' AND time <= '2023-11-23 11:44:39.973976' GROUP BY time(1m);\n",
      "2023-11-25 20:32:41 DEBUG [exchange_data._database:64] SELECT last(*) AS data FROM UNFIUSDT_OrderBookFrame WHERE time >= '2023-11-23 11:44:39.973976' AND time <= '2023-11-23 12:44:39.973976' GROUP BY time(1m);\n",
      "2023-11-25 20:32:41 DEBUG [exchange_data._database:64] SELECT last(*) AS data FROM UNFIUSDT_OrderBookFrame WHERE time >= '2023-11-23 12:44:39.973976' AND time <= '2023-11-23 13:44:39.973976' GROUP BY time(1m);\n",
      "2023-11-25 20:32:42 DEBUG [exchange_data._database:64] SELECT last(*) AS data FROM UNFIUSDT_OrderBookFrame WHERE time >= '2023-11-23 13:44:39.973976' AND time <= '2023-11-23 14:44:39.973976' GROUP BY time(1m);\n",
      "2023-11-25 20:32:42 DEBUG [exchange_data._database:64] SELECT last(*) AS data FROM UNFIUSDT_OrderBookFrame WHERE time >= '2023-11-23 14:44:39.973976' AND time <= '2023-11-23 15:44:39.973976' GROUP BY time(1m);\n",
      "2023-11-25 20:32:42 DEBUG [exchange_data._database:64] SELECT last(*) AS data FROM UNFIUSDT_OrderBookFrame WHERE time >= '2023-11-23 15:44:39.973976' AND time <= '2023-11-23 16:44:39.973976' GROUP BY time(1m);\n",
      "2023-11-25 20:32:42 DEBUG [exchange_data._database:64] SELECT last(*) AS data FROM UNFIUSDT_OrderBookFrame WHERE time >= '2023-11-23 16:44:39.973976' AND time <= '2023-11-23 17:44:39.973976' GROUP BY time(1m);\n",
      "2023-11-25 20:32:42 DEBUG [exchange_data._database:64] SELECT last(*) AS data FROM UNFIUSDT_OrderBookFrame WHERE time >= '2023-11-23 17:44:39.973976' AND time <= '2023-11-23 18:44:39.973976' GROUP BY time(1m);\n",
      "2023-11-25 20:32:43 DEBUG [exchange_data._database:64] SELECT last(*) AS data FROM UNFIUSDT_OrderBookFrame WHERE time >= '2023-11-23 18:44:39.973976' AND time <= '2023-11-23 19:44:39.973976' GROUP BY time(1m);\n",
      "2023-11-25 20:32:43 DEBUG [exchange_data._database:64] SELECT last(*) AS data FROM UNFIUSDT_OrderBookFrame WHERE time >= '2023-11-23 19:44:39.973976' AND time <= '2023-11-23 20:44:39.973976' GROUP BY time(1m);\n",
      "2023-11-25 20:32:43 DEBUG [exchange_data._database:64] SELECT last(*) AS data FROM UNFIUSDT_OrderBookFrame WHERE time >= '2023-11-23 20:44:39.973976' AND time <= '2023-11-23 21:44:39.973976' GROUP BY time(1m);\n",
      "2023-11-25 20:32:43 DEBUG [exchange_data._database:64] SELECT last(*) AS data FROM UNFIUSDT_OrderBookFrame WHERE time >= '2023-11-23 21:44:39.973976' AND time <= '2023-11-23 22:44:39.973976' GROUP BY time(1m);\n",
      "2023-11-25 20:32:43 DEBUG [exchange_data._database:64] SELECT last(*) AS data FROM UNFIUSDT_OrderBookFrame WHERE time >= '2023-11-23 22:44:39.973976' AND time <= '2023-11-23 23:44:39.973976' GROUP BY time(1m);\n",
      "2023-11-25 20:32:44 DEBUG [exchange_data._database:64] SELECT last(*) AS data FROM UNFIUSDT_OrderBookFrame WHERE time >= '2023-11-23 23:44:39.973976' AND time <= '2023-11-24 00:44:39.973976' GROUP BY time(1m);\n",
      "2023-11-25 20:32:44 DEBUG [exchange_data._database:64] SELECT last(*) AS data FROM UNFIUSDT_OrderBookFrame WHERE time >= '2023-11-24 00:44:39.973976' AND time <= '2023-11-24 01:44:39.973976' GROUP BY time(1m);\n",
      "2023-11-25 20:32:44 DEBUG [exchange_data._database:64] SELECT last(*) AS data FROM UNFIUSDT_OrderBookFrame WHERE time >= '2023-11-24 01:44:39.973976' AND time <= '2023-11-24 02:44:39.973976' GROUP BY time(1m);\n",
      "2023-11-25 20:32:44 DEBUG [exchange_data._database:64] SELECT last(*) AS data FROM UNFIUSDT_OrderBookFrame WHERE time >= '2023-11-24 02:44:39.973976' AND time <= '2023-11-24 03:44:39.973976' GROUP BY time(1m);\n",
      "2023-11-25 20:32:44 DEBUG [exchange_data._database:64] SELECT last(*) AS data FROM UNFIUSDT_OrderBookFrame WHERE time >= '2023-11-24 03:44:39.973976' AND time <= '2023-11-24 04:44:39.973976' GROUP BY time(1m);\n",
      "2023-11-25 20:32:44 DEBUG [exchange_data._database:64] SELECT last(*) AS data FROM UNFIUSDT_OrderBookFrame WHERE time >= '2023-11-24 04:44:39.973976' AND time <= '2023-11-24 05:44:39.973976' GROUP BY time(1m);\n",
      "2023-11-25 20:32:45 DEBUG [exchange_data._database:64] SELECT last(*) AS data FROM UNFIUSDT_OrderBookFrame WHERE time >= '2023-11-24 05:44:39.973976' AND time <= '2023-11-24 06:44:39.973976' GROUP BY time(1m);\n",
      "2023-11-25 20:32:45 DEBUG [exchange_data._database:64] SELECT last(*) AS data FROM UNFIUSDT_OrderBookFrame WHERE time >= '2023-11-24 06:44:39.973976' AND time <= '2023-11-24 07:44:39.973976' GROUP BY time(1m);\n",
      "2023-11-25 20:32:45 DEBUG [exchange_data._database:64] SELECT last(*) AS data FROM UNFIUSDT_OrderBookFrame WHERE time >= '2023-11-24 07:44:39.973976' AND time <= '2023-11-24 08:44:39.973976' GROUP BY time(1m);\n",
      "2023-11-25 20:32:45 DEBUG [exchange_data._database:64] SELECT last(*) AS data FROM UNFIUSDT_OrderBookFrame WHERE time >= '2023-11-24 08:44:39.973976' AND time <= '2023-11-24 09:44:39.973976' GROUP BY time(1m);\n",
      "2023-11-25 20:32:45 DEBUG [exchange_data._database:64] SELECT last(*) AS data FROM UNFIUSDT_OrderBookFrame WHERE time >= '2023-11-24 09:44:39.973976' AND time <= '2023-11-24 10:44:39.973976' GROUP BY time(1m);\n",
      "2023-11-25 20:32:45 DEBUG [exchange_data._database:64] SELECT last(*) AS data FROM UNFIUSDT_OrderBookFrame WHERE time >= '2023-11-24 10:44:39.973976' AND time <= '2023-11-24 11:44:39.973976' GROUP BY time(1m);\n",
      "2023-11-25 20:32:46 DEBUG [exchange_data._database:64] SELECT last(*) AS data FROM UNFIUSDT_OrderBookFrame WHERE time >= '2023-11-24 11:44:39.973976' AND time <= '2023-11-24 12:44:39.973976' GROUP BY time(1m);\n",
      "2023-11-25 20:32:46 DEBUG [exchange_data._database:64] SELECT last(*) AS data FROM UNFIUSDT_OrderBookFrame WHERE time >= '2023-11-24 12:44:39.973976' AND time <= '2023-11-24 13:44:39.973976' GROUP BY time(1m);\n",
      "2023-11-25 20:32:46 DEBUG [exchange_data._database:64] SELECT last(*) AS data FROM UNFIUSDT_OrderBookFrame WHERE time >= '2023-11-24 13:44:39.973976' AND time <= '2023-11-24 14:44:39.973976' GROUP BY time(1m);\n",
      "2023-11-25 20:32:46 DEBUG [exchange_data._database:64] SELECT last(*) AS data FROM UNFIUSDT_OrderBookFrame WHERE time >= '2023-11-24 14:44:39.973976' AND time <= '2023-11-24 15:44:39.973976' GROUP BY time(1m);\n",
      "2023-11-25 20:32:46 DEBUG [exchange_data._database:64] SELECT last(*) AS data FROM UNFIUSDT_OrderBookFrame WHERE time >= '2023-11-24 15:44:39.973976' AND time <= '2023-11-24 16:44:39.973976' GROUP BY time(1m);\n",
      "2023-11-25 20:32:47 DEBUG [exchange_data._database:64] SELECT last(*) AS data FROM UNFIUSDT_OrderBookFrame WHERE time >= '2023-11-24 16:44:39.973976' AND time <= '2023-11-24 17:44:39.973976' GROUP BY time(1m);\n",
      "2023-11-25 20:32:47 DEBUG [exchange_data._database:64] SELECT last(*) AS data FROM UNFIUSDT_OrderBookFrame WHERE time >= '2023-11-24 17:44:39.973976' AND time <= '2023-11-24 18:44:39.973976' GROUP BY time(1m);\n",
      "2023-11-25 20:32:47 DEBUG [exchange_data._database:64] SELECT last(*) AS data FROM UNFIUSDT_OrderBookFrame WHERE time >= '2023-11-24 18:44:39.973976' AND time <= '2023-11-24 19:44:39.973976' GROUP BY time(1m);\n",
      "2023-11-25 20:32:47 DEBUG [exchange_data._database:64] SELECT last(*) AS data FROM UNFIUSDT_OrderBookFrame WHERE time >= '2023-11-24 19:44:39.973976' AND time <= '2023-11-24 20:44:39.973976' GROUP BY time(1m);\n",
      "2023-11-25 20:32:47 DEBUG [exchange_data._database:64] SELECT last(*) AS data FROM UNFIUSDT_OrderBookFrame WHERE time >= '2023-11-24 20:44:39.973976' AND time <= '2023-11-24 21:44:39.973976' GROUP BY time(1m);\n",
      "2023-11-25 20:32:47 DEBUG [exchange_data._database:64] SELECT last(*) AS data FROM UNFIUSDT_OrderBookFrame WHERE time >= '2023-11-24 21:44:39.973976' AND time <= '2023-11-24 22:44:39.973976' GROUP BY time(1m);\n",
      "2023-11-25 20:32:48 DEBUG [exchange_data._database:64] SELECT last(*) AS data FROM UNFIUSDT_OrderBookFrame WHERE time >= '2023-11-24 22:44:39.973976' AND time <= '2023-11-24 23:44:39.973976' GROUP BY time(1m);\n",
      "2023-11-25 20:32:48 DEBUG [exchange_data._database:64] SELECT last(*) AS data FROM UNFIUSDT_OrderBookFrame WHERE time >= '2023-11-24 23:44:39.973976' AND time <= '2023-11-25 00:44:39.973976' GROUP BY time(1m);\n",
      "2023-11-25 20:32:48 DEBUG [exchange_data._database:64] SELECT last(*) AS data FROM UNFIUSDT_OrderBookFrame WHERE time >= '2023-11-25 00:44:39.973976' AND time <= '2023-11-25 01:44:39.973976' GROUP BY time(1m);\n",
      "2023-11-25 20:32:48 DEBUG [exchange_data._database:64] SELECT last(*) AS data FROM UNFIUSDT_OrderBookFrame WHERE time >= '2023-11-25 01:44:39.973976' AND time <= '2023-11-25 02:44:39.973976' GROUP BY time(1m);\n",
      "2023-11-25 20:32:48 DEBUG [exchange_data._database:64] SELECT last(*) AS data FROM UNFIUSDT_OrderBookFrame WHERE time >= '2023-11-25 02:44:39.973976' AND time <= '2023-11-25 03:44:39.973976' GROUP BY time(1m);\n",
      "2023-11-25 20:32:48 DEBUG [exchange_data._database:64] SELECT last(*) AS data FROM UNFIUSDT_OrderBookFrame WHERE time >= '2023-11-25 03:44:39.973976' AND time <= '2023-11-25 04:44:39.973976' GROUP BY time(1m);\n",
      "2023-11-25 20:32:49 DEBUG [exchange_data._database:64] SELECT last(*) AS data FROM UNFIUSDT_OrderBookFrame WHERE time >= '2023-11-25 04:44:39.973976' AND time <= '2023-11-25 05:44:39.973976' GROUP BY time(1m);\n",
      "2023-11-25 20:32:49 DEBUG [exchange_data._database:64] SELECT last(*) AS data FROM UNFIUSDT_OrderBookFrame WHERE time >= '2023-11-25 05:44:39.973976' AND time <= '2023-11-25 06:44:39.973976' GROUP BY time(1m);\n",
      "2023-11-25 20:32:49 DEBUG [exchange_data._database:64] SELECT last(*) AS data FROM UNFIUSDT_OrderBookFrame WHERE time >= '2023-11-25 06:44:39.973976' AND time <= '2023-11-25 07:44:39.973976' GROUP BY time(1m);\n",
      "2023-11-25 20:32:49 DEBUG [exchange_data._database:64] SELECT last(*) AS data FROM UNFIUSDT_OrderBookFrame WHERE time >= '2023-11-25 07:44:39.973976' AND time <= '2023-11-25 08:44:39.973976' GROUP BY time(1m);\n",
      "2023-11-25 20:32:49 DEBUG [exchange_data._database:64] SELECT last(*) AS data FROM UNFIUSDT_OrderBookFrame WHERE time >= '2023-11-25 08:44:39.973976' AND time <= '2023-11-25 09:44:39.973976' GROUP BY time(1m);\n",
      "2023-11-25 20:32:49 DEBUG [exchange_data._database:64] SELECT last(*) AS data FROM UNFIUSDT_OrderBookFrame WHERE time >= '2023-11-25 09:44:39.973976' AND time <= '2023-11-25 10:44:39.973976' GROUP BY time(1m);\n",
      "2023-11-25 20:32:50 DEBUG [exchange_data._database:64] SELECT last(*) AS data FROM UNFIUSDT_OrderBookFrame WHERE time >= '2023-11-25 10:44:39.973976' AND time <= '2023-11-25 11:44:39.973976' GROUP BY time(1m);\n",
      "2023-11-25 20:32:50 DEBUG [exchange_data._database:64] SELECT last(*) AS data FROM UNFIUSDT_OrderBookFrame WHERE time >= '2023-11-25 11:44:39.973976' AND time <= '2023-11-25 12:44:39.973976' GROUP BY time(1m);\n",
      "2023-11-25 20:32:50 DEBUG [exchange_data._database:64] SELECT last(*) AS data FROM UNFIUSDT_OrderBookFrame WHERE time >= '2023-11-25 12:44:39.973976' AND time <= '2023-11-25 13:44:39.973976' GROUP BY time(1m);\n",
      "2023-11-25 20:32:50 DEBUG [exchange_data._database:64] SELECT last(*) AS data FROM UNFIUSDT_OrderBookFrame WHERE time >= '2023-11-25 13:44:39.973976' AND time <= '2023-11-25 14:44:39.973976' GROUP BY time(1m);\n",
      "2023-11-25 20:32:50 DEBUG [exchange_data._database:64] SELECT last(*) AS data FROM UNFIUSDT_OrderBookFrame WHERE time >= '2023-11-25 14:44:39.973976' AND time <= '2023-11-25 15:44:39.973976' GROUP BY time(1m);\n",
      "2023-11-25 20:32:51 DEBUG [exchange_data._database:64] SELECT last(*) AS data FROM UNFIUSDT_OrderBookFrame WHERE time >= '2023-11-25 15:44:39.973976' AND time <= '2023-11-25 16:44:39.973976' GROUP BY time(1m);\n",
      "2023-11-25 20:32:51 DEBUG [exchange_data._database:64] SELECT last(*) AS data FROM UNFIUSDT_OrderBookFrame WHERE time >= '2023-11-25 16:44:39.973976' AND time <= '2023-11-25 17:44:39.973976' GROUP BY time(1m);\n",
      "2023-11-25 20:32:51 DEBUG [exchange_data._database:64] SELECT last(*) AS data FROM UNFIUSDT_OrderBookFrame WHERE time >= '2023-11-25 17:44:39.973976' AND time <= '2023-11-25 18:44:39.973976' GROUP BY time(1m);\n",
      "2023-11-25 20:32:51 DEBUG [exchange_data._database:64] SELECT last(*) AS data FROM UNFIUSDT_OrderBookFrame WHERE time >= '2023-11-25 18:44:39.973976' AND time <= '2023-11-25 19:44:39.973976' GROUP BY time(1m);\n",
      "2023-11-25 20:32:51 DEBUG [exchange_data._database:64] SELECT last(*) AS data FROM UNFIUSDT_OrderBookFrame WHERE time >= '2023-11-25 19:44:39.973976' AND time <= '2023-11-25 20:44:39.973976' GROUP BY time(1m);\n",
      "2023-11-25 20:32:52 DEBUG [exchange_data._database:64] SELECT last(*) AS data FROM UNFIUSDT_OrderBookFrame WHERE time >= '2023-11-25 20:44:39.973976' AND time <= '2023-11-25 21:44:39.973976' GROUP BY time(1m);\n",
      "2023-11-25 20:32:52 DEBUG [exchange_data._database:64] SELECT last(*) AS data FROM UNFIUSDT_OrderBookFrame WHERE time >= '2023-11-25 21:44:39.973976' AND time <= '2023-11-25 22:44:39.973976' GROUP BY time(1m);\n",
      "2023-11-25 20:32:52 DEBUG [exchange_data._database:64] SELECT last(*) AS data FROM UNFIUSDT_OrderBookFrame WHERE time >= '2023-11-25 22:44:39.973976' AND time <= '2023-11-25 23:44:39.973976' GROUP BY time(1m);\n",
      "2023-11-25 20:32:52 DEBUG [exchange_data._database:64] SELECT last(*) AS data FROM UNFIUSDT_OrderBookFrame WHERE time >= '2023-11-25 23:44:39.973976' AND time <= '2023-11-26 00:44:39.973976' GROUP BY time(1m);\n",
      "2023-11-25 20:32:52 DEBUG [exchange_data._database:64] SELECT last(*) AS data FROM UNFIUSDT_OrderBookFrame WHERE time >= '2023-11-26 00:44:39.973976' AND time <= '2023-11-26 01:44:39.973976' GROUP BY time(1m);\n",
      "2023-11-25 20:32:52 DEBUG [exchange_data._database:64] SELECT last(*) AS data FROM UNFIUSDT_OrderBookFrame WHERE time >= '2023-11-26 01:44:39.973976' AND time <= '2023-11-26 02:44:39.973976' GROUP BY time(1m);\n",
      "/home/joliveros/.pyenv/versions/3.8.10/envs/exchange-data/lib/python3.8/site-packages/transformers/models/vit/feature_extraction_vit.py:28: FutureWarning:\n",
      "\n",
      "The class ViTFeatureExtractor is deprecated and will be removed in version 5 of Transformers. Please use ViTImageProcessor instead.\n",
      "\n",
      "2023-11-25 20:43:43 INFO  [data.backtest:38] /home/joliveros/codequants/exchange-data/vit_output/pretrained\n"
     ]
    }
   ],
   "source": [
    "%load_ext autoreload\n",
    "%autoreload 2\n",
    "\n",
    "from exchange_data.data import OrderBookFrame\n",
    "from exchange_data.data.backtest import Backtest\n",
    "import pandas as pd\n",
    "import numpy as np\n",
    "import alog\n",
    "import plotly.graph_objs as go\n",
    "import plotly.express as px\n",
    "import plotly as py\n",
    "import plotly.offline as ofl\n",
    "from plotly.offline import init_notebook_mode\n",
    "\n",
    "init_notebook_mode(connected=True)\n",
    "params = {\n",
    " 'cache': False,\n",
    " 'database_name': 'binance_futures',\n",
    " 'depth': 32,\n",
    " 'futures': False,\n",
    " 'group_by': '1m',\n",
    " 'interval': '3d',\n",
    " 'max_volume_quantile': 0.99,\n",
    " 'offset_interval': '0h',\n",
    " 'plot': False,\n",
    " 'round_decimals': 2,\n",
    " 'sequence_length': 48,\n",
    " 'symbol': 'UNFIUSDT',\n",
    " 'window_size': '1h',\n",
    " 'additional_group_by': '10Min',\n",
    " 'frame_width': 299\n",
    "}\n",
    "\n",
    "df = Backtest(**params).frame"
   ]
  },
  {
   "cell_type": "code",
   "execution_count": 14,
   "id": "db26c891-264b-4267-b40d-d758edd73499",
   "metadata": {
    "scrolled": true
   },
   "outputs": [
    {
     "data": {
      "text/html": [
       "<div>\n",
       "<style scoped>\n",
       "    .dataframe tbody tr th:only-of-type {\n",
       "        vertical-align: middle;\n",
       "    }\n",
       "\n",
       "    .dataframe tbody tr th {\n",
       "        vertical-align: top;\n",
       "    }\n",
       "\n",
       "    .dataframe thead th {\n",
       "        text-align: right;\n",
       "    }\n",
       "</style>\n",
       "<table border=\"1\" class=\"dataframe\">\n",
       "  <thead>\n",
       "    <tr style=\"text-align: right;\">\n",
       "      <th></th>\n",
       "      <th>best_ask</th>\n",
       "      <th>best_bid</th>\n",
       "      <th>prediction</th>\n",
       "    </tr>\n",
       "    <tr>\n",
       "      <th>time</th>\n",
       "      <th></th>\n",
       "      <th></th>\n",
       "      <th></th>\n",
       "    </tr>\n",
       "  </thead>\n",
       "  <tbody>\n",
       "    <tr>\n",
       "      <th>2023-11-23 02:30:00+00:00</th>\n",
       "      <td>10.726562</td>\n",
       "      <td>10.718750</td>\n",
       "      <td>0</td>\n",
       "    </tr>\n",
       "    <tr>\n",
       "      <th>2023-11-23 02:40:00+00:00</th>\n",
       "      <td>10.679688</td>\n",
       "      <td>10.679688</td>\n",
       "      <td>0</td>\n",
       "    </tr>\n",
       "    <tr>\n",
       "      <th>2023-11-23 02:50:00+00:00</th>\n",
       "      <td>10.671875</td>\n",
       "      <td>10.671875</td>\n",
       "      <td>0</td>\n",
       "    </tr>\n",
       "    <tr>\n",
       "      <th>2023-11-23 03:00:00+00:00</th>\n",
       "      <td>10.757812</td>\n",
       "      <td>10.757812</td>\n",
       "      <td>0</td>\n",
       "    </tr>\n",
       "    <tr>\n",
       "      <th>2023-11-23 03:10:00+00:00</th>\n",
       "      <td>10.843750</td>\n",
       "      <td>10.843750</td>\n",
       "      <td>0</td>\n",
       "    </tr>\n",
       "    <tr>\n",
       "      <th>...</th>\n",
       "      <td>...</td>\n",
       "      <td>...</td>\n",
       "      <td>...</td>\n",
       "    </tr>\n",
       "    <tr>\n",
       "      <th>2023-11-26 01:50:00+00:00</th>\n",
       "      <td>13.539062</td>\n",
       "      <td>13.539062</td>\n",
       "      <td>0</td>\n",
       "    </tr>\n",
       "    <tr>\n",
       "      <th>2023-11-26 02:00:00+00:00</th>\n",
       "      <td>13.484375</td>\n",
       "      <td>13.484375</td>\n",
       "      <td>0</td>\n",
       "    </tr>\n",
       "    <tr>\n",
       "      <th>2023-11-26 02:10:00+00:00</th>\n",
       "      <td>13.546875</td>\n",
       "      <td>13.546875</td>\n",
       "      <td>0</td>\n",
       "    </tr>\n",
       "    <tr>\n",
       "      <th>2023-11-26 02:20:00+00:00</th>\n",
       "      <td>13.507812</td>\n",
       "      <td>13.507812</td>\n",
       "      <td>0</td>\n",
       "    </tr>\n",
       "    <tr>\n",
       "      <th>2023-11-26 02:30:00+00:00</th>\n",
       "      <td>13.460938</td>\n",
       "      <td>13.453125</td>\n",
       "      <td>0</td>\n",
       "    </tr>\n",
       "  </tbody>\n",
       "</table>\n",
       "<p>433 rows × 3 columns</p>\n",
       "</div>"
      ],
      "text/plain": [
       "                            best_ask   best_bid  prediction\n",
       "time                                                       \n",
       "2023-11-23 02:30:00+00:00  10.726562  10.718750           0\n",
       "2023-11-23 02:40:00+00:00  10.679688  10.679688           0\n",
       "2023-11-23 02:50:00+00:00  10.671875  10.671875           0\n",
       "2023-11-23 03:00:00+00:00  10.757812  10.757812           0\n",
       "2023-11-23 03:10:00+00:00  10.843750  10.843750           0\n",
       "...                              ...        ...         ...\n",
       "2023-11-26 01:50:00+00:00  13.539062  13.539062           0\n",
       "2023-11-26 02:00:00+00:00  13.484375  13.484375           0\n",
       "2023-11-26 02:10:00+00:00  13.546875  13.546875           0\n",
       "2023-11-26 02:20:00+00:00  13.507812  13.507812           0\n",
       "2023-11-26 02:30:00+00:00  13.460938  13.453125           0\n",
       "\n",
       "[433 rows x 3 columns]"
      ]
     },
     "execution_count": 14,
     "metadata": {},
     "output_type": "execute_result"
    }
   ],
   "source": [
    "df=df.loc[:, df.columns!='orderbook_img']\n",
    "df"
   ]
  },
  {
   "cell_type": "code",
   "execution_count": 15,
   "id": "ca30bc96-248e-4626-87c2-554d95b73394",
   "metadata": {},
   "outputs": [
    {
     "data": {
      "text/html": [
       "<div>\n",
       "<style scoped>\n",
       "    .dataframe tbody tr th:only-of-type {\n",
       "        vertical-align: middle;\n",
       "    }\n",
       "\n",
       "    .dataframe tbody tr th {\n",
       "        vertical-align: top;\n",
       "    }\n",
       "\n",
       "    .dataframe thead th {\n",
       "        text-align: right;\n",
       "    }\n",
       "</style>\n",
       "<table border=\"1\" class=\"dataframe\">\n",
       "  <thead>\n",
       "    <tr style=\"text-align: right;\">\n",
       "      <th></th>\n",
       "      <th>best_ask</th>\n",
       "      <th>best_bid</th>\n",
       "      <th>prediction</th>\n",
       "      <th>capital</th>\n",
       "    </tr>\n",
       "    <tr>\n",
       "      <th>time</th>\n",
       "      <th></th>\n",
       "      <th></th>\n",
       "      <th></th>\n",
       "      <th></th>\n",
       "    </tr>\n",
       "  </thead>\n",
       "  <tbody>\n",
       "    <tr>\n",
       "      <th>2023-11-23 02:30:00+00:00</th>\n",
       "      <td>10.726562</td>\n",
       "      <td>10.718750</td>\n",
       "      <td>0</td>\n",
       "      <td>1</td>\n",
       "    </tr>\n",
       "    <tr>\n",
       "      <th>2023-11-23 02:40:00+00:00</th>\n",
       "      <td>10.679688</td>\n",
       "      <td>10.679688</td>\n",
       "      <td>0</td>\n",
       "      <td>1</td>\n",
       "    </tr>\n",
       "    <tr>\n",
       "      <th>2023-11-23 02:50:00+00:00</th>\n",
       "      <td>10.671875</td>\n",
       "      <td>10.671875</td>\n",
       "      <td>0</td>\n",
       "      <td>1</td>\n",
       "    </tr>\n",
       "    <tr>\n",
       "      <th>2023-11-23 03:00:00+00:00</th>\n",
       "      <td>10.757812</td>\n",
       "      <td>10.757812</td>\n",
       "      <td>0</td>\n",
       "      <td>1</td>\n",
       "    </tr>\n",
       "    <tr>\n",
       "      <th>2023-11-23 03:10:00+00:00</th>\n",
       "      <td>10.843750</td>\n",
       "      <td>10.843750</td>\n",
       "      <td>0</td>\n",
       "      <td>1</td>\n",
       "    </tr>\n",
       "    <tr>\n",
       "      <th>...</th>\n",
       "      <td>...</td>\n",
       "      <td>...</td>\n",
       "      <td>...</td>\n",
       "      <td>...</td>\n",
       "    </tr>\n",
       "    <tr>\n",
       "      <th>2023-11-26 01:50:00+00:00</th>\n",
       "      <td>13.539062</td>\n",
       "      <td>13.539062</td>\n",
       "      <td>0</td>\n",
       "      <td>1</td>\n",
       "    </tr>\n",
       "    <tr>\n",
       "      <th>2023-11-26 02:00:00+00:00</th>\n",
       "      <td>13.484375</td>\n",
       "      <td>13.484375</td>\n",
       "      <td>0</td>\n",
       "      <td>1</td>\n",
       "    </tr>\n",
       "    <tr>\n",
       "      <th>2023-11-26 02:10:00+00:00</th>\n",
       "      <td>13.546875</td>\n",
       "      <td>13.546875</td>\n",
       "      <td>0</td>\n",
       "      <td>1</td>\n",
       "    </tr>\n",
       "    <tr>\n",
       "      <th>2023-11-26 02:20:00+00:00</th>\n",
       "      <td>13.507812</td>\n",
       "      <td>13.507812</td>\n",
       "      <td>0</td>\n",
       "      <td>1</td>\n",
       "    </tr>\n",
       "    <tr>\n",
       "      <th>2023-11-26 02:30:00+00:00</th>\n",
       "      <td>13.460938</td>\n",
       "      <td>13.453125</td>\n",
       "      <td>0</td>\n",
       "      <td>1</td>\n",
       "    </tr>\n",
       "  </tbody>\n",
       "</table>\n",
       "<p>433 rows × 4 columns</p>\n",
       "</div>"
      ],
      "text/plain": [
       "                            best_ask   best_bid  prediction  capital\n",
       "time                                                                \n",
       "2023-11-23 02:30:00+00:00  10.726562  10.718750           0        1\n",
       "2023-11-23 02:40:00+00:00  10.679688  10.679688           0        1\n",
       "2023-11-23 02:50:00+00:00  10.671875  10.671875           0        1\n",
       "2023-11-23 03:00:00+00:00  10.757812  10.757812           0        1\n",
       "2023-11-23 03:10:00+00:00  10.843750  10.843750           0        1\n",
       "...                              ...        ...         ...      ...\n",
       "2023-11-26 01:50:00+00:00  13.539062  13.539062           0        1\n",
       "2023-11-26 02:00:00+00:00  13.484375  13.484375           0        1\n",
       "2023-11-26 02:10:00+00:00  13.546875  13.546875           0        1\n",
       "2023-11-26 02:20:00+00:00  13.507812  13.507812           0        1\n",
       "2023-11-26 02:30:00+00:00  13.460938  13.453125           0        1\n",
       "\n",
       "[433 rows x 4 columns]"
      ]
     },
     "execution_count": 15,
     "metadata": {},
     "output_type": "execute_result"
    }
   ],
   "source": [
    "capital = 1\n",
    "df['capital'] = 0\n",
    "df_len = df.shape[0]\n",
    "capital_ls = []\n",
    "price_in = None\n",
    "\n",
    "for ix in range(0, df_len):\n",
    "    if ix < df_len - 1:\n",
    "        row = df.iloc[ix]\n",
    "        next_row = df.iloc[ix + 1]\n",
    "        best_ask = row['best_ask']\n",
    "        \n",
    "        if row['prediction'] == 1:\n",
    "            if price_in == None:\n",
    "                price_in = row['best_bid']\n",
    "        else:\n",
    "            if price_in:\n",
    "                pnl = (best_ask - price_in) / price_in\n",
    "                capital = capital + (capital * pnl)\n",
    "                \n",
    "            price_in = None\n",
    "            \n",
    "    #alog.info(capital)\n",
    "    capital_ls.append(capital)\n",
    "\n",
    "df['capital'] = np.asarray(capital_ls)\n",
    "\n",
    "df"
   ]
  },
  {
   "cell_type": "code",
   "execution_count": 16,
   "id": "a7e1ca1b-723c-4a0a-9221-9b1851dcfe55",
   "metadata": {},
   "outputs": [
    {
     "data": {
      "application/vnd.plotly.v1+json": {
       "config": {
        "plotlyServerURL": "https://plot.ly"
       },
       "data": [
        {
         "hovertemplate": "time=%{x}<br>capital=%{y}<extra></extra>",
         "legendgroup": "",
         "line": {
          "color": "#636efa",
          "dash": "solid"
         },
         "marker": {
          "symbol": "circle"
         },
         "mode": "lines",
         "name": "",
         "orientation": "v",
         "showlegend": false,
         "type": "scatter",
         "x": [
          "2023-11-23T02:30:00+00:00",
          "2023-11-23T02:40:00+00:00",
          "2023-11-23T02:50:00+00:00",
          "2023-11-23T03:00:00+00:00",
          "2023-11-23T03:10:00+00:00",
          "2023-11-23T03:20:00+00:00",
          "2023-11-23T03:30:00+00:00",
          "2023-11-23T03:40:00+00:00",
          "2023-11-23T03:50:00+00:00",
          "2023-11-23T04:00:00+00:00",
          "2023-11-23T04:10:00+00:00",
          "2023-11-23T04:20:00+00:00",
          "2023-11-23T04:30:00+00:00",
          "2023-11-23T04:40:00+00:00",
          "2023-11-23T04:50:00+00:00",
          "2023-11-23T05:00:00+00:00",
          "2023-11-23T05:10:00+00:00",
          "2023-11-23T05:20:00+00:00",
          "2023-11-23T05:30:00+00:00",
          "2023-11-23T05:40:00+00:00",
          "2023-11-23T05:50:00+00:00",
          "2023-11-23T06:00:00+00:00",
          "2023-11-23T06:10:00+00:00",
          "2023-11-23T06:20:00+00:00",
          "2023-11-23T06:30:00+00:00",
          "2023-11-23T06:40:00+00:00",
          "2023-11-23T06:50:00+00:00",
          "2023-11-23T07:00:00+00:00",
          "2023-11-23T07:10:00+00:00",
          "2023-11-23T07:20:00+00:00",
          "2023-11-23T07:30:00+00:00",
          "2023-11-23T07:40:00+00:00",
          "2023-11-23T07:50:00+00:00",
          "2023-11-23T08:00:00+00:00",
          "2023-11-23T08:10:00+00:00",
          "2023-11-23T08:20:00+00:00",
          "2023-11-23T08:30:00+00:00",
          "2023-11-23T08:40:00+00:00",
          "2023-11-23T08:50:00+00:00",
          "2023-11-23T09:00:00+00:00",
          "2023-11-23T09:10:00+00:00",
          "2023-11-23T09:20:00+00:00",
          "2023-11-23T09:30:00+00:00",
          "2023-11-23T09:40:00+00:00",
          "2023-11-23T09:50:00+00:00",
          "2023-11-23T10:00:00+00:00",
          "2023-11-23T10:10:00+00:00",
          "2023-11-23T10:20:00+00:00",
          "2023-11-23T10:30:00+00:00",
          "2023-11-23T10:40:00+00:00",
          "2023-11-23T10:50:00+00:00",
          "2023-11-23T11:00:00+00:00",
          "2023-11-23T11:10:00+00:00",
          "2023-11-23T11:20:00+00:00",
          "2023-11-23T11:30:00+00:00",
          "2023-11-23T11:40:00+00:00",
          "2023-11-23T11:50:00+00:00",
          "2023-11-23T12:00:00+00:00",
          "2023-11-23T12:10:00+00:00",
          "2023-11-23T12:20:00+00:00",
          "2023-11-23T12:30:00+00:00",
          "2023-11-23T12:40:00+00:00",
          "2023-11-23T12:50:00+00:00",
          "2023-11-23T13:00:00+00:00",
          "2023-11-23T13:10:00+00:00",
          "2023-11-23T13:20:00+00:00",
          "2023-11-23T13:30:00+00:00",
          "2023-11-23T13:40:00+00:00",
          "2023-11-23T13:50:00+00:00",
          "2023-11-23T14:00:00+00:00",
          "2023-11-23T14:10:00+00:00",
          "2023-11-23T14:20:00+00:00",
          "2023-11-23T14:30:00+00:00",
          "2023-11-23T14:40:00+00:00",
          "2023-11-23T14:50:00+00:00",
          "2023-11-23T15:00:00+00:00",
          "2023-11-23T15:10:00+00:00",
          "2023-11-23T15:20:00+00:00",
          "2023-11-23T15:30:00+00:00",
          "2023-11-23T15:40:00+00:00",
          "2023-11-23T15:50:00+00:00",
          "2023-11-23T16:00:00+00:00",
          "2023-11-23T16:10:00+00:00",
          "2023-11-23T16:20:00+00:00",
          "2023-11-23T16:30:00+00:00",
          "2023-11-23T16:40:00+00:00",
          "2023-11-23T16:50:00+00:00",
          "2023-11-23T17:00:00+00:00",
          "2023-11-23T17:10:00+00:00",
          "2023-11-23T17:20:00+00:00",
          "2023-11-23T17:30:00+00:00",
          "2023-11-23T17:40:00+00:00",
          "2023-11-23T17:50:00+00:00",
          "2023-11-23T18:00:00+00:00",
          "2023-11-23T18:10:00+00:00",
          "2023-11-23T18:20:00+00:00",
          "2023-11-23T18:30:00+00:00",
          "2023-11-23T18:40:00+00:00",
          "2023-11-23T18:50:00+00:00",
          "2023-11-23T19:00:00+00:00",
          "2023-11-23T19:10:00+00:00",
          "2023-11-23T19:20:00+00:00",
          "2023-11-23T19:30:00+00:00",
          "2023-11-23T19:40:00+00:00",
          "2023-11-23T19:50:00+00:00",
          "2023-11-23T20:00:00+00:00",
          "2023-11-23T20:10:00+00:00",
          "2023-11-23T20:20:00+00:00",
          "2023-11-23T20:30:00+00:00",
          "2023-11-23T20:40:00+00:00",
          "2023-11-23T20:50:00+00:00",
          "2023-11-23T21:00:00+00:00",
          "2023-11-23T21:10:00+00:00",
          "2023-11-23T21:20:00+00:00",
          "2023-11-23T21:30:00+00:00",
          "2023-11-23T21:40:00+00:00",
          "2023-11-23T21:50:00+00:00",
          "2023-11-23T22:00:00+00:00",
          "2023-11-23T22:10:00+00:00",
          "2023-11-23T22:20:00+00:00",
          "2023-11-23T22:30:00+00:00",
          "2023-11-23T22:40:00+00:00",
          "2023-11-23T22:50:00+00:00",
          "2023-11-23T23:00:00+00:00",
          "2023-11-23T23:10:00+00:00",
          "2023-11-23T23:20:00+00:00",
          "2023-11-23T23:30:00+00:00",
          "2023-11-23T23:40:00+00:00",
          "2023-11-23T23:50:00+00:00",
          "2023-11-24T00:00:00+00:00",
          "2023-11-24T00:10:00+00:00",
          "2023-11-24T00:20:00+00:00",
          "2023-11-24T00:30:00+00:00",
          "2023-11-24T00:40:00+00:00",
          "2023-11-24T00:50:00+00:00",
          "2023-11-24T01:00:00+00:00",
          "2023-11-24T01:10:00+00:00",
          "2023-11-24T01:20:00+00:00",
          "2023-11-24T01:30:00+00:00",
          "2023-11-24T01:40:00+00:00",
          "2023-11-24T01:50:00+00:00",
          "2023-11-24T02:00:00+00:00",
          "2023-11-24T02:10:00+00:00",
          "2023-11-24T02:20:00+00:00",
          "2023-11-24T02:30:00+00:00",
          "2023-11-24T02:40:00+00:00",
          "2023-11-24T02:50:00+00:00",
          "2023-11-24T03:00:00+00:00",
          "2023-11-24T03:10:00+00:00",
          "2023-11-24T03:20:00+00:00",
          "2023-11-24T03:30:00+00:00",
          "2023-11-24T03:40:00+00:00",
          "2023-11-24T03:50:00+00:00",
          "2023-11-24T04:00:00+00:00",
          "2023-11-24T04:10:00+00:00",
          "2023-11-24T04:20:00+00:00",
          "2023-11-24T04:30:00+00:00",
          "2023-11-24T04:40:00+00:00",
          "2023-11-24T04:50:00+00:00",
          "2023-11-24T05:00:00+00:00",
          "2023-11-24T05:10:00+00:00",
          "2023-11-24T05:20:00+00:00",
          "2023-11-24T05:30:00+00:00",
          "2023-11-24T05:40:00+00:00",
          "2023-11-24T05:50:00+00:00",
          "2023-11-24T06:00:00+00:00",
          "2023-11-24T06:10:00+00:00",
          "2023-11-24T06:20:00+00:00",
          "2023-11-24T06:30:00+00:00",
          "2023-11-24T06:40:00+00:00",
          "2023-11-24T06:50:00+00:00",
          "2023-11-24T07:00:00+00:00",
          "2023-11-24T07:10:00+00:00",
          "2023-11-24T07:20:00+00:00",
          "2023-11-24T07:30:00+00:00",
          "2023-11-24T07:40:00+00:00",
          "2023-11-24T07:50:00+00:00",
          "2023-11-24T08:00:00+00:00",
          "2023-11-24T08:10:00+00:00",
          "2023-11-24T08:20:00+00:00",
          "2023-11-24T08:30:00+00:00",
          "2023-11-24T08:40:00+00:00",
          "2023-11-24T08:50:00+00:00",
          "2023-11-24T09:00:00+00:00",
          "2023-11-24T09:10:00+00:00",
          "2023-11-24T09:20:00+00:00",
          "2023-11-24T09:30:00+00:00",
          "2023-11-24T09:40:00+00:00",
          "2023-11-24T09:50:00+00:00",
          "2023-11-24T10:00:00+00:00",
          "2023-11-24T10:10:00+00:00",
          "2023-11-24T10:20:00+00:00",
          "2023-11-24T10:30:00+00:00",
          "2023-11-24T10:40:00+00:00",
          "2023-11-24T10:50:00+00:00",
          "2023-11-24T11:00:00+00:00",
          "2023-11-24T11:10:00+00:00",
          "2023-11-24T11:20:00+00:00",
          "2023-11-24T11:30:00+00:00",
          "2023-11-24T11:40:00+00:00",
          "2023-11-24T11:50:00+00:00",
          "2023-11-24T12:00:00+00:00",
          "2023-11-24T12:10:00+00:00",
          "2023-11-24T12:20:00+00:00",
          "2023-11-24T12:30:00+00:00",
          "2023-11-24T12:40:00+00:00",
          "2023-11-24T12:50:00+00:00",
          "2023-11-24T13:00:00+00:00",
          "2023-11-24T13:10:00+00:00",
          "2023-11-24T13:20:00+00:00",
          "2023-11-24T13:30:00+00:00",
          "2023-11-24T13:40:00+00:00",
          "2023-11-24T13:50:00+00:00",
          "2023-11-24T14:00:00+00:00",
          "2023-11-24T14:10:00+00:00",
          "2023-11-24T14:20:00+00:00",
          "2023-11-24T14:30:00+00:00",
          "2023-11-24T14:40:00+00:00",
          "2023-11-24T14:50:00+00:00",
          "2023-11-24T15:00:00+00:00",
          "2023-11-24T15:10:00+00:00",
          "2023-11-24T15:20:00+00:00",
          "2023-11-24T15:30:00+00:00",
          "2023-11-24T15:40:00+00:00",
          "2023-11-24T15:50:00+00:00",
          "2023-11-24T16:00:00+00:00",
          "2023-11-24T16:10:00+00:00",
          "2023-11-24T16:20:00+00:00",
          "2023-11-24T16:30:00+00:00",
          "2023-11-24T16:40:00+00:00",
          "2023-11-24T16:50:00+00:00",
          "2023-11-24T17:00:00+00:00",
          "2023-11-24T17:10:00+00:00",
          "2023-11-24T17:20:00+00:00",
          "2023-11-24T17:30:00+00:00",
          "2023-11-24T17:40:00+00:00",
          "2023-11-24T17:50:00+00:00",
          "2023-11-24T18:00:00+00:00",
          "2023-11-24T18:10:00+00:00",
          "2023-11-24T18:20:00+00:00",
          "2023-11-24T18:30:00+00:00",
          "2023-11-24T18:40:00+00:00",
          "2023-11-24T18:50:00+00:00",
          "2023-11-24T19:00:00+00:00",
          "2023-11-24T19:10:00+00:00",
          "2023-11-24T19:20:00+00:00",
          "2023-11-24T19:30:00+00:00",
          "2023-11-24T19:40:00+00:00",
          "2023-11-24T19:50:00+00:00",
          "2023-11-24T20:00:00+00:00",
          "2023-11-24T20:10:00+00:00",
          "2023-11-24T20:20:00+00:00",
          "2023-11-24T20:30:00+00:00",
          "2023-11-24T20:40:00+00:00",
          "2023-11-24T20:50:00+00:00",
          "2023-11-24T21:00:00+00:00",
          "2023-11-24T21:10:00+00:00",
          "2023-11-24T21:20:00+00:00",
          "2023-11-24T21:30:00+00:00",
          "2023-11-24T21:40:00+00:00",
          "2023-11-24T21:50:00+00:00",
          "2023-11-24T22:00:00+00:00",
          "2023-11-24T22:10:00+00:00",
          "2023-11-24T22:20:00+00:00",
          "2023-11-24T22:30:00+00:00",
          "2023-11-24T22:40:00+00:00",
          "2023-11-24T22:50:00+00:00",
          "2023-11-24T23:00:00+00:00",
          "2023-11-24T23:10:00+00:00",
          "2023-11-24T23:20:00+00:00",
          "2023-11-24T23:30:00+00:00",
          "2023-11-24T23:40:00+00:00",
          "2023-11-24T23:50:00+00:00",
          "2023-11-25T00:00:00+00:00",
          "2023-11-25T00:10:00+00:00",
          "2023-11-25T00:20:00+00:00",
          "2023-11-25T00:30:00+00:00",
          "2023-11-25T00:40:00+00:00",
          "2023-11-25T00:50:00+00:00",
          "2023-11-25T01:00:00+00:00",
          "2023-11-25T01:10:00+00:00",
          "2023-11-25T01:20:00+00:00",
          "2023-11-25T01:30:00+00:00",
          "2023-11-25T01:40:00+00:00",
          "2023-11-25T01:50:00+00:00",
          "2023-11-25T02:00:00+00:00",
          "2023-11-25T02:10:00+00:00",
          "2023-11-25T02:20:00+00:00",
          "2023-11-25T02:30:00+00:00",
          "2023-11-25T02:40:00+00:00",
          "2023-11-25T02:50:00+00:00",
          "2023-11-25T03:00:00+00:00",
          "2023-11-25T03:10:00+00:00",
          "2023-11-25T03:20:00+00:00",
          "2023-11-25T03:30:00+00:00",
          "2023-11-25T03:40:00+00:00",
          "2023-11-25T03:50:00+00:00",
          "2023-11-25T04:00:00+00:00",
          "2023-11-25T04:10:00+00:00",
          "2023-11-25T04:20:00+00:00",
          "2023-11-25T04:30:00+00:00",
          "2023-11-25T04:40:00+00:00",
          "2023-11-25T04:50:00+00:00",
          "2023-11-25T05:00:00+00:00",
          "2023-11-25T05:10:00+00:00",
          "2023-11-25T05:20:00+00:00",
          "2023-11-25T05:30:00+00:00",
          "2023-11-25T05:40:00+00:00",
          "2023-11-25T05:50:00+00:00",
          "2023-11-25T06:00:00+00:00",
          "2023-11-25T06:10:00+00:00",
          "2023-11-25T06:20:00+00:00",
          "2023-11-25T06:30:00+00:00",
          "2023-11-25T06:40:00+00:00",
          "2023-11-25T06:50:00+00:00",
          "2023-11-25T07:00:00+00:00",
          "2023-11-25T07:10:00+00:00",
          "2023-11-25T07:20:00+00:00",
          "2023-11-25T07:30:00+00:00",
          "2023-11-25T07:40:00+00:00",
          "2023-11-25T07:50:00+00:00",
          "2023-11-25T08:00:00+00:00",
          "2023-11-25T08:10:00+00:00",
          "2023-11-25T08:20:00+00:00",
          "2023-11-25T08:30:00+00:00",
          "2023-11-25T08:40:00+00:00",
          "2023-11-25T08:50:00+00:00",
          "2023-11-25T09:00:00+00:00",
          "2023-11-25T09:10:00+00:00",
          "2023-11-25T09:20:00+00:00",
          "2023-11-25T09:30:00+00:00",
          "2023-11-25T09:40:00+00:00",
          "2023-11-25T09:50:00+00:00",
          "2023-11-25T10:00:00+00:00",
          "2023-11-25T10:10:00+00:00",
          "2023-11-25T10:20:00+00:00",
          "2023-11-25T10:30:00+00:00",
          "2023-11-25T10:40:00+00:00",
          "2023-11-25T10:50:00+00:00",
          "2023-11-25T11:00:00+00:00",
          "2023-11-25T11:10:00+00:00",
          "2023-11-25T11:20:00+00:00",
          "2023-11-25T11:30:00+00:00",
          "2023-11-25T11:40:00+00:00",
          "2023-11-25T11:50:00+00:00",
          "2023-11-25T12:00:00+00:00",
          "2023-11-25T12:10:00+00:00",
          "2023-11-25T12:20:00+00:00",
          "2023-11-25T12:30:00+00:00",
          "2023-11-25T12:40:00+00:00",
          "2023-11-25T12:50:00+00:00",
          "2023-11-25T13:00:00+00:00",
          "2023-11-25T13:10:00+00:00",
          "2023-11-25T13:20:00+00:00",
          "2023-11-25T13:30:00+00:00",
          "2023-11-25T13:40:00+00:00",
          "2023-11-25T13:50:00+00:00",
          "2023-11-25T14:00:00+00:00",
          "2023-11-25T14:10:00+00:00",
          "2023-11-25T14:20:00+00:00",
          "2023-11-25T14:30:00+00:00",
          "2023-11-25T14:40:00+00:00",
          "2023-11-25T14:50:00+00:00",
          "2023-11-25T15:00:00+00:00",
          "2023-11-25T15:10:00+00:00",
          "2023-11-25T15:20:00+00:00",
          "2023-11-25T15:30:00+00:00",
          "2023-11-25T15:40:00+00:00",
          "2023-11-25T15:50:00+00:00",
          "2023-11-25T16:00:00+00:00",
          "2023-11-25T16:10:00+00:00",
          "2023-11-25T16:20:00+00:00",
          "2023-11-25T16:30:00+00:00",
          "2023-11-25T16:40:00+00:00",
          "2023-11-25T16:50:00+00:00",
          "2023-11-25T17:00:00+00:00",
          "2023-11-25T17:10:00+00:00",
          "2023-11-25T17:20:00+00:00",
          "2023-11-25T17:30:00+00:00",
          "2023-11-25T17:40:00+00:00",
          "2023-11-25T17:50:00+00:00",
          "2023-11-25T18:00:00+00:00",
          "2023-11-25T18:10:00+00:00",
          "2023-11-25T18:20:00+00:00",
          "2023-11-25T18:30:00+00:00",
          "2023-11-25T18:40:00+00:00",
          "2023-11-25T18:50:00+00:00",
          "2023-11-25T19:00:00+00:00",
          "2023-11-25T19:10:00+00:00",
          "2023-11-25T19:20:00+00:00",
          "2023-11-25T19:30:00+00:00",
          "2023-11-25T19:40:00+00:00",
          "2023-11-25T19:50:00+00:00",
          "2023-11-25T20:00:00+00:00",
          "2023-11-25T20:10:00+00:00",
          "2023-11-25T20:20:00+00:00",
          "2023-11-25T20:30:00+00:00",
          "2023-11-25T20:40:00+00:00",
          "2023-11-25T20:50:00+00:00",
          "2023-11-25T21:00:00+00:00",
          "2023-11-25T21:10:00+00:00",
          "2023-11-25T21:20:00+00:00",
          "2023-11-25T21:30:00+00:00",
          "2023-11-25T21:40:00+00:00",
          "2023-11-25T21:50:00+00:00",
          "2023-11-25T22:00:00+00:00",
          "2023-11-25T22:10:00+00:00",
          "2023-11-25T22:20:00+00:00",
          "2023-11-25T22:30:00+00:00",
          "2023-11-25T22:40:00+00:00",
          "2023-11-25T22:50:00+00:00",
          "2023-11-25T23:00:00+00:00",
          "2023-11-25T23:10:00+00:00",
          "2023-11-25T23:20:00+00:00",
          "2023-11-25T23:30:00+00:00",
          "2023-11-25T23:40:00+00:00",
          "2023-11-25T23:50:00+00:00",
          "2023-11-26T00:00:00+00:00",
          "2023-11-26T00:10:00+00:00",
          "2023-11-26T00:20:00+00:00",
          "2023-11-26T00:30:00+00:00",
          "2023-11-26T00:40:00+00:00",
          "2023-11-26T00:50:00+00:00",
          "2023-11-26T01:00:00+00:00",
          "2023-11-26T01:10:00+00:00",
          "2023-11-26T01:20:00+00:00",
          "2023-11-26T01:30:00+00:00",
          "2023-11-26T01:40:00+00:00",
          "2023-11-26T01:50:00+00:00",
          "2023-11-26T02:00:00+00:00",
          "2023-11-26T02:10:00+00:00",
          "2023-11-26T02:20:00+00:00",
          "2023-11-26T02:30:00+00:00"
         ],
         "xaxis": "x",
         "y": [
          1,
          1,
          1,
          1,
          1,
          1,
          1,
          1,
          1,
          1,
          1,
          1,
          1,
          1,
          1,
          1,
          1,
          1,
          1,
          1,
          1,
          1,
          1,
          1,
          1,
          1,
          1,
          1,
          1,
          1,
          1,
          1,
          1,
          1,
          1,
          1,
          1,
          1,
          1,
          1,
          1,
          1,
          1,
          1,
          1,
          1,
          1,
          1,
          1,
          1,
          1,
          1,
          1,
          1,
          1,
          1,
          1,
          1,
          1,
          1,
          1,
          1,
          1,
          1,
          1,
          1,
          1,
          1,
          1,
          1,
          1,
          1,
          1,
          1,
          1,
          1,
          1,
          1,
          1,
          1,
          1,
          1,
          1,
          1,
          1,
          1,
          1,
          1,
          1,
          1,
          1,
          1,
          1,
          1,
          1,
          1,
          1,
          1,
          1,
          1,
          1,
          1,
          1,
          1,
          1,
          1,
          1,
          1,
          1,
          1,
          1,
          1,
          1,
          1,
          1,
          1,
          1,
          1,
          1,
          1,
          1,
          1,
          1,
          1,
          1,
          1,
          1,
          1,
          1,
          1,
          1,
          1,
          1,
          1,
          1,
          1,
          1,
          1,
          1,
          1,
          1,
          1,
          1,
          1,
          1,
          1,
          1,
          1,
          1,
          1,
          1,
          1,
          1,
          1,
          1,
          1,
          1,
          1,
          1,
          1,
          1,
          1,
          1,
          1,
          1,
          1,
          1,
          1,
          1,
          1,
          1,
          1,
          1,
          1,
          1,
          1,
          1,
          1,
          1,
          1,
          1,
          1,
          1,
          1,
          1,
          1,
          1,
          1,
          1,
          1,
          1,
          1,
          1,
          1,
          1,
          1,
          1,
          1,
          1,
          1,
          1,
          1,
          1,
          1,
          1,
          1,
          1,
          1,
          1,
          1,
          1,
          1,
          1,
          1,
          1,
          1,
          1,
          1,
          1,
          1,
          1,
          1,
          1,
          1,
          1,
          1,
          1,
          1,
          1,
          1,
          1,
          1,
          1,
          1,
          1,
          1,
          1,
          1,
          1,
          1,
          1,
          1,
          1,
          1,
          1,
          1,
          1,
          1,
          1,
          1,
          1,
          1,
          1,
          1,
          1,
          1,
          1,
          1,
          1,
          1,
          1,
          1,
          1,
          1,
          1,
          1,
          1,
          1,
          1,
          1,
          1,
          1,
          1,
          1,
          1,
          1,
          1,
          1,
          1,
          1,
          1,
          1,
          1,
          1,
          1,
          1,
          1,
          1,
          1,
          1,
          1,
          1,
          1,
          1,
          1,
          1,
          1,
          1,
          1,
          1,
          1,
          1,
          1,
          1,
          1,
          1,
          1,
          1,
          1,
          1,
          1,
          1,
          1,
          1,
          1,
          1,
          1,
          1,
          1,
          1,
          1,
          1,
          1,
          1,
          1,
          1,
          1,
          1,
          1,
          1,
          1,
          1,
          1,
          1,
          1,
          1,
          1,
          1,
          1,
          1,
          1,
          1,
          1,
          1,
          1,
          1,
          1,
          1,
          1,
          1,
          1,
          1,
          1,
          1,
          1,
          1,
          1,
          1,
          1,
          1,
          1,
          1,
          1,
          1,
          1,
          1,
          1,
          1,
          1,
          1,
          1,
          1,
          1,
          1,
          1,
          1,
          1,
          1,
          1,
          1,
          1,
          1,
          1,
          1,
          1,
          1,
          1,
          1,
          1,
          1,
          1,
          1,
          1,
          1,
          1,
          1,
          1,
          1,
          1,
          1,
          1,
          1,
          1,
          1,
          1,
          1,
          1,
          1,
          1,
          1,
          1,
          1,
          1,
          1,
          1,
          1,
          1,
          1,
          1,
          1,
          1,
          1,
          1,
          1,
          1,
          1,
          1,
          1,
          1,
          1,
          1,
          1,
          1
         ],
         "yaxis": "y"
        }
       ],
       "layout": {
        "autosize": true,
        "legend": {
         "tracegroupgap": 0
        },
        "margin": {
         "t": 60
        },
        "template": {
         "data": {
          "bar": [
           {
            "error_x": {
             "color": "#2a3f5f"
            },
            "error_y": {
             "color": "#2a3f5f"
            },
            "marker": {
             "line": {
              "color": "#E5ECF6",
              "width": 0.5
             },
             "pattern": {
              "fillmode": "overlay",
              "size": 10,
              "solidity": 0.2
             }
            },
            "type": "bar"
           }
          ],
          "barpolar": [
           {
            "marker": {
             "line": {
              "color": "#E5ECF6",
              "width": 0.5
             },
             "pattern": {
              "fillmode": "overlay",
              "size": 10,
              "solidity": 0.2
             }
            },
            "type": "barpolar"
           }
          ],
          "carpet": [
           {
            "aaxis": {
             "endlinecolor": "#2a3f5f",
             "gridcolor": "white",
             "linecolor": "white",
             "minorgridcolor": "white",
             "startlinecolor": "#2a3f5f"
            },
            "baxis": {
             "endlinecolor": "#2a3f5f",
             "gridcolor": "white",
             "linecolor": "white",
             "minorgridcolor": "white",
             "startlinecolor": "#2a3f5f"
            },
            "type": "carpet"
           }
          ],
          "choropleth": [
           {
            "colorbar": {
             "outlinewidth": 0,
             "ticks": ""
            },
            "type": "choropleth"
           }
          ],
          "contour": [
           {
            "colorbar": {
             "outlinewidth": 0,
             "ticks": ""
            },
            "colorscale": [
             [
              0,
              "#0d0887"
             ],
             [
              0.1111111111111111,
              "#46039f"
             ],
             [
              0.2222222222222222,
              "#7201a8"
             ],
             [
              0.3333333333333333,
              "#9c179e"
             ],
             [
              0.4444444444444444,
              "#bd3786"
             ],
             [
              0.5555555555555556,
              "#d8576b"
             ],
             [
              0.6666666666666666,
              "#ed7953"
             ],
             [
              0.7777777777777778,
              "#fb9f3a"
             ],
             [
              0.8888888888888888,
              "#fdca26"
             ],
             [
              1,
              "#f0f921"
             ]
            ],
            "type": "contour"
           }
          ],
          "contourcarpet": [
           {
            "colorbar": {
             "outlinewidth": 0,
             "ticks": ""
            },
            "type": "contourcarpet"
           }
          ],
          "heatmap": [
           {
            "colorbar": {
             "outlinewidth": 0,
             "ticks": ""
            },
            "colorscale": [
             [
              0,
              "#0d0887"
             ],
             [
              0.1111111111111111,
              "#46039f"
             ],
             [
              0.2222222222222222,
              "#7201a8"
             ],
             [
              0.3333333333333333,
              "#9c179e"
             ],
             [
              0.4444444444444444,
              "#bd3786"
             ],
             [
              0.5555555555555556,
              "#d8576b"
             ],
             [
              0.6666666666666666,
              "#ed7953"
             ],
             [
              0.7777777777777778,
              "#fb9f3a"
             ],
             [
              0.8888888888888888,
              "#fdca26"
             ],
             [
              1,
              "#f0f921"
             ]
            ],
            "type": "heatmap"
           }
          ],
          "heatmapgl": [
           {
            "colorbar": {
             "outlinewidth": 0,
             "ticks": ""
            },
            "colorscale": [
             [
              0,
              "#0d0887"
             ],
             [
              0.1111111111111111,
              "#46039f"
             ],
             [
              0.2222222222222222,
              "#7201a8"
             ],
             [
              0.3333333333333333,
              "#9c179e"
             ],
             [
              0.4444444444444444,
              "#bd3786"
             ],
             [
              0.5555555555555556,
              "#d8576b"
             ],
             [
              0.6666666666666666,
              "#ed7953"
             ],
             [
              0.7777777777777778,
              "#fb9f3a"
             ],
             [
              0.8888888888888888,
              "#fdca26"
             ],
             [
              1,
              "#f0f921"
             ]
            ],
            "type": "heatmapgl"
           }
          ],
          "histogram": [
           {
            "marker": {
             "pattern": {
              "fillmode": "overlay",
              "size": 10,
              "solidity": 0.2
             }
            },
            "type": "histogram"
           }
          ],
          "histogram2d": [
           {
            "colorbar": {
             "outlinewidth": 0,
             "ticks": ""
            },
            "colorscale": [
             [
              0,
              "#0d0887"
             ],
             [
              0.1111111111111111,
              "#46039f"
             ],
             [
              0.2222222222222222,
              "#7201a8"
             ],
             [
              0.3333333333333333,
              "#9c179e"
             ],
             [
              0.4444444444444444,
              "#bd3786"
             ],
             [
              0.5555555555555556,
              "#d8576b"
             ],
             [
              0.6666666666666666,
              "#ed7953"
             ],
             [
              0.7777777777777778,
              "#fb9f3a"
             ],
             [
              0.8888888888888888,
              "#fdca26"
             ],
             [
              1,
              "#f0f921"
             ]
            ],
            "type": "histogram2d"
           }
          ],
          "histogram2dcontour": [
           {
            "colorbar": {
             "outlinewidth": 0,
             "ticks": ""
            },
            "colorscale": [
             [
              0,
              "#0d0887"
             ],
             [
              0.1111111111111111,
              "#46039f"
             ],
             [
              0.2222222222222222,
              "#7201a8"
             ],
             [
              0.3333333333333333,
              "#9c179e"
             ],
             [
              0.4444444444444444,
              "#bd3786"
             ],
             [
              0.5555555555555556,
              "#d8576b"
             ],
             [
              0.6666666666666666,
              "#ed7953"
             ],
             [
              0.7777777777777778,
              "#fb9f3a"
             ],
             [
              0.8888888888888888,
              "#fdca26"
             ],
             [
              1,
              "#f0f921"
             ]
            ],
            "type": "histogram2dcontour"
           }
          ],
          "mesh3d": [
           {
            "colorbar": {
             "outlinewidth": 0,
             "ticks": ""
            },
            "type": "mesh3d"
           }
          ],
          "parcoords": [
           {
            "line": {
             "colorbar": {
              "outlinewidth": 0,
              "ticks": ""
             }
            },
            "type": "parcoords"
           }
          ],
          "pie": [
           {
            "automargin": true,
            "type": "pie"
           }
          ],
          "scatter": [
           {
            "fillpattern": {
             "fillmode": "overlay",
             "size": 10,
             "solidity": 0.2
            },
            "type": "scatter"
           }
          ],
          "scatter3d": [
           {
            "line": {
             "colorbar": {
              "outlinewidth": 0,
              "ticks": ""
             }
            },
            "marker": {
             "colorbar": {
              "outlinewidth": 0,
              "ticks": ""
             }
            },
            "type": "scatter3d"
           }
          ],
          "scattercarpet": [
           {
            "marker": {
             "colorbar": {
              "outlinewidth": 0,
              "ticks": ""
             }
            },
            "type": "scattercarpet"
           }
          ],
          "scattergeo": [
           {
            "marker": {
             "colorbar": {
              "outlinewidth": 0,
              "ticks": ""
             }
            },
            "type": "scattergeo"
           }
          ],
          "scattergl": [
           {
            "marker": {
             "colorbar": {
              "outlinewidth": 0,
              "ticks": ""
             }
            },
            "type": "scattergl"
           }
          ],
          "scattermapbox": [
           {
            "marker": {
             "colorbar": {
              "outlinewidth": 0,
              "ticks": ""
             }
            },
            "type": "scattermapbox"
           }
          ],
          "scatterpolar": [
           {
            "marker": {
             "colorbar": {
              "outlinewidth": 0,
              "ticks": ""
             }
            },
            "type": "scatterpolar"
           }
          ],
          "scatterpolargl": [
           {
            "marker": {
             "colorbar": {
              "outlinewidth": 0,
              "ticks": ""
             }
            },
            "type": "scatterpolargl"
           }
          ],
          "scatterternary": [
           {
            "marker": {
             "colorbar": {
              "outlinewidth": 0,
              "ticks": ""
             }
            },
            "type": "scatterternary"
           }
          ],
          "surface": [
           {
            "colorbar": {
             "outlinewidth": 0,
             "ticks": ""
            },
            "colorscale": [
             [
              0,
              "#0d0887"
             ],
             [
              0.1111111111111111,
              "#46039f"
             ],
             [
              0.2222222222222222,
              "#7201a8"
             ],
             [
              0.3333333333333333,
              "#9c179e"
             ],
             [
              0.4444444444444444,
              "#bd3786"
             ],
             [
              0.5555555555555556,
              "#d8576b"
             ],
             [
              0.6666666666666666,
              "#ed7953"
             ],
             [
              0.7777777777777778,
              "#fb9f3a"
             ],
             [
              0.8888888888888888,
              "#fdca26"
             ],
             [
              1,
              "#f0f921"
             ]
            ],
            "type": "surface"
           }
          ],
          "table": [
           {
            "cells": {
             "fill": {
              "color": "#EBF0F8"
             },
             "line": {
              "color": "white"
             }
            },
            "header": {
             "fill": {
              "color": "#C8D4E3"
             },
             "line": {
              "color": "white"
             }
            },
            "type": "table"
           }
          ]
         },
         "layout": {
          "annotationdefaults": {
           "arrowcolor": "#2a3f5f",
           "arrowhead": 0,
           "arrowwidth": 1
          },
          "autotypenumbers": "strict",
          "coloraxis": {
           "colorbar": {
            "outlinewidth": 0,
            "ticks": ""
           }
          },
          "colorscale": {
           "diverging": [
            [
             0,
             "#8e0152"
            ],
            [
             0.1,
             "#c51b7d"
            ],
            [
             0.2,
             "#de77ae"
            ],
            [
             0.3,
             "#f1b6da"
            ],
            [
             0.4,
             "#fde0ef"
            ],
            [
             0.5,
             "#f7f7f7"
            ],
            [
             0.6,
             "#e6f5d0"
            ],
            [
             0.7,
             "#b8e186"
            ],
            [
             0.8,
             "#7fbc41"
            ],
            [
             0.9,
             "#4d9221"
            ],
            [
             1,
             "#276419"
            ]
           ],
           "sequential": [
            [
             0,
             "#0d0887"
            ],
            [
             0.1111111111111111,
             "#46039f"
            ],
            [
             0.2222222222222222,
             "#7201a8"
            ],
            [
             0.3333333333333333,
             "#9c179e"
            ],
            [
             0.4444444444444444,
             "#bd3786"
            ],
            [
             0.5555555555555556,
             "#d8576b"
            ],
            [
             0.6666666666666666,
             "#ed7953"
            ],
            [
             0.7777777777777778,
             "#fb9f3a"
            ],
            [
             0.8888888888888888,
             "#fdca26"
            ],
            [
             1,
             "#f0f921"
            ]
           ],
           "sequentialminus": [
            [
             0,
             "#0d0887"
            ],
            [
             0.1111111111111111,
             "#46039f"
            ],
            [
             0.2222222222222222,
             "#7201a8"
            ],
            [
             0.3333333333333333,
             "#9c179e"
            ],
            [
             0.4444444444444444,
             "#bd3786"
            ],
            [
             0.5555555555555556,
             "#d8576b"
            ],
            [
             0.6666666666666666,
             "#ed7953"
            ],
            [
             0.7777777777777778,
             "#fb9f3a"
            ],
            [
             0.8888888888888888,
             "#fdca26"
            ],
            [
             1,
             "#f0f921"
            ]
           ]
          },
          "colorway": [
           "#636efa",
           "#EF553B",
           "#00cc96",
           "#ab63fa",
           "#FFA15A",
           "#19d3f3",
           "#FF6692",
           "#B6E880",
           "#FF97FF",
           "#FECB52"
          ],
          "font": {
           "color": "#2a3f5f"
          },
          "geo": {
           "bgcolor": "white",
           "lakecolor": "white",
           "landcolor": "#E5ECF6",
           "showlakes": true,
           "showland": true,
           "subunitcolor": "white"
          },
          "hoverlabel": {
           "align": "left"
          },
          "hovermode": "closest",
          "mapbox": {
           "style": "light"
          },
          "paper_bgcolor": "white",
          "plot_bgcolor": "#E5ECF6",
          "polar": {
           "angularaxis": {
            "gridcolor": "white",
            "linecolor": "white",
            "ticks": ""
           },
           "bgcolor": "#E5ECF6",
           "radialaxis": {
            "gridcolor": "white",
            "linecolor": "white",
            "ticks": ""
           }
          },
          "scene": {
           "xaxis": {
            "backgroundcolor": "#E5ECF6",
            "gridcolor": "white",
            "gridwidth": 2,
            "linecolor": "white",
            "showbackground": true,
            "ticks": "",
            "zerolinecolor": "white"
           },
           "yaxis": {
            "backgroundcolor": "#E5ECF6",
            "gridcolor": "white",
            "gridwidth": 2,
            "linecolor": "white",
            "showbackground": true,
            "ticks": "",
            "zerolinecolor": "white"
           },
           "zaxis": {
            "backgroundcolor": "#E5ECF6",
            "gridcolor": "white",
            "gridwidth": 2,
            "linecolor": "white",
            "showbackground": true,
            "ticks": "",
            "zerolinecolor": "white"
           }
          },
          "shapedefaults": {
           "line": {
            "color": "#2a3f5f"
           }
          },
          "ternary": {
           "aaxis": {
            "gridcolor": "white",
            "linecolor": "white",
            "ticks": ""
           },
           "baxis": {
            "gridcolor": "white",
            "linecolor": "white",
            "ticks": ""
           },
           "bgcolor": "#E5ECF6",
           "caxis": {
            "gridcolor": "white",
            "linecolor": "white",
            "ticks": ""
           }
          },
          "title": {
           "x": 0.05
          },
          "xaxis": {
           "automargin": true,
           "gridcolor": "white",
           "linecolor": "white",
           "ticks": "",
           "title": {
            "standoff": 15
           },
           "zerolinecolor": "white",
           "zerolinewidth": 2
          },
          "yaxis": {
           "automargin": true,
           "gridcolor": "white",
           "linecolor": "white",
           "ticks": "",
           "title": {
            "standoff": 15
           },
           "zerolinecolor": "white",
           "zerolinewidth": 2
          }
         }
        },
        "xaxis": {
         "anchor": "y",
         "autorange": true,
         "domain": [
          0,
          1
         ],
         "range": [
          "2023-11-23 02:30",
          "2023-11-26 02:30"
         ],
         "title": {
          "text": "time"
         },
         "type": "date"
        },
        "yaxis": {
         "anchor": "x",
         "autorange": true,
         "domain": [
          0,
          1
         ],
         "range": [
          0,
          2
         ],
         "title": {
          "text": "capital"
         },
         "type": "linear"
        }
       }
      },
      "image/png": "[encoded data removed]",
      "text/html": [
       "<div>                            <div id=\"3a7d86c6-5181-47fa-88e4-ba0ec8c8478d\" class=\"plotly-graph-div\" style=\"height:525px; width:100%;\"></div>            <script type=\"text/javascript\">                require([\"plotly\"], function(Plotly) {                    window.PLOTLYENV=window.PLOTLYENV || {};                                    if (document.getElementById(\"3a7d86c6-5181-47fa-88e4-ba0ec8c8478d\")) {                    Plotly.newPlot(                        \"3a7d86c6-5181-47fa-88e4-ba0ec8c8478d\",                        [{\"hovertemplate\":\"time=%{x}\\u003cbr\\u003ecapital=%{y}\\u003cextra\\u003e\\u003c\\u002fextra\\u003e\",\"legendgroup\":\"\",\"line\":{\"color\":\"#636efa\",\"dash\":\"solid\"},\"marker\":{\"symbol\":\"circle\"},\"mode\":\"lines\",\"name\":\"\",\"orientation\":\"v\",\"showlegend\":false,\"x\":[\"2023-11-23T02:30:00+00:00\",\"2023-11-23T02:40:00+00:00\",\"2023-11-23T02:50:00+00:00\",\"2023-11-23T03:00:00+00:00\",\"2023-11-23T03:10:00+00:00\",\"2023-11-23T03:20:00+00:00\",\"2023-11-23T03:30:00+00:00\",\"2023-11-23T03:40:00+00:00\",\"2023-11-23T03:50:00+00:00\",\"2023-11-23T04:00:00+00:00\",\"2023-11-23T04:10:00+00:00\",\"2023-11-23T04:20:00+00:00\",\"2023-11-23T04:30:00+00:00\",\"2023-11-23T04:40:00+00:00\",\"2023-11-23T04:50:00+00:00\",\"2023-11-23T05:00:00+00:00\",\"2023-11-23T05:10:00+00:00\",\"2023-11-23T05:20:00+00:00\",\"2023-11-23T05:30:00+00:00\",\"2023-11-23T05:40:00+00:00\",\"2023-11-23T05:50:00+00:00\",\"2023-11-23T06:00:00+00:00\",\"2023-11-23T06:10:00+00:00\",\"2023-11-23T06:20:00+00:00\",\"2023-11-23T06:30:00+00:00\",\"2023-11-23T06:40:00+00:00\",\"2023-11-23T06:50:00+00:00\",\"2023-11-23T07:00:00+00:00\",\"2023-11-23T07:10:00+00:00\",\"2023-11-23T07:20:00+00:00\",\"2023-11-23T07:30:00+00:00\",\"2023-11-23T07:40:00+00:00\",\"2023-11-23T07:50:00+00:00\",\"2023-11-23T08:00:00+00:00\",\"2023-11-23T08:10:00+00:00\",\"2023-11-23T08:20:00+00:00\",\"2023-11-23T08:30:00+00:00\",\"2023-11-23T08:40:00+00:00\",\"2023-11-23T08:50:00+00:00\",\"2023-11-23T09:00:00+00:00\",\"2023-11-23T09:10:00+00:00\",\"2023-11-23T09:20:00+00:00\",\"2023-11-23T09:30:00+00:00\",\"2023-11-23T09:40:00+00:00\",\"2023-11-23T09:50:00+00:00\",\"2023-11-23T10:00:00+00:00\",\"2023-11-23T10:10:00+00:00\",\"2023-11-23T10:20:00+00:00\",\"2023-11-23T10:30:00+00:00\",\"2023-11-23T10:40:00+00:00\",\"2023-11-23T10:50:00+00:00\",\"2023-11-23T11:00:00+00:00\",\"2023-11-23T11:10:00+00:00\",\"2023-11-23T11:20:00+00:00\",\"2023-11-23T11:30:00+00:00\",\"2023-11-23T11:40:00+00:00\",\"2023-11-23T11:50:00+00:00\",\"2023-11-23T12:00:00+00:00\",\"2023-11-23T12:10:00+00:00\",\"2023-11-23T12:20:00+00:00\",\"2023-11-23T12:30:00+00:00\",\"2023-11-23T12:40:00+00:00\",\"2023-11-23T12:50:00+00:00\",\"2023-11-23T13:00:00+00:00\",\"2023-11-23T13:10:00+00:00\",\"2023-11-23T13:20:00+00:00\",\"2023-11-23T13:30:00+00:00\",\"2023-11-23T13:40:00+00:00\",\"2023-11-23T13:50:00+00:00\",\"2023-11-23T14:00:00+00:00\",\"2023-11-23T14:10:00+00:00\",\"2023-11-23T14:20:00+00:00\",\"2023-11-23T14:30:00+00:00\",\"2023-11-23T14:40:00+00:00\",\"2023-11-23T14:50:00+00:00\",\"2023-11-23T15:00:00+00:00\",\"2023-11-23T15:10:00+00:00\",\"2023-11-23T15:20:00+00:00\",\"2023-11-23T15:30:00+00:00\",\"2023-11-23T15:40:00+00:00\",\"2023-11-23T15:50:00+00:00\",\"2023-11-23T16:00:00+00:00\",\"2023-11-23T16:10:00+00:00\",\"2023-11-23T16:20:00+00:00\",\"2023-11-23T16:30:00+00:00\",\"2023-11-23T16:40:00+00:00\",\"2023-11-23T16:50:00+00:00\",\"2023-11-23T17:00:00+00:00\",\"2023-11-23T17:10:00+00:00\",\"2023-11-23T17:20:00+00:00\",\"2023-11-23T17:30:00+00:00\",\"2023-11-23T17:40:00+00:00\",\"2023-11-23T17:50:00+00:00\",\"2023-11-23T18:00:00+00:00\",\"2023-11-23T18:10:00+00:00\",\"2023-11-23T18:20:00+00:00\",\"2023-11-23T18:30:00+00:00\",\"2023-11-23T18:40:00+00:00\",\"2023-11-23T18:50:00+00:00\",\"2023-11-23T19:00:00+00:00\",\"2023-11-23T19:10:00+00:00\",\"2023-11-23T19:20:00+00:00\",\"2023-11-23T19:30:00+00:00\",\"2023-11-23T19:40:00+00:00\",\"2023-11-23T19:50:00+00:00\",\"2023-11-23T20:00:00+00:00\",\"2023-11-23T20:10:00+00:00\",\"2023-11-23T20:20:00+00:00\",\"2023-11-23T20:30:00+00:00\",\"2023-11-23T20:40:00+00:00\",\"2023-11-23T20:50:00+00:00\",\"2023-11-23T21:00:00+00:00\",\"2023-11-23T21:10:00+00:00\",\"2023-11-23T21:20:00+00:00\",\"2023-11-23T21:30:00+00:00\",\"2023-11-23T21:40:00+00:00\",\"2023-11-23T21:50:00+00:00\",\"2023-11-23T22:00:00+00:00\",\"2023-11-23T22:10:00+00:00\",\"2023-11-23T22:20:00+00:00\",\"2023-11-23T22:30:00+00:00\",\"2023-11-23T22:40:00+00:00\",\"2023-11-23T22:50:00+00:00\",\"2023-11-23T23:00:00+00:00\",\"2023-11-23T23:10:00+00:00\",\"2023-11-23T23:20:00+00:00\",\"2023-11-23T23:30:00+00:00\",\"2023-11-23T23:40:00+00:00\",\"2023-11-23T23:50:00+00:00\",\"2023-11-24T00:00:00+00:00\",\"2023-11-24T00:10:00+00:00\",\"2023-11-24T00:20:00+00:00\",\"2023-11-24T00:30:00+00:00\",\"2023-11-24T00:40:00+00:00\",\"2023-11-24T00:50:00+00:00\",\"2023-11-24T01:00:00+00:00\",\"2023-11-24T01:10:00+00:00\",\"2023-11-24T01:20:00+00:00\",\"2023-11-24T01:30:00+00:00\",\"2023-11-24T01:40:00+00:00\",\"2023-11-24T01:50:00+00:00\",\"2023-11-24T02:00:00+00:00\",\"2023-11-24T02:10:00+00:00\",\"2023-11-24T02:20:00+00:00\",\"2023-11-24T02:30:00+00:00\",\"2023-11-24T02:40:00+00:00\",\"2023-11-24T02:50:00+00:00\",\"2023-11-24T03:00:00+00:00\",\"2023-11-24T03:10:00+00:00\",\"2023-11-24T03:20:00+00:00\",\"2023-11-24T03:30:00+00:00\",\"2023-11-24T03:40:00+00:00\",\"2023-11-24T03:50:00+00:00\",\"2023-11-24T04:00:00+00:00\",\"2023-11-24T04:10:00+00:00\",\"2023-11-24T04:20:00+00:00\",\"2023-11-24T04:30:00+00:00\",\"2023-11-24T04:40:00+00:00\",\"2023-11-24T04:50:00+00:00\",\"2023-11-24T05:00:00+00:00\",\"2023-11-24T05:10:00+00:00\",\"2023-11-24T05:20:00+00:00\",\"2023-11-24T05:30:00+00:00\",\"2023-11-24T05:40:00+00:00\",\"2023-11-24T05:50:00+00:00\",\"2023-11-24T06:00:00+00:00\",\"2023-11-24T06:10:00+00:00\",\"2023-11-24T06:20:00+00:00\",\"2023-11-24T06:30:00+00:00\",\"2023-11-24T06:40:00+00:00\",\"2023-11-24T06:50:00+00:00\",\"2023-11-24T07:00:00+00:00\",\"2023-11-24T07:10:00+00:00\",\"2023-11-24T07:20:00+00:00\",\"2023-11-24T07:30:00+00:00\",\"2023-11-24T07:40:00+00:00\",\"2023-11-24T07:50:00+00:00\",\"2023-11-24T08:00:00+00:00\",\"2023-11-24T08:10:00+00:00\",\"2023-11-24T08:20:00+00:00\",\"2023-11-24T08:30:00+00:00\",\"2023-11-24T08:40:00+00:00\",\"2023-11-24T08:50:00+00:00\",\"2023-11-24T09:00:00+00:00\",\"2023-11-24T09:10:00+00:00\",\"2023-11-24T09:20:00+00:00\",\"2023-11-24T09:30:00+00:00\",\"2023-11-24T09:40:00+00:00\",\"2023-11-24T09:50:00+00:00\",\"2023-11-24T10:00:00+00:00\",\"2023-11-24T10:10:00+00:00\",\"2023-11-24T10:20:00+00:00\",\"2023-11-24T10:30:00+00:00\",\"2023-11-24T10:40:00+00:00\",\"2023-11-24T10:50:00+00:00\",\"2023-11-24T11:00:00+00:00\",\"2023-11-24T11:10:00+00:00\",\"2023-11-24T11:20:00+00:00\",\"2023-11-24T11:30:00+00:00\",\"2023-11-24T11:40:00+00:00\",\"2023-11-24T11:50:00+00:00\",\"2023-11-24T12:00:00+00:00\",\"2023-11-24T12:10:00+00:00\",\"2023-11-24T12:20:00+00:00\",\"2023-11-24T12:30:00+00:00\",\"2023-11-24T12:40:00+00:00\",\"2023-11-24T12:50:00+00:00\",\"2023-11-24T13:00:00+00:00\",\"2023-11-24T13:10:00+00:00\",\"2023-11-24T13:20:00+00:00\",\"2023-11-24T13:30:00+00:00\",\"2023-11-24T13:40:00+00:00\",\"2023-11-24T13:50:00+00:00\",\"2023-11-24T14:00:00+00:00\",\"2023-11-24T14:10:00+00:00\",\"2023-11-24T14:20:00+00:00\",\"2023-11-24T14:30:00+00:00\",\"2023-11-24T14:40:00+00:00\",\"2023-11-24T14:50:00+00:00\",\"2023-11-24T15:00:00+00:00\",\"2023-11-24T15:10:00+00:00\",\"2023-11-24T15:20:00+00:00\",\"2023-11-24T15:30:00+00:00\",\"2023-11-24T15:40:00+00:00\",\"2023-11-24T15:50:00+00:00\",\"2023-11-24T16:00:00+00:00\",\"2023-11-24T16:10:00+00:00\",\"2023-11-24T16:20:00+00:00\",\"2023-11-24T16:30:00+00:00\",\"2023-11-24T16:40:00+00:00\",\"2023-11-24T16:50:00+00:00\",\"2023-11-24T17:00:00+00:00\",\"2023-11-24T17:10:00+00:00\",\"2023-11-24T17:20:00+00:00\",\"2023-11-24T17:30:00+00:00\",\"2023-11-24T17:40:00+00:00\",\"2023-11-24T17:50:00+00:00\",\"2023-11-24T18:00:00+00:00\",\"2023-11-24T18:10:00+00:00\",\"2023-11-24T18:20:00+00:00\",\"2023-11-24T18:30:00+00:00\",\"2023-11-24T18:40:00+00:00\",\"2023-11-24T18:50:00+00:00\",\"2023-11-24T19:00:00+00:00\",\"2023-11-24T19:10:00+00:00\",\"2023-11-24T19:20:00+00:00\",\"2023-11-24T19:30:00+00:00\",\"2023-11-24T19:40:00+00:00\",\"2023-11-24T19:50:00+00:00\",\"2023-11-24T20:00:00+00:00\",\"2023-11-24T20:10:00+00:00\",\"2023-11-24T20:20:00+00:00\",\"2023-11-24T20:30:00+00:00\",\"2023-11-24T20:40:00+00:00\",\"2023-11-24T20:50:00+00:00\",\"2023-11-24T21:00:00+00:00\",\"2023-11-24T21:10:00+00:00\",\"2023-11-24T21:20:00+00:00\",\"2023-11-24T21:30:00+00:00\",\"2023-11-24T21:40:00+00:00\",\"2023-11-24T21:50:00+00:00\",\"2023-11-24T22:00:00+00:00\",\"2023-11-24T22:10:00+00:00\",\"2023-11-24T22:20:00+00:00\",\"2023-11-24T22:30:00+00:00\",\"2023-11-24T22:40:00+00:00\",\"2023-11-24T22:50:00+00:00\",\"2023-11-24T23:00:00+00:00\",\"2023-11-24T23:10:00+00:00\",\"2023-11-24T23:20:00+00:00\",\"2023-11-24T23:30:00+00:00\",\"2023-11-24T23:40:00+00:00\",\"2023-11-24T23:50:00+00:00\",\"2023-11-25T00:00:00+00:00\",\"2023-11-25T00:10:00+00:00\",\"2023-11-25T00:20:00+00:00\",\"2023-11-25T00:30:00+00:00\",\"2023-11-25T00:40:00+00:00\",\"2023-11-25T00:50:00+00:00\",\"2023-11-25T01:00:00+00:00\",\"2023-11-25T01:10:00+00:00\",\"2023-11-25T01:20:00+00:00\",\"2023-11-25T01:30:00+00:00\",\"2023-11-25T01:40:00+00:00\",\"2023-11-25T01:50:00+00:00\",\"2023-11-25T02:00:00+00:00\",\"2023-11-25T02:10:00+00:00\",\"2023-11-25T02:20:00+00:00\",\"2023-11-25T02:30:00+00:00\",\"2023-11-25T02:40:00+00:00\",\"2023-11-25T02:50:00+00:00\",\"2023-11-25T03:00:00+00:00\",\"2023-11-25T03:10:00+00:00\",\"2023-11-25T03:20:00+00:00\",\"2023-11-25T03:30:00+00:00\",\"2023-11-25T03:40:00+00:00\",\"2023-11-25T03:50:00+00:00\",\"2023-11-25T04:00:00+00:00\",\"2023-11-25T04:10:00+00:00\",\"2023-11-25T04:20:00+00:00\",\"2023-11-25T04:30:00+00:00\",\"2023-11-25T04:40:00+00:00\",\"2023-11-25T04:50:00+00:00\",\"2023-11-25T05:00:00+00:00\",\"2023-11-25T05:10:00+00:00\",\"2023-11-25T05:20:00+00:00\",\"2023-11-25T05:30:00+00:00\",\"2023-11-25T05:40:00+00:00\",\"2023-11-25T05:50:00+00:00\",\"2023-11-25T06:00:00+00:00\",\"2023-11-25T06:10:00+00:00\",\"2023-11-25T06:20:00+00:00\",\"2023-11-25T06:30:00+00:00\",\"2023-11-25T06:40:00+00:00\",\"2023-11-25T06:50:00+00:00\",\"2023-11-25T07:00:00+00:00\",\"2023-11-25T07:10:00+00:00\",\"2023-11-25T07:20:00+00:00\",\"2023-11-25T07:30:00+00:00\",\"2023-11-25T07:40:00+00:00\",\"2023-11-25T07:50:00+00:00\",\"2023-11-25T08:00:00+00:00\",\"2023-11-25T08:10:00+00:00\",\"2023-11-25T08:20:00+00:00\",\"2023-11-25T08:30:00+00:00\",\"2023-11-25T08:40:00+00:00\",\"2023-11-25T08:50:00+00:00\",\"2023-11-25T09:00:00+00:00\",\"2023-11-25T09:10:00+00:00\",\"2023-11-25T09:20:00+00:00\",\"2023-11-25T09:30:00+00:00\",\"2023-11-25T09:40:00+00:00\",\"2023-11-25T09:50:00+00:00\",\"2023-11-25T10:00:00+00:00\",\"2023-11-25T10:10:00+00:00\",\"2023-11-25T10:20:00+00:00\",\"2023-11-25T10:30:00+00:00\",\"2023-11-25T10:40:00+00:00\",\"2023-11-25T10:50:00+00:00\",\"2023-11-25T11:00:00+00:00\",\"2023-11-25T11:10:00+00:00\",\"2023-11-25T11:20:00+00:00\",\"2023-11-25T11:30:00+00:00\",\"2023-11-25T11:40:00+00:00\",\"2023-11-25T11:50:00+00:00\",\"2023-11-25T12:00:00+00:00\",\"2023-11-25T12:10:00+00:00\",\"2023-11-25T12:20:00+00:00\",\"2023-11-25T12:30:00+00:00\",\"2023-11-25T12:40:00+00:00\",\"2023-11-25T12:50:00+00:00\",\"2023-11-25T13:00:00+00:00\",\"2023-11-25T13:10:00+00:00\",\"2023-11-25T13:20:00+00:00\",\"2023-11-25T13:30:00+00:00\",\"2023-11-25T13:40:00+00:00\",\"2023-11-25T13:50:00+00:00\",\"2023-11-25T14:00:00+00:00\",\"2023-11-25T14:10:00+00:00\",\"2023-11-25T14:20:00+00:00\",\"2023-11-25T14:30:00+00:00\",\"2023-11-25T14:40:00+00:00\",\"2023-11-25T14:50:00+00:00\",\"2023-11-25T15:00:00+00:00\",\"2023-11-25T15:10:00+00:00\",\"2023-11-25T15:20:00+00:00\",\"2023-11-25T15:30:00+00:00\",\"2023-11-25T15:40:00+00:00\",\"2023-11-25T15:50:00+00:00\",\"2023-11-25T16:00:00+00:00\",\"2023-11-25T16:10:00+00:00\",\"2023-11-25T16:20:00+00:00\",\"2023-11-25T16:30:00+00:00\",\"2023-11-25T16:40:00+00:00\",\"2023-11-25T16:50:00+00:00\",\"2023-11-25T17:00:00+00:00\",\"2023-11-25T17:10:00+00:00\",\"2023-11-25T17:20:00+00:00\",\"2023-11-25T17:30:00+00:00\",\"2023-11-25T17:40:00+00:00\",\"2023-11-25T17:50:00+00:00\",\"2023-11-25T18:00:00+00:00\",\"2023-11-25T18:10:00+00:00\",\"2023-11-25T18:20:00+00:00\",\"2023-11-25T18:30:00+00:00\",\"2023-11-25T18:40:00+00:00\",\"2023-11-25T18:50:00+00:00\",\"2023-11-25T19:00:00+00:00\",\"2023-11-25T19:10:00+00:00\",\"2023-11-25T19:20:00+00:00\",\"2023-11-25T19:30:00+00:00\",\"2023-11-25T19:40:00+00:00\",\"2023-11-25T19:50:00+00:00\",\"2023-11-25T20:00:00+00:00\",\"2023-11-25T20:10:00+00:00\",\"2023-11-25T20:20:00+00:00\",\"2023-11-25T20:30:00+00:00\",\"2023-11-25T20:40:00+00:00\",\"2023-11-25T20:50:00+00:00\",\"2023-11-25T21:00:00+00:00\",\"2023-11-25T21:10:00+00:00\",\"2023-11-25T21:20:00+00:00\",\"2023-11-25T21:30:00+00:00\",\"2023-11-25T21:40:00+00:00\",\"2023-11-25T21:50:00+00:00\",\"2023-11-25T22:00:00+00:00\",\"2023-11-25T22:10:00+00:00\",\"2023-11-25T22:20:00+00:00\",\"2023-11-25T22:30:00+00:00\",\"2023-11-25T22:40:00+00:00\",\"2023-11-25T22:50:00+00:00\",\"2023-11-25T23:00:00+00:00\",\"2023-11-25T23:10:00+00:00\",\"2023-11-25T23:20:00+00:00\",\"2023-11-25T23:30:00+00:00\",\"2023-11-25T23:40:00+00:00\",\"2023-11-25T23:50:00+00:00\",\"2023-11-26T00:00:00+00:00\",\"2023-11-26T00:10:00+00:00\",\"2023-11-26T00:20:00+00:00\",\"2023-11-26T00:30:00+00:00\",\"2023-11-26T00:40:00+00:00\",\"2023-11-26T00:50:00+00:00\",\"2023-11-26T01:00:00+00:00\",\"2023-11-26T01:10:00+00:00\",\"2023-11-26T01:20:00+00:00\",\"2023-11-26T01:30:00+00:00\",\"2023-11-26T01:40:00+00:00\",\"2023-11-26T01:50:00+00:00\",\"2023-11-26T02:00:00+00:00\",\"2023-11-26T02:10:00+00:00\",\"2023-11-26T02:20:00+00:00\",\"2023-11-26T02:30:00+00:00\"],\"xaxis\":\"x\",\"y\":[1,1,1,1,1,1,1,1,1,1,1,1,1,1,1,1,1,1,1,1,1,1,1,1,1,1,1,1,1,1,1,1,1,1,1,1,1,1,1,1,1,1,1,1,1,1,1,1,1,1,1,1,1,1,1,1,1,1,1,1,1,1,1,1,1,1,1,1,1,1,1,1,1,1,1,1,1,1,1,1,1,1,1,1,1,1,1,1,1,1,1,1,1,1,1,1,1,1,1,1,1,1,1,1,1,1,1,1,1,1,1,1,1,1,1,1,1,1,1,1,1,1,1,1,1,1,1,1,1,1,1,1,1,1,1,1,1,1,1,1,1,1,1,1,1,1,1,1,1,1,1,1,1,1,1,1,1,1,1,1,1,1,1,1,1,1,1,1,1,1,1,1,1,1,1,1,1,1,1,1,1,1,1,1,1,1,1,1,1,1,1,1,1,1,1,1,1,1,1,1,1,1,1,1,1,1,1,1,1,1,1,1,1,1,1,1,1,1,1,1,1,1,1,1,1,1,1,1,1,1,1,1,1,1,1,1,1,1,1,1,1,1,1,1,1,1,1,1,1,1,1,1,1,1,1,1,1,1,1,1,1,1,1,1,1,1,1,1,1,1,1,1,1,1,1,1,1,1,1,1,1,1,1,1,1,1,1,1,1,1,1,1,1,1,1,1,1,1,1,1,1,1,1,1,1,1,1,1,1,1,1,1,1,1,1,1,1,1,1,1,1,1,1,1,1,1,1,1,1,1,1,1,1,1,1,1,1,1,1,1,1,1,1,1,1,1,1,1,1,1,1,1,1,1,1,1,1,1,1,1,1,1,1,1,1,1,1,1,1,1,1,1,1,1,1,1,1,1,1,1,1,1,1,1,1,1,1,1,1,1,1,1,1,1,1,1,1,1,1,1,1,1,1,1,1,1,1,1,1,1,1,1,1,1,1,1,1,1,1,1,1,1,1,1,1,1,1,1,1,1,1,1,1],\"yaxis\":\"y\",\"type\":\"scatter\"}],                        {\"template\":{\"data\":{\"histogram2dcontour\":[{\"type\":\"histogram2dcontour\",\"colorbar\":{\"outlinewidth\":0,\"ticks\":\"\"},\"colorscale\":[[0.0,\"#0d0887\"],[0.1111111111111111,\"#46039f\"],[0.2222222222222222,\"#7201a8\"],[0.3333333333333333,\"#9c179e\"],[0.4444444444444444,\"#bd3786\"],[0.5555555555555556,\"#d8576b\"],[0.6666666666666666,\"#ed7953\"],[0.7777777777777778,\"#fb9f3a\"],[0.8888888888888888,\"#fdca26\"],[1.0,\"#f0f921\"]]}],\"choropleth\":[{\"type\":\"choropleth\",\"colorbar\":{\"outlinewidth\":0,\"ticks\":\"\"}}],\"histogram2d\":[{\"type\":\"histogram2d\",\"colorbar\":{\"outlinewidth\":0,\"ticks\":\"\"},\"colorscale\":[[0.0,\"#0d0887\"],[0.1111111111111111,\"#46039f\"],[0.2222222222222222,\"#7201a8\"],[0.3333333333333333,\"#9c179e\"],[0.4444444444444444,\"#bd3786\"],[0.5555555555555556,\"#d8576b\"],[0.6666666666666666,\"#ed7953\"],[0.7777777777777778,\"#fb9f3a\"],[0.8888888888888888,\"#fdca26\"],[1.0,\"#f0f921\"]]}],\"heatmap\":[{\"type\":\"heatmap\",\"colorbar\":{\"outlinewidth\":0,\"ticks\":\"\"},\"colorscale\":[[0.0,\"#0d0887\"],[0.1111111111111111,\"#46039f\"],[0.2222222222222222,\"#7201a8\"],[0.3333333333333333,\"#9c179e\"],[0.4444444444444444,\"#bd3786\"],[0.5555555555555556,\"#d8576b\"],[0.6666666666666666,\"#ed7953\"],[0.7777777777777778,\"#fb9f3a\"],[0.8888888888888888,\"#fdca26\"],[1.0,\"#f0f921\"]]}],\"heatmapgl\":[{\"type\":\"heatmapgl\",\"colorbar\":{\"outlinewidth\":0,\"ticks\":\"\"},\"colorscale\":[[0.0,\"#0d0887\"],[0.1111111111111111,\"#46039f\"],[0.2222222222222222,\"#7201a8\"],[0.3333333333333333,\"#9c179e\"],[0.4444444444444444,\"#bd3786\"],[0.5555555555555556,\"#d8576b\"],[0.6666666666666666,\"#ed7953\"],[0.7777777777777778,\"#fb9f3a\"],[0.8888888888888888,\"#fdca26\"],[1.0,\"#f0f921\"]]}],\"contourcarpet\":[{\"type\":\"contourcarpet\",\"colorbar\":{\"outlinewidth\":0,\"ticks\":\"\"}}],\"contour\":[{\"type\":\"contour\",\"colorbar\":{\"outlinewidth\":0,\"ticks\":\"\"},\"colorscale\":[[0.0,\"#0d0887\"],[0.1111111111111111,\"#46039f\"],[0.2222222222222222,\"#7201a8\"],[0.3333333333333333,\"#9c179e\"],[0.4444444444444444,\"#bd3786\"],[0.5555555555555556,\"#d8576b\"],[0.6666666666666666,\"#ed7953\"],[0.7777777777777778,\"#fb9f3a\"],[0.8888888888888888,\"#fdca26\"],[1.0,\"#f0f921\"]]}],\"surface\":[{\"type\":\"surface\",\"colorbar\":{\"outlinewidth\":0,\"ticks\":\"\"},\"colorscale\":[[0.0,\"#0d0887\"],[0.1111111111111111,\"#46039f\"],[0.2222222222222222,\"#7201a8\"],[0.3333333333333333,\"#9c179e\"],[0.4444444444444444,\"#bd3786\"],[0.5555555555555556,\"#d8576b\"],[0.6666666666666666,\"#ed7953\"],[0.7777777777777778,\"#fb9f3a\"],[0.8888888888888888,\"#fdca26\"],[1.0,\"#f0f921\"]]}],\"mesh3d\":[{\"type\":\"mesh3d\",\"colorbar\":{\"outlinewidth\":0,\"ticks\":\"\"}}],\"scatter\":[{\"fillpattern\":{\"fillmode\":\"overlay\",\"size\":10,\"solidity\":0.2},\"type\":\"scatter\"}],\"parcoords\":[{\"type\":\"parcoords\",\"line\":{\"colorbar\":{\"outlinewidth\":0,\"ticks\":\"\"}}}],\"scatterpolargl\":[{\"type\":\"scatterpolargl\",\"marker\":{\"colorbar\":{\"outlinewidth\":0,\"ticks\":\"\"}}}],\"bar\":[{\"error_x\":{\"color\":\"#2a3f5f\"},\"error_y\":{\"color\":\"#2a3f5f\"},\"marker\":{\"line\":{\"color\":\"#E5ECF6\",\"width\":0.5},\"pattern\":{\"fillmode\":\"overlay\",\"size\":10,\"solidity\":0.2}},\"type\":\"bar\"}],\"scattergeo\":[{\"type\":\"scattergeo\",\"marker\":{\"colorbar\":{\"outlinewidth\":0,\"ticks\":\"\"}}}],\"scatterpolar\":[{\"type\":\"scatterpolar\",\"marker\":{\"colorbar\":{\"outlinewidth\":0,\"ticks\":\"\"}}}],\"histogram\":[{\"marker\":{\"pattern\":{\"fillmode\":\"overlay\",\"size\":10,\"solidity\":0.2}},\"type\":\"histogram\"}],\"scattergl\":[{\"type\":\"scattergl\",\"marker\":{\"colorbar\":{\"outlinewidth\":0,\"ticks\":\"\"}}}],\"scatter3d\":[{\"type\":\"scatter3d\",\"line\":{\"colorbar\":{\"outlinewidth\":0,\"ticks\":\"\"}},\"marker\":{\"colorbar\":{\"outlinewidth\":0,\"ticks\":\"\"}}}],\"scattermapbox\":[{\"type\":\"scattermapbox\",\"marker\":{\"colorbar\":{\"outlinewidth\":0,\"ticks\":\"\"}}}],\"scatterternary\":[{\"type\":\"scatterternary\",\"marker\":{\"colorbar\":{\"outlinewidth\":0,\"ticks\":\"\"}}}],\"scattercarpet\":[{\"type\":\"scattercarpet\",\"marker\":{\"colorbar\":{\"outlinewidth\":0,\"ticks\":\"\"}}}],\"carpet\":[{\"aaxis\":{\"endlinecolor\":\"#2a3f5f\",\"gridcolor\":\"white\",\"linecolor\":\"white\",\"minorgridcolor\":\"white\",\"startlinecolor\":\"#2a3f5f\"},\"baxis\":{\"endlinecolor\":\"#2a3f5f\",\"gridcolor\":\"white\",\"linecolor\":\"white\",\"minorgridcolor\":\"white\",\"startlinecolor\":\"#2a3f5f\"},\"type\":\"carpet\"}],\"table\":[{\"cells\":{\"fill\":{\"color\":\"#EBF0F8\"},\"line\":{\"color\":\"white\"}},\"header\":{\"fill\":{\"color\":\"#C8D4E3\"},\"line\":{\"color\":\"white\"}},\"type\":\"table\"}],\"barpolar\":[{\"marker\":{\"line\":{\"color\":\"#E5ECF6\",\"width\":0.5},\"pattern\":{\"fillmode\":\"overlay\",\"size\":10,\"solidity\":0.2}},\"type\":\"barpolar\"}],\"pie\":[{\"automargin\":true,\"type\":\"pie\"}]},\"layout\":{\"autotypenumbers\":\"strict\",\"colorway\":[\"#636efa\",\"#EF553B\",\"#00cc96\",\"#ab63fa\",\"#FFA15A\",\"#19d3f3\",\"#FF6692\",\"#B6E880\",\"#FF97FF\",\"#FECB52\"],\"font\":{\"color\":\"#2a3f5f\"},\"hovermode\":\"closest\",\"hoverlabel\":{\"align\":\"left\"},\"paper_bgcolor\":\"white\",\"plot_bgcolor\":\"#E5ECF6\",\"polar\":{\"bgcolor\":\"#E5ECF6\",\"angularaxis\":{\"gridcolor\":\"white\",\"linecolor\":\"white\",\"ticks\":\"\"},\"radialaxis\":{\"gridcolor\":\"white\",\"linecolor\":\"white\",\"ticks\":\"\"}},\"ternary\":{\"bgcolor\":\"#E5ECF6\",\"aaxis\":{\"gridcolor\":\"white\",\"linecolor\":\"white\",\"ticks\":\"\"},\"baxis\":{\"gridcolor\":\"white\",\"linecolor\":\"white\",\"ticks\":\"\"},\"caxis\":{\"gridcolor\":\"white\",\"linecolor\":\"white\",\"ticks\":\"\"}},\"coloraxis\":{\"colorbar\":{\"outlinewidth\":0,\"ticks\":\"\"}},\"colorscale\":{\"sequential\":[[0.0,\"#0d0887\"],[0.1111111111111111,\"#46039f\"],[0.2222222222222222,\"#7201a8\"],[0.3333333333333333,\"#9c179e\"],[0.4444444444444444,\"#bd3786\"],[0.5555555555555556,\"#d8576b\"],[0.6666666666666666,\"#ed7953\"],[0.7777777777777778,\"#fb9f3a\"],[0.8888888888888888,\"#fdca26\"],[1.0,\"#f0f921\"]],\"sequentialminus\":[[0.0,\"#0d0887\"],[0.1111111111111111,\"#46039f\"],[0.2222222222222222,\"#7201a8\"],[0.3333333333333333,\"#9c179e\"],[0.4444444444444444,\"#bd3786\"],[0.5555555555555556,\"#d8576b\"],[0.6666666666666666,\"#ed7953\"],[0.7777777777777778,\"#fb9f3a\"],[0.8888888888888888,\"#fdca26\"],[1.0,\"#f0f921\"]],\"diverging\":[[0,\"#8e0152\"],[0.1,\"#c51b7d\"],[0.2,\"#de77ae\"],[0.3,\"#f1b6da\"],[0.4,\"#fde0ef\"],[0.5,\"#f7f7f7\"],[0.6,\"#e6f5d0\"],[0.7,\"#b8e186\"],[0.8,\"#7fbc41\"],[0.9,\"#4d9221\"],[1,\"#276419\"]]},\"xaxis\":{\"gridcolor\":\"white\",\"linecolor\":\"white\",\"ticks\":\"\",\"title\":{\"standoff\":15},\"zerolinecolor\":\"white\",\"automargin\":true,\"zerolinewidth\":2},\"yaxis\":{\"gridcolor\":\"white\",\"linecolor\":\"white\",\"ticks\":\"\",\"title\":{\"standoff\":15},\"zerolinecolor\":\"white\",\"automargin\":true,\"zerolinewidth\":2},\"scene\":{\"xaxis\":{\"backgroundcolor\":\"#E5ECF6\",\"gridcolor\":\"white\",\"linecolor\":\"white\",\"showbackground\":true,\"ticks\":\"\",\"zerolinecolor\":\"white\",\"gridwidth\":2},\"yaxis\":{\"backgroundcolor\":\"#E5ECF6\",\"gridcolor\":\"white\",\"linecolor\":\"white\",\"showbackground\":true,\"ticks\":\"\",\"zerolinecolor\":\"white\",\"gridwidth\":2},\"zaxis\":{\"backgroundcolor\":\"#E5ECF6\",\"gridcolor\":\"white\",\"linecolor\":\"white\",\"showbackground\":true,\"ticks\":\"\",\"zerolinecolor\":\"white\",\"gridwidth\":2}},\"shapedefaults\":{\"line\":{\"color\":\"#2a3f5f\"}},\"annotationdefaults\":{\"arrowcolor\":\"#2a3f5f\",\"arrowhead\":0,\"arrowwidth\":1},\"geo\":{\"bgcolor\":\"white\",\"landcolor\":\"#E5ECF6\",\"subunitcolor\":\"white\",\"showland\":true,\"showlakes\":true,\"lakecolor\":\"white\"},\"title\":{\"x\":0.05},\"mapbox\":{\"style\":\"light\"}}},\"xaxis\":{\"anchor\":\"y\",\"domain\":[0.0,1.0],\"title\":{\"text\":\"time\"}},\"yaxis\":{\"anchor\":\"x\",\"domain\":[0.0,1.0],\"title\":{\"text\":\"capital\"}},\"legend\":{\"tracegroupgap\":0},\"margin\":{\"t\":60}},                        {\"responsive\": true}                    ).then(function(){\n",
       "                            \n",
       "var gd = document.getElementById('3a7d86c6-5181-47fa-88e4-ba0ec8c8478d');\n",
       "var x = new MutationObserver(function (mutations, observer) {{\n",
       "        var display = window.getComputedStyle(gd).display;\n",
       "        if (!display || display === 'none') {{\n",
       "            console.log([gd, 'removed!']);\n",
       "            Plotly.purge(gd);\n",
       "            observer.disconnect();\n",
       "        }}\n",
       "}});\n",
       "\n",
       "// Listen for the removal of the full notebook cells\n",
       "var notebookContainer = gd.closest('#notebook-container');\n",
       "if (notebookContainer) {{\n",
       "    x.observe(notebookContainer, {childList: true});\n",
       "}}\n",
       "\n",
       "// Listen for the clearing of the current output cell\n",
       "var outputEl = gd.closest('.output');\n",
       "if (outputEl) {{\n",
       "    x.observe(outputEl, {childList: true});\n",
       "}}\n",
       "\n",
       "                        })                };                });            </script>        </div>"
      ]
     },
     "metadata": {},
     "output_type": "display_data"
    }
   ],
   "source": [
    "px.line(df, y='capital')"
   ]
  },
  {
   "cell_type": "code",
   "execution_count": null,
   "id": "9c6a4b0d-5582-41f9-a73c-f87035c4e0ab",
   "metadata": {},
   "outputs": [],
   "source": []
  }
 ],
 "metadata": {
  "kernelspec": {
   "display_name": "Python 3 (ipykernel)",
   "language": "python",
   "name": "python3"
  },
  "language_info": {
   "codemirror_mode": {
    "name": "ipython",
    "version": 3
   },
   "file_extension": ".py",
   "mimetype": "text/x-python",
   "name": "python",
   "nbconvert_exporter": "python",
   "pygments_lexer": "ipython3",
   "version": "3.8.10"
  }
 },
 "nbformat": 4,
 "nbformat_minor": 5
}
