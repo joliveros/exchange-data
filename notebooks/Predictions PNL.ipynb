{
 "cells": [
  {
   "cell_type": "code",
   "execution_count": null,
   "id": "ae384a2f",
   "metadata": {},
   "outputs": [],
   "source": [
    "%load_ext autoreload\n",
    "%autoreload 2\n",
    "\n",
    "from exchange_data.data import OrderBookFrame\n",
    "from exchange_data.data.backtest import Backtest\n",
    "from exchange_data._database import Database\n",
    "\n",
    "import pandas as pd\n",
    "import numpy as np\n",
    "import alog\n",
    "import plotly.graph_objs as go\n",
    "import plotly.express as px\n",
    "import plotly as py\n",
    "import plotly.offline as ofl\n",
    "from plotly.offline import init_notebook_mode\n",
    "\n",
    "init_notebook_mode(connected=True)\n",
    "params = {\n",
    " 'cache': False,\n",
    " 'database_name': 'binance_futures',\n",
    " 'depth': 72,\n",
    " 'futures': False,\n",
    " 'group_by': '1m',\n",
    " 'interval': '2d',\n",
    " 'max_volume_quantile': 0.99,\n",
    " 'offset_interval': '0h',\n",
    " 'plot': False,\n",
    " 'round_decimals': 3,\n",
    " 'sequence_length': 72,\n",
    " 'symbol': 'UNFIUSDT',\n",
    " 'window_size': '30m',\n",
    " 'additional_group_by': '5Min',\n",
    " 'frame_width': 448\n",
    "}\n",
    "\n",
    "db = Database(**params)\n",
    "\n",
    "#df = Backtest(**params).frame\n"
   ]
  },
  {
   "cell_type": "code",
   "execution_count": null,
   "id": "ea3fe13c-c9ae-4016-b8f0-54f9be9a0068",
   "metadata": {},
   "outputs": [],
   "source": [
    "meas = 'prediction_UNFIUSDT'\n",
    "points = db.query(f'SELECT last(prediction) as prediction FROM {meas} WHERE time > now() - 1d GROUP BY time(5m)').get_points(meas)\n",
    "rows = []\n",
    "\n",
    "for data in points:\n",
    "    rows.append(data)\n",
    "    \n",
    "pred_df = pd.DataFrame.from_records(rows)\n",
    "pred_df['time'] = pd.to_datetime(pred_df['time'] * 1000000)\n",
    "\n",
    "pred_df.set_index('time', inplace=True)\n",
    "pred_df"
   ]
  },
  {
   "cell_type": "code",
   "execution_count": null,
   "id": "a4dc9af2-4582-43e3-a401-d9284066e6dd",
   "metadata": {},
   "outputs": [],
   "source": [
    "meas = 'UNFIUSDT_OrderBookFrame'\n",
    "points = db.query(f'SELECT last(best_bid) as best_bid, last(best_ask) as best_ask FROM {meas} WHERE time > now() - 1d GROUP BY time(5m)').get_points(meas)\n",
    "rows = []\n",
    "\n",
    "for data in points:\n",
    "    rows.append(data)\n",
    "    \n",
    "df = pd.DataFrame.from_records(rows)\n",
    "df['time'] = pd.to_datetime(df['time'] * 1000000)\n",
    "\n",
    "df.set_index('time', inplace=True)\n",
    "\n",
    "df"
   ]
  },
  {
   "cell_type": "code",
   "execution_count": null,
   "id": "fddef08b-eacb-492f-ac41-2ea9d07659da",
   "metadata": {},
   "outputs": [],
   "source": [
    "df['prediction'] = pred_df['prediction']\n",
    "df"
   ]
  },
  {
   "cell_type": "code",
   "execution_count": null,
   "id": "4bef42c3-104d-43c0-8fc0-16a3e4244de8",
   "metadata": {},
   "outputs": [],
   "source": [
    "df = df.fillna(0)"
   ]
  },
  {
   "cell_type": "code",
   "execution_count": null,
   "id": "4a48bb5f-708f-4204-b430-ce87f8b0a7c8",
   "metadata": {},
   "outputs": [],
   "source": [
    "capital = 1\n",
    "df['capital'] = 0\n",
    "df_len = df.shape[0]\n",
    "capital_ls = []\n",
    "price_in = None\n",
    "\n",
    "for ix in range(0, df_len):\n",
    "    if ix < df_len - 1:\n",
    "        row = df.iloc[ix]\n",
    "        next_row = df.iloc[ix + 1]\n",
    "        best_ask = row['best_ask']\n",
    "        \n",
    "        if row['prediction'] == 1:\n",
    "            if price_in == None:\n",
    "                price_in = row['best_bid']\n",
    "        else:\n",
    "            if price_in:\n",
    "                pnl = (price_in - best_ask) / price_in\n",
    "                # alog.info((pnl, price_in, best_ask))\n",
    "                capital = capital + (capital * pnl * (1 - 0.005))\n",
    "                \n",
    "            price_in = None\n",
    "            \n",
    "    #alog.info(capital)\n",
    "    capital_ls.append(capital)\n",
    "\n",
    "df['capital'] = np.asarray(capital_ls)\n",
    "print(df)\n",
    "px.line(df, y='capital', height=700)"
   ]
  },
  {
   "cell_type": "code",
   "execution_count": null,
   "id": "8bae39fc-febf-46c0-9849-a7fc303034c0",
   "metadata": {},
   "outputs": [],
   "source": []
  }
 ],
 "metadata": {
  "kernelspec": {
   "display_name": "Python 3 (ipykernel)",
   "language": "python",
   "name": "python3"
  },
  "language_info": {
   "codemirror_mode": {
    "name": "ipython",
    "version": 3
   },
   "file_extension": ".py",
   "mimetype": "text/x-python",
   "name": "python",
   "nbconvert_exporter": "python",
   "pygments_lexer": "ipython3",
   "version": "3.8.10"
  }
 },
 "nbformat": 4,
 "nbformat_minor": 5
}
