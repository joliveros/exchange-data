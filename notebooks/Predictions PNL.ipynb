{
 "cells": [
  {
   "cell_type": "code",
   "execution_count": 175,
   "id": "ae384a2f",
   "metadata": {},
   "outputs": [
    {
     "name": "stdout",
     "output_type": "stream",
     "text": [
      "The autoreload extension is already loaded. To reload it, use:\n",
      "  %reload_ext autoreload\n"
     ]
    },
    {
     "data": {
      "text/html": [
       "        <script type=\"text/javascript\">\n",
       "        window.PlotlyConfig = {MathJaxConfig: 'local'};\n",
       "        if (window.MathJax && window.MathJax.Hub && window.MathJax.Hub.Config) {window.MathJax.Hub.Config({SVG: {font: \"STIX-Web\"}});}\n",
       "        if (typeof require !== 'undefined') {\n",
       "        require.undef(\"plotly\");\n",
       "        requirejs.config({\n",
       "            paths: {\n",
       "                'plotly': ['https://cdn.plot.ly/plotly-2.25.2.min']\n",
       "            }\n",
       "        });\n",
       "        require(['plotly'], function(Plotly) {\n",
       "            window._Plotly = Plotly;\n",
       "        });\n",
       "        }\n",
       "        </script>\n",
       "        "
      ]
     },
     "metadata": {},
     "output_type": "display_data"
    }
   ],
   "source": [
    "%load_ext autoreload\n",
    "%autoreload 2\n",
    "\n",
    "from exchange_data.data import OrderBookFrame\n",
    "from exchange_data.data.backtest import Backtest\n",
    "from exchange_data._database import Database\n",
    "\n",
    "import pandas as pd\n",
    "import numpy as np\n",
    "import alog\n",
    "import plotly.graph_objs as go\n",
    "import plotly.express as px\n",
    "import plotly as py\n",
    "import plotly.offline as ofl\n",
    "from plotly.offline import init_notebook_mode\n",
    "\n",
    "init_notebook_mode(connected=True)\n",
    "params = {\n",
    " 'cache': False,\n",
    " 'database_name': 'binance_futures',\n",
    " 'depth': 72,\n",
    " 'futures': False,\n",
    " 'group_by': '1m',\n",
    " 'interval': '2d',\n",
    " 'max_volume_quantile': 0.99,\n",
    " 'offset_interval': '0h',\n",
    " 'plot': False,\n",
    " 'round_decimals': 3,\n",
    " 'sequence_length': 72,\n",
    " 'symbol': 'UNFIUSDT',\n",
    " 'window_size': '30m',\n",
    " 'additional_group_by': '5Min',\n",
    " 'frame_width': 448\n",
    "}\n",
    "\n",
    "db = Database(**params)\n",
    "\n",
    "#df = Backtest(**params).frame\n"
   ]
  },
  {
   "cell_type": "code",
   "execution_count": 176,
   "id": "ea3fe13c-c9ae-4016-b8f0-54f9be9a0068",
   "metadata": {},
   "outputs": [
    {
     "name": "stderr",
     "output_type": "stream",
     "text": [
      "2023-12-26 11:58:12 DEBUG [exchange_data._database:64] SELECT last(prediction) as prediction FROM prediction_UNFIUSDT WHERE time > now() - 1d GROUP BY time(5m)\n"
     ]
    },
    {
     "data": {
      "text/html": [
       "<div>\n",
       "<style scoped>\n",
       "    .dataframe tbody tr th:only-of-type {\n",
       "        vertical-align: middle;\n",
       "    }\n",
       "\n",
       "    .dataframe tbody tr th {\n",
       "        vertical-align: top;\n",
       "    }\n",
       "\n",
       "    .dataframe thead th {\n",
       "        text-align: right;\n",
       "    }\n",
       "</style>\n",
       "<table border=\"1\" class=\"dataframe\">\n",
       "  <thead>\n",
       "    <tr style=\"text-align: right;\">\n",
       "      <th></th>\n",
       "      <th>prediction</th>\n",
       "    </tr>\n",
       "    <tr>\n",
       "      <th>time</th>\n",
       "      <th></th>\n",
       "    </tr>\n",
       "  </thead>\n",
       "  <tbody>\n",
       "    <tr>\n",
       "      <th>2023-12-25 17:55:00</th>\n",
       "      <td>NaN</td>\n",
       "    </tr>\n",
       "    <tr>\n",
       "      <th>2023-12-25 18:00:00</th>\n",
       "      <td>0.0</td>\n",
       "    </tr>\n",
       "    <tr>\n",
       "      <th>2023-12-25 18:05:00</th>\n",
       "      <td>0.0</td>\n",
       "    </tr>\n",
       "    <tr>\n",
       "      <th>2023-12-25 18:10:00</th>\n",
       "      <td>0.0</td>\n",
       "    </tr>\n",
       "    <tr>\n",
       "      <th>2023-12-25 18:15:00</th>\n",
       "      <td>0.0</td>\n",
       "    </tr>\n",
       "    <tr>\n",
       "      <th>...</th>\n",
       "      <td>...</td>\n",
       "    </tr>\n",
       "    <tr>\n",
       "      <th>2023-12-26 17:35:00</th>\n",
       "      <td>NaN</td>\n",
       "    </tr>\n",
       "    <tr>\n",
       "      <th>2023-12-26 17:40:00</th>\n",
       "      <td>NaN</td>\n",
       "    </tr>\n",
       "    <tr>\n",
       "      <th>2023-12-26 17:45:00</th>\n",
       "      <td>NaN</td>\n",
       "    </tr>\n",
       "    <tr>\n",
       "      <th>2023-12-26 17:50:00</th>\n",
       "      <td>NaN</td>\n",
       "    </tr>\n",
       "    <tr>\n",
       "      <th>2023-12-26 17:55:00</th>\n",
       "      <td>NaN</td>\n",
       "    </tr>\n",
       "  </tbody>\n",
       "</table>\n",
       "<p>289 rows × 1 columns</p>\n",
       "</div>"
      ],
      "text/plain": [
       "                     prediction\n",
       "time                           \n",
       "2023-12-25 17:55:00         NaN\n",
       "2023-12-25 18:00:00         0.0\n",
       "2023-12-25 18:05:00         0.0\n",
       "2023-12-25 18:10:00         0.0\n",
       "2023-12-25 18:15:00         0.0\n",
       "...                         ...\n",
       "2023-12-26 17:35:00         NaN\n",
       "2023-12-26 17:40:00         NaN\n",
       "2023-12-26 17:45:00         NaN\n",
       "2023-12-26 17:50:00         NaN\n",
       "2023-12-26 17:55:00         NaN\n",
       "\n",
       "[289 rows x 1 columns]"
      ]
     },
     "execution_count": 176,
     "metadata": {},
     "output_type": "execute_result"
    }
   ],
   "source": [
    "meas = 'prediction_UNFIUSDT'\n",
    "points = db.query(f'SELECT last(prediction) as prediction FROM {meas} WHERE time > now() - 1d GROUP BY time(5m)').get_points(meas)\n",
    "rows = []\n",
    "\n",
    "for data in points:\n",
    "    rows.append(data)\n",
    "    \n",
    "pred_df = pd.DataFrame.from_records(rows)\n",
    "pred_df['time'] = pd.to_datetime(pred_df['time'] * 1000000)\n",
    "\n",
    "pred_df.set_index('time', inplace=True)\n",
    "pred_df"
   ]
  },
  {
   "cell_type": "code",
   "execution_count": 177,
   "id": "a4dc9af2-4582-43e3-a401-d9284066e6dd",
   "metadata": {},
   "outputs": [
    {
     "name": "stderr",
     "output_type": "stream",
     "text": [
      "2023-12-26 11:58:12 DEBUG [exchange_data._database:64] SELECT last(best_bid) as best_bid, last(best_ask) as best_ask FROM UNFIUSDT_OrderBookFrame WHERE time > now() - 1d GROUP BY time(5m)\n"
     ]
    },
    {
     "data": {
      "text/html": [
       "<div>\n",
       "<style scoped>\n",
       "    .dataframe tbody tr th:only-of-type {\n",
       "        vertical-align: middle;\n",
       "    }\n",
       "\n",
       "    .dataframe tbody tr th {\n",
       "        vertical-align: top;\n",
       "    }\n",
       "\n",
       "    .dataframe thead th {\n",
       "        text-align: right;\n",
       "    }\n",
       "</style>\n",
       "<table border=\"1\" class=\"dataframe\">\n",
       "  <thead>\n",
       "    <tr style=\"text-align: right;\">\n",
       "      <th></th>\n",
       "      <th>best_bid</th>\n",
       "      <th>best_ask</th>\n",
       "    </tr>\n",
       "    <tr>\n",
       "      <th>time</th>\n",
       "      <th></th>\n",
       "      <th></th>\n",
       "    </tr>\n",
       "  </thead>\n",
       "  <tbody>\n",
       "    <tr>\n",
       "      <th>2023-12-25 17:55:00</th>\n",
       "      <td>8.024</td>\n",
       "      <td>8.028</td>\n",
       "    </tr>\n",
       "    <tr>\n",
       "      <th>2023-12-25 18:00:00</th>\n",
       "      <td>8.034</td>\n",
       "      <td>8.035</td>\n",
       "    </tr>\n",
       "    <tr>\n",
       "      <th>2023-12-25 18:05:00</th>\n",
       "      <td>8.059</td>\n",
       "      <td>8.062</td>\n",
       "    </tr>\n",
       "    <tr>\n",
       "      <th>2023-12-25 18:10:00</th>\n",
       "      <td>8.041</td>\n",
       "      <td>8.043</td>\n",
       "    </tr>\n",
       "    <tr>\n",
       "      <th>2023-12-25 18:15:00</th>\n",
       "      <td>8.051</td>\n",
       "      <td>8.054</td>\n",
       "    </tr>\n",
       "    <tr>\n",
       "      <th>...</th>\n",
       "      <td>...</td>\n",
       "      <td>...</td>\n",
       "    </tr>\n",
       "    <tr>\n",
       "      <th>2023-12-26 17:35:00</th>\n",
       "      <td>7.106</td>\n",
       "      <td>7.138</td>\n",
       "    </tr>\n",
       "    <tr>\n",
       "      <th>2023-12-26 17:40:00</th>\n",
       "      <td>7.614</td>\n",
       "      <td>7.626</td>\n",
       "    </tr>\n",
       "    <tr>\n",
       "      <th>2023-12-26 17:45:00</th>\n",
       "      <td>7.616</td>\n",
       "      <td>7.619</td>\n",
       "    </tr>\n",
       "    <tr>\n",
       "      <th>2023-12-26 17:50:00</th>\n",
       "      <td>7.600</td>\n",
       "      <td>7.603</td>\n",
       "    </tr>\n",
       "    <tr>\n",
       "      <th>2023-12-26 17:55:00</th>\n",
       "      <td>7.650</td>\n",
       "      <td>7.653</td>\n",
       "    </tr>\n",
       "  </tbody>\n",
       "</table>\n",
       "<p>289 rows × 2 columns</p>\n",
       "</div>"
      ],
      "text/plain": [
       "                     best_bid  best_ask\n",
       "time                                   \n",
       "2023-12-25 17:55:00     8.024     8.028\n",
       "2023-12-25 18:00:00     8.034     8.035\n",
       "2023-12-25 18:05:00     8.059     8.062\n",
       "2023-12-25 18:10:00     8.041     8.043\n",
       "2023-12-25 18:15:00     8.051     8.054\n",
       "...                       ...       ...\n",
       "2023-12-26 17:35:00     7.106     7.138\n",
       "2023-12-26 17:40:00     7.614     7.626\n",
       "2023-12-26 17:45:00     7.616     7.619\n",
       "2023-12-26 17:50:00     7.600     7.603\n",
       "2023-12-26 17:55:00     7.650     7.653\n",
       "\n",
       "[289 rows x 2 columns]"
      ]
     },
     "execution_count": 177,
     "metadata": {},
     "output_type": "execute_result"
    }
   ],
   "source": [
    "meas = 'UNFIUSDT_OrderBookFrame'\n",
    "points = db.query(f'SELECT last(best_bid) as best_bid, last(best_ask) as best_ask FROM {meas} WHERE time > now() - 1d GROUP BY time(5m)').get_points(meas)\n",
    "rows = []\n",
    "\n",
    "for data in points:\n",
    "    rows.append(data)\n",
    "    \n",
    "df = pd.DataFrame.from_records(rows)\n",
    "df['time'] = pd.to_datetime(df['time'] * 1000000)\n",
    "\n",
    "df.set_index('time', inplace=True)\n",
    "\n",
    "df"
   ]
  },
  {
   "cell_type": "code",
   "execution_count": 178,
   "id": "fddef08b-eacb-492f-ac41-2ea9d07659da",
   "metadata": {},
   "outputs": [
    {
     "data": {
      "text/html": [
       "<div>\n",
       "<style scoped>\n",
       "    .dataframe tbody tr th:only-of-type {\n",
       "        vertical-align: middle;\n",
       "    }\n",
       "\n",
       "    .dataframe tbody tr th {\n",
       "        vertical-align: top;\n",
       "    }\n",
       "\n",
       "    .dataframe thead th {\n",
       "        text-align: right;\n",
       "    }\n",
       "</style>\n",
       "<table border=\"1\" class=\"dataframe\">\n",
       "  <thead>\n",
       "    <tr style=\"text-align: right;\">\n",
       "      <th></th>\n",
       "      <th>best_bid</th>\n",
       "      <th>best_ask</th>\n",
       "      <th>prediction</th>\n",
       "    </tr>\n",
       "    <tr>\n",
       "      <th>time</th>\n",
       "      <th></th>\n",
       "      <th></th>\n",
       "      <th></th>\n",
       "    </tr>\n",
       "  </thead>\n",
       "  <tbody>\n",
       "    <tr>\n",
       "      <th>2023-12-25 17:55:00</th>\n",
       "      <td>8.024</td>\n",
       "      <td>8.028</td>\n",
       "      <td>NaN</td>\n",
       "    </tr>\n",
       "    <tr>\n",
       "      <th>2023-12-25 18:00:00</th>\n",
       "      <td>8.034</td>\n",
       "      <td>8.035</td>\n",
       "      <td>0.0</td>\n",
       "    </tr>\n",
       "    <tr>\n",
       "      <th>2023-12-25 18:05:00</th>\n",
       "      <td>8.059</td>\n",
       "      <td>8.062</td>\n",
       "      <td>0.0</td>\n",
       "    </tr>\n",
       "    <tr>\n",
       "      <th>2023-12-25 18:10:00</th>\n",
       "      <td>8.041</td>\n",
       "      <td>8.043</td>\n",
       "      <td>0.0</td>\n",
       "    </tr>\n",
       "    <tr>\n",
       "      <th>2023-12-25 18:15:00</th>\n",
       "      <td>8.051</td>\n",
       "      <td>8.054</td>\n",
       "      <td>0.0</td>\n",
       "    </tr>\n",
       "    <tr>\n",
       "      <th>...</th>\n",
       "      <td>...</td>\n",
       "      <td>...</td>\n",
       "      <td>...</td>\n",
       "    </tr>\n",
       "    <tr>\n",
       "      <th>2023-12-26 17:35:00</th>\n",
       "      <td>7.106</td>\n",
       "      <td>7.138</td>\n",
       "      <td>NaN</td>\n",
       "    </tr>\n",
       "    <tr>\n",
       "      <th>2023-12-26 17:40:00</th>\n",
       "      <td>7.614</td>\n",
       "      <td>7.626</td>\n",
       "      <td>NaN</td>\n",
       "    </tr>\n",
       "    <tr>\n",
       "      <th>2023-12-26 17:45:00</th>\n",
       "      <td>7.616</td>\n",
       "      <td>7.619</td>\n",
       "      <td>NaN</td>\n",
       "    </tr>\n",
       "    <tr>\n",
       "      <th>2023-12-26 17:50:00</th>\n",
       "      <td>7.600</td>\n",
       "      <td>7.603</td>\n",
       "      <td>NaN</td>\n",
       "    </tr>\n",
       "    <tr>\n",
       "      <th>2023-12-26 17:55:00</th>\n",
       "      <td>7.650</td>\n",
       "      <td>7.653</td>\n",
       "      <td>NaN</td>\n",
       "    </tr>\n",
       "  </tbody>\n",
       "</table>\n",
       "<p>289 rows × 3 columns</p>\n",
       "</div>"
      ],
      "text/plain": [
       "                     best_bid  best_ask  prediction\n",
       "time                                               \n",
       "2023-12-25 17:55:00     8.024     8.028         NaN\n",
       "2023-12-25 18:00:00     8.034     8.035         0.0\n",
       "2023-12-25 18:05:00     8.059     8.062         0.0\n",
       "2023-12-25 18:10:00     8.041     8.043         0.0\n",
       "2023-12-25 18:15:00     8.051     8.054         0.0\n",
       "...                       ...       ...         ...\n",
       "2023-12-26 17:35:00     7.106     7.138         NaN\n",
       "2023-12-26 17:40:00     7.614     7.626         NaN\n",
       "2023-12-26 17:45:00     7.616     7.619         NaN\n",
       "2023-12-26 17:50:00     7.600     7.603         NaN\n",
       "2023-12-26 17:55:00     7.650     7.653         NaN\n",
       "\n",
       "[289 rows x 3 columns]"
      ]
     },
     "execution_count": 178,
     "metadata": {},
     "output_type": "execute_result"
    }
   ],
   "source": [
    "df['prediction'] = pred_df['prediction']\n",
    "df"
   ]
  },
  {
   "cell_type": "code",
   "execution_count": 179,
   "id": "4bef42c3-104d-43c0-8fc0-16a3e4244de8",
   "metadata": {},
   "outputs": [],
   "source": [
    "df = df.fillna(0)"
   ]
  },
  {
   "cell_type": "code",
   "execution_count": 180,
   "id": "4a48bb5f-708f-4204-b430-ce87f8b0a7c8",
   "metadata": {},
   "outputs": [
    {
     "name": "stdout",
     "output_type": "stream",
     "text": [
      "                     best_bid  best_ask  prediction  capital\n",
      "time                                                        \n",
      "2023-12-25 17:55:00     8.024     8.028         0.0        1\n",
      "2023-12-25 18:00:00     8.034     8.035         0.0        1\n",
      "2023-12-25 18:05:00     8.059     8.062         0.0        1\n",
      "2023-12-25 18:10:00     8.041     8.043         0.0        1\n",
      "2023-12-25 18:15:00     8.051     8.054         0.0        1\n",
      "...                       ...       ...         ...      ...\n",
      "2023-12-26 17:35:00     7.106     7.138         0.0        1\n",
      "2023-12-26 17:40:00     7.614     7.626         0.0        1\n",
      "2023-12-26 17:45:00     7.616     7.619         0.0        1\n",
      "2023-12-26 17:50:00     7.600     7.603         0.0        1\n",
      "2023-12-26 17:55:00     7.650     7.653         0.0        1\n",
      "\n",
      "[289 rows x 4 columns]\n"
     ]
    },
    {
     "data": {
      "application/vnd.plotly.v1+json": {
       "config": {
        "plotlyServerURL": "https://plot.ly"
       },
       "data": [
        {
         "hovertemplate": "time=%{x}<br>capital=%{y}<extra></extra>",
         "legendgroup": "",
         "line": {
          "color": "#636efa",
          "dash": "solid"
         },
         "marker": {
          "symbol": "circle"
         },
         "mode": "lines",
         "name": "",
         "orientation": "v",
         "showlegend": false,
         "type": "scatter",
         "x": [
          "2023-12-25T17:55:00",
          "2023-12-25T18:00:00",
          "2023-12-25T18:05:00",
          "2023-12-25T18:10:00",
          "2023-12-25T18:15:00",
          "2023-12-25T18:20:00",
          "2023-12-25T18:25:00",
          "2023-12-25T18:30:00",
          "2023-12-25T18:35:00",
          "2023-12-25T18:40:00",
          "2023-12-25T18:45:00",
          "2023-12-25T18:50:00",
          "2023-12-25T18:55:00",
          "2023-12-25T19:00:00",
          "2023-12-25T19:05:00",
          "2023-12-25T19:10:00",
          "2023-12-25T19:15:00",
          "2023-12-25T19:20:00",
          "2023-12-25T19:25:00",
          "2023-12-25T19:30:00",
          "2023-12-25T19:35:00",
          "2023-12-25T19:40:00",
          "2023-12-25T19:45:00",
          "2023-12-25T19:50:00",
          "2023-12-25T19:55:00",
          "2023-12-25T20:00:00",
          "2023-12-25T20:05:00",
          "2023-12-25T20:10:00",
          "2023-12-25T20:15:00",
          "2023-12-25T20:20:00",
          "2023-12-25T20:25:00",
          "2023-12-25T20:30:00",
          "2023-12-25T20:35:00",
          "2023-12-25T20:40:00",
          "2023-12-25T20:45:00",
          "2023-12-25T20:50:00",
          "2023-12-25T20:55:00",
          "2023-12-25T21:00:00",
          "2023-12-25T21:05:00",
          "2023-12-25T21:10:00",
          "2023-12-25T21:15:00",
          "2023-12-25T21:20:00",
          "2023-12-25T21:25:00",
          "2023-12-25T21:30:00",
          "2023-12-25T21:35:00",
          "2023-12-25T21:40:00",
          "2023-12-25T21:45:00",
          "2023-12-25T21:50:00",
          "2023-12-25T21:55:00",
          "2023-12-25T22:00:00",
          "2023-12-25T22:05:00",
          "2023-12-25T22:10:00",
          "2023-12-25T22:15:00",
          "2023-12-25T22:20:00",
          "2023-12-25T22:25:00",
          "2023-12-25T22:30:00",
          "2023-12-25T22:35:00",
          "2023-12-25T22:40:00",
          "2023-12-25T22:45:00",
          "2023-12-25T22:50:00",
          "2023-12-25T22:55:00",
          "2023-12-25T23:00:00",
          "2023-12-25T23:05:00",
          "2023-12-25T23:10:00",
          "2023-12-25T23:15:00",
          "2023-12-25T23:20:00",
          "2023-12-25T23:25:00",
          "2023-12-25T23:30:00",
          "2023-12-25T23:35:00",
          "2023-12-25T23:40:00",
          "2023-12-25T23:45:00",
          "2023-12-25T23:50:00",
          "2023-12-25T23:55:00",
          "2023-12-26T00:00:00",
          "2023-12-26T00:05:00",
          "2023-12-26T00:10:00",
          "2023-12-26T00:15:00",
          "2023-12-26T00:20:00",
          "2023-12-26T00:25:00",
          "2023-12-26T00:30:00",
          "2023-12-26T00:35:00",
          "2023-12-26T00:40:00",
          "2023-12-26T00:45:00",
          "2023-12-26T00:50:00",
          "2023-12-26T00:55:00",
          "2023-12-26T01:00:00",
          "2023-12-26T01:05:00",
          "2023-12-26T01:10:00",
          "2023-12-26T01:15:00",
          "2023-12-26T01:20:00",
          "2023-12-26T01:25:00",
          "2023-12-26T01:30:00",
          "2023-12-26T01:35:00",
          "2023-12-26T01:40:00",
          "2023-12-26T01:45:00",
          "2023-12-26T01:50:00",
          "2023-12-26T01:55:00",
          "2023-12-26T02:00:00",
          "2023-12-26T02:05:00",
          "2023-12-26T02:10:00",
          "2023-12-26T02:15:00",
          "2023-12-26T02:20:00",
          "2023-12-26T02:25:00",
          "2023-12-26T02:30:00",
          "2023-12-26T02:35:00",
          "2023-12-26T02:40:00",
          "2023-12-26T02:45:00",
          "2023-12-26T02:50:00",
          "2023-12-26T02:55:00",
          "2023-12-26T03:00:00",
          "2023-12-26T03:05:00",
          "2023-12-26T03:10:00",
          "2023-12-26T03:15:00",
          "2023-12-26T03:20:00",
          "2023-12-26T03:25:00",
          "2023-12-26T03:30:00",
          "2023-12-26T03:35:00",
          "2023-12-26T03:40:00",
          "2023-12-26T03:45:00",
          "2023-12-26T03:50:00",
          "2023-12-26T03:55:00",
          "2023-12-26T04:00:00",
          "2023-12-26T04:05:00",
          "2023-12-26T04:10:00",
          "2023-12-26T04:15:00",
          "2023-12-26T04:20:00",
          "2023-12-26T04:25:00",
          "2023-12-26T04:30:00",
          "2023-12-26T04:35:00",
          "2023-12-26T04:40:00",
          "2023-12-26T04:45:00",
          "2023-12-26T04:50:00",
          "2023-12-26T04:55:00",
          "2023-12-26T05:00:00",
          "2023-12-26T05:05:00",
          "2023-12-26T05:10:00",
          "2023-12-26T05:15:00",
          "2023-12-26T05:20:00",
          "2023-12-26T05:25:00",
          "2023-12-26T05:30:00",
          "2023-12-26T05:35:00",
          "2023-12-26T05:40:00",
          "2023-12-26T05:45:00",
          "2023-12-26T05:50:00",
          "2023-12-26T05:55:00",
          "2023-12-26T06:00:00",
          "2023-12-26T06:05:00",
          "2023-12-26T06:10:00",
          "2023-12-26T06:15:00",
          "2023-12-26T06:20:00",
          "2023-12-26T06:25:00",
          "2023-12-26T06:30:00",
          "2023-12-26T06:35:00",
          "2023-12-26T06:40:00",
          "2023-12-26T06:45:00",
          "2023-12-26T06:50:00",
          "2023-12-26T06:55:00",
          "2023-12-26T07:00:00",
          "2023-12-26T07:05:00",
          "2023-12-26T07:10:00",
          "2023-12-26T07:15:00",
          "2023-12-26T07:20:00",
          "2023-12-26T07:25:00",
          "2023-12-26T07:30:00",
          "2023-12-26T07:35:00",
          "2023-12-26T07:40:00",
          "2023-12-26T07:45:00",
          "2023-12-26T07:50:00",
          "2023-12-26T07:55:00",
          "2023-12-26T08:00:00",
          "2023-12-26T08:05:00",
          "2023-12-26T08:10:00",
          "2023-12-26T08:15:00",
          "2023-12-26T08:20:00",
          "2023-12-26T08:25:00",
          "2023-12-26T08:30:00",
          "2023-12-26T08:35:00",
          "2023-12-26T08:40:00",
          "2023-12-26T08:45:00",
          "2023-12-26T08:50:00",
          "2023-12-26T08:55:00",
          "2023-12-26T09:00:00",
          "2023-12-26T09:05:00",
          "2023-12-26T09:10:00",
          "2023-12-26T09:15:00",
          "2023-12-26T09:20:00",
          "2023-12-26T09:25:00",
          "2023-12-26T09:30:00",
          "2023-12-26T09:35:00",
          "2023-12-26T09:40:00",
          "2023-12-26T09:45:00",
          "2023-12-26T09:50:00",
          "2023-12-26T09:55:00",
          "2023-12-26T10:00:00",
          "2023-12-26T10:05:00",
          "2023-12-26T10:10:00",
          "2023-12-26T10:15:00",
          "2023-12-26T10:20:00",
          "2023-12-26T10:25:00",
          "2023-12-26T10:30:00",
          "2023-12-26T10:35:00",
          "2023-12-26T10:40:00",
          "2023-12-26T10:45:00",
          "2023-12-26T10:50:00",
          "2023-12-26T10:55:00",
          "2023-12-26T11:00:00",
          "2023-12-26T11:05:00",
          "2023-12-26T11:10:00",
          "2023-12-26T11:15:00",
          "2023-12-26T11:20:00",
          "2023-12-26T11:25:00",
          "2023-12-26T11:30:00",
          "2023-12-26T11:35:00",
          "2023-12-26T11:40:00",
          "2023-12-26T11:45:00",
          "2023-12-26T11:50:00",
          "2023-12-26T11:55:00",
          "2023-12-26T12:00:00",
          "2023-12-26T12:05:00",
          "2023-12-26T12:10:00",
          "2023-12-26T12:15:00",
          "2023-12-26T12:20:00",
          "2023-12-26T12:25:00",
          "2023-12-26T12:30:00",
          "2023-12-26T12:35:00",
          "2023-12-26T12:40:00",
          "2023-12-26T12:45:00",
          "2023-12-26T12:50:00",
          "2023-12-26T12:55:00",
          "2023-12-26T13:00:00",
          "2023-12-26T13:05:00",
          "2023-12-26T13:10:00",
          "2023-12-26T13:15:00",
          "2023-12-26T13:20:00",
          "2023-12-26T13:25:00",
          "2023-12-26T13:30:00",
          "2023-12-26T13:35:00",
          "2023-12-26T13:40:00",
          "2023-12-26T13:45:00",
          "2023-12-26T13:50:00",
          "2023-12-26T13:55:00",
          "2023-12-26T14:00:00",
          "2023-12-26T14:05:00",
          "2023-12-26T14:10:00",
          "2023-12-26T14:15:00",
          "2023-12-26T14:20:00",
          "2023-12-26T14:25:00",
          "2023-12-26T14:30:00",
          "2023-12-26T14:35:00",
          "2023-12-26T14:40:00",
          "2023-12-26T14:45:00",
          "2023-12-26T14:50:00",
          "2023-12-26T14:55:00",
          "2023-12-26T15:00:00",
          "2023-12-26T15:05:00",
          "2023-12-26T15:10:00",
          "2023-12-26T15:15:00",
          "2023-12-26T15:20:00",
          "2023-12-26T15:25:00",
          "2023-12-26T15:30:00",
          "2023-12-26T15:35:00",
          "2023-12-26T15:40:00",
          "2023-12-26T15:45:00",
          "2023-12-26T15:50:00",
          "2023-12-26T15:55:00",
          "2023-12-26T16:00:00",
          "2023-12-26T16:05:00",
          "2023-12-26T16:10:00",
          "2023-12-26T16:15:00",
          "2023-12-26T16:20:00",
          "2023-12-26T16:25:00",
          "2023-12-26T16:30:00",
          "2023-12-26T16:35:00",
          "2023-12-26T16:40:00",
          "2023-12-26T16:45:00",
          "2023-12-26T16:50:00",
          "2023-12-26T16:55:00",
          "2023-12-26T17:00:00",
          "2023-12-26T17:05:00",
          "2023-12-26T17:10:00",
          "2023-12-26T17:15:00",
          "2023-12-26T17:20:00",
          "2023-12-26T17:25:00",
          "2023-12-26T17:30:00",
          "2023-12-26T17:35:00",
          "2023-12-26T17:40:00",
          "2023-12-26T17:45:00",
          "2023-12-26T17:50:00",
          "2023-12-26T17:55:00"
         ],
         "xaxis": "x",
         "y": [
          1,
          1,
          1,
          1,
          1,
          1,
          1,
          1,
          1,
          1,
          1,
          1,
          1,
          1,
          1,
          1,
          1,
          1,
          1,
          1,
          1,
          1,
          1,
          1,
          1,
          1,
          1,
          1,
          1,
          1,
          1,
          1,
          1,
          1,
          1,
          1,
          1,
          1,
          1,
          1,
          1,
          1,
          1,
          1,
          1,
          1,
          1,
          1,
          1,
          1,
          1,
          1,
          1,
          1,
          1,
          1,
          1,
          1,
          1,
          1,
          1,
          1,
          1,
          1,
          1,
          1,
          1,
          1,
          1,
          1,
          1,
          1,
          1,
          1,
          1,
          1,
          1,
          1,
          1,
          1,
          1,
          1,
          1,
          1,
          1,
          1,
          1,
          1,
          1,
          1,
          1,
          1,
          1,
          1,
          1,
          1,
          1,
          1,
          1,
          1,
          1,
          1,
          1,
          1,
          1,
          1,
          1,
          1,
          1,
          1,
          1,
          1,
          1,
          1,
          1,
          1,
          1,
          1,
          1,
          1,
          1,
          1,
          1,
          1,
          1,
          1,
          1,
          1,
          1,
          1,
          1,
          1,
          1,
          1,
          1,
          1,
          1,
          1,
          1,
          1,
          1,
          1,
          1,
          1,
          1,
          1,
          1,
          1,
          1,
          1,
          1,
          1,
          1,
          1,
          1,
          1,
          1,
          1,
          1,
          1,
          1,
          1,
          1,
          1,
          1,
          1,
          1,
          1,
          1,
          1,
          1,
          1,
          1,
          1,
          1,
          1,
          1,
          1,
          1,
          1,
          1,
          1,
          1,
          1,
          1,
          1,
          1,
          1,
          1,
          1,
          1,
          1,
          1,
          1,
          1,
          1,
          1,
          1,
          1,
          1,
          1,
          1,
          1,
          1,
          1,
          1,
          1,
          1,
          1,
          1,
          1,
          1,
          1,
          1,
          1,
          1,
          1,
          1,
          1,
          1,
          1,
          1,
          1,
          1,
          1,
          1,
          1,
          1,
          1,
          1,
          1,
          1,
          1,
          1,
          1,
          1,
          1,
          1,
          1,
          1,
          1,
          1,
          1,
          1,
          1,
          1,
          1,
          1,
          1,
          1,
          1,
          1,
          1,
          1,
          1,
          1,
          1,
          1,
          1,
          1,
          1,
          1,
          1,
          1,
          1,
          1,
          1,
          1,
          1,
          1,
          1,
          1,
          1,
          1,
          1,
          1,
          1,
          1,
          1,
          1,
          1,
          1,
          1,
          1,
          1,
          1,
          1,
          1,
          1
         ],
         "yaxis": "y"
        }
       ],
       "layout": {
        "autosize": true,
        "legend": {
         "tracegroupgap": 0
        },
        "margin": {
         "t": 60
        },
        "template": {
         "data": {
          "bar": [
           {
            "error_x": {
             "color": "#2a3f5f"
            },
            "error_y": {
             "color": "#2a3f5f"
            },
            "marker": {
             "line": {
              "color": "#E5ECF6",
              "width": 0.5
             },
             "pattern": {
              "fillmode": "overlay",
              "size": 10,
              "solidity": 0.2
             }
            },
            "type": "bar"
           }
          ],
          "barpolar": [
           {
            "marker": {
             "line": {
              "color": "#E5ECF6",
              "width": 0.5
             },
             "pattern": {
              "fillmode": "overlay",
              "size": 10,
              "solidity": 0.2
             }
            },
            "type": "barpolar"
           }
          ],
          "carpet": [
           {
            "aaxis": {
             "endlinecolor": "#2a3f5f",
             "gridcolor": "white",
             "linecolor": "white",
             "minorgridcolor": "white",
             "startlinecolor": "#2a3f5f"
            },
            "baxis": {
             "endlinecolor": "#2a3f5f",
             "gridcolor": "white",
             "linecolor": "white",
             "minorgridcolor": "white",
             "startlinecolor": "#2a3f5f"
            },
            "type": "carpet"
           }
          ],
          "choropleth": [
           {
            "colorbar": {
             "outlinewidth": 0,
             "ticks": ""
            },
            "type": "choropleth"
           }
          ],
          "contour": [
           {
            "colorbar": {
             "outlinewidth": 0,
             "ticks": ""
            },
            "colorscale": [
             [
              0,
              "#0d0887"
             ],
             [
              0.1111111111111111,
              "#46039f"
             ],
             [
              0.2222222222222222,
              "#7201a8"
             ],
             [
              0.3333333333333333,
              "#9c179e"
             ],
             [
              0.4444444444444444,
              "#bd3786"
             ],
             [
              0.5555555555555556,
              "#d8576b"
             ],
             [
              0.6666666666666666,
              "#ed7953"
             ],
             [
              0.7777777777777778,
              "#fb9f3a"
             ],
             [
              0.8888888888888888,
              "#fdca26"
             ],
             [
              1,
              "#f0f921"
             ]
            ],
            "type": "contour"
           }
          ],
          "contourcarpet": [
           {
            "colorbar": {
             "outlinewidth": 0,
             "ticks": ""
            },
            "type": "contourcarpet"
           }
          ],
          "heatmap": [
           {
            "colorbar": {
             "outlinewidth": 0,
             "ticks": ""
            },
            "colorscale": [
             [
              0,
              "#0d0887"
             ],
             [
              0.1111111111111111,
              "#46039f"
             ],
             [
              0.2222222222222222,
              "#7201a8"
             ],
             [
              0.3333333333333333,
              "#9c179e"
             ],
             [
              0.4444444444444444,
              "#bd3786"
             ],
             [
              0.5555555555555556,
              "#d8576b"
             ],
             [
              0.6666666666666666,
              "#ed7953"
             ],
             [
              0.7777777777777778,
              "#fb9f3a"
             ],
             [
              0.8888888888888888,
              "#fdca26"
             ],
             [
              1,
              "#f0f921"
             ]
            ],
            "type": "heatmap"
           }
          ],
          "heatmapgl": [
           {
            "colorbar": {
             "outlinewidth": 0,
             "ticks": ""
            },
            "colorscale": [
             [
              0,
              "#0d0887"
             ],
             [
              0.1111111111111111,
              "#46039f"
             ],
             [
              0.2222222222222222,
              "#7201a8"
             ],
             [
              0.3333333333333333,
              "#9c179e"
             ],
             [
              0.4444444444444444,
              "#bd3786"
             ],
             [
              0.5555555555555556,
              "#d8576b"
             ],
             [
              0.6666666666666666,
              "#ed7953"
             ],
             [
              0.7777777777777778,
              "#fb9f3a"
             ],
             [
              0.8888888888888888,
              "#fdca26"
             ],
             [
              1,
              "#f0f921"
             ]
            ],
            "type": "heatmapgl"
           }
          ],
          "histogram": [
           {
            "marker": {
             "pattern": {
              "fillmode": "overlay",
              "size": 10,
              "solidity": 0.2
             }
            },
            "type": "histogram"
           }
          ],
          "histogram2d": [
           {
            "colorbar": {
             "outlinewidth": 0,
             "ticks": ""
            },
            "colorscale": [
             [
              0,
              "#0d0887"
             ],
             [
              0.1111111111111111,
              "#46039f"
             ],
             [
              0.2222222222222222,
              "#7201a8"
             ],
             [
              0.3333333333333333,
              "#9c179e"
             ],
             [
              0.4444444444444444,
              "#bd3786"
             ],
             [
              0.5555555555555556,
              "#d8576b"
             ],
             [
              0.6666666666666666,
              "#ed7953"
             ],
             [
              0.7777777777777778,
              "#fb9f3a"
             ],
             [
              0.8888888888888888,
              "#fdca26"
             ],
             [
              1,
              "#f0f921"
             ]
            ],
            "type": "histogram2d"
           }
          ],
          "histogram2dcontour": [
           {
            "colorbar": {
             "outlinewidth": 0,
             "ticks": ""
            },
            "colorscale": [
             [
              0,
              "#0d0887"
             ],
             [
              0.1111111111111111,
              "#46039f"
             ],
             [
              0.2222222222222222,
              "#7201a8"
             ],
             [
              0.3333333333333333,
              "#9c179e"
             ],
             [
              0.4444444444444444,
              "#bd3786"
             ],
             [
              0.5555555555555556,
              "#d8576b"
             ],
             [
              0.6666666666666666,
              "#ed7953"
             ],
             [
              0.7777777777777778,
              "#fb9f3a"
             ],
             [
              0.8888888888888888,
              "#fdca26"
             ],
             [
              1,
              "#f0f921"
             ]
            ],
            "type": "histogram2dcontour"
           }
          ],
          "mesh3d": [
           {
            "colorbar": {
             "outlinewidth": 0,
             "ticks": ""
            },
            "type": "mesh3d"
           }
          ],
          "parcoords": [
           {
            "line": {
             "colorbar": {
              "outlinewidth": 0,
              "ticks": ""
             }
            },
            "type": "parcoords"
           }
          ],
          "pie": [
           {
            "automargin": true,
            "type": "pie"
           }
          ],
          "scatter": [
           {
            "fillpattern": {
             "fillmode": "overlay",
             "size": 10,
             "solidity": 0.2
            },
            "type": "scatter"
           }
          ],
          "scatter3d": [
           {
            "line": {
             "colorbar": {
              "outlinewidth": 0,
              "ticks": ""
             }
            },
            "marker": {
             "colorbar": {
              "outlinewidth": 0,
              "ticks": ""
             }
            },
            "type": "scatter3d"
           }
          ],
          "scattercarpet": [
           {
            "marker": {
             "colorbar": {
              "outlinewidth": 0,
              "ticks": ""
             }
            },
            "type": "scattercarpet"
           }
          ],
          "scattergeo": [
           {
            "marker": {
             "colorbar": {
              "outlinewidth": 0,
              "ticks": ""
             }
            },
            "type": "scattergeo"
           }
          ],
          "scattergl": [
           {
            "marker": {
             "colorbar": {
              "outlinewidth": 0,
              "ticks": ""
             }
            },
            "type": "scattergl"
           }
          ],
          "scattermapbox": [
           {
            "marker": {
             "colorbar": {
              "outlinewidth": 0,
              "ticks": ""
             }
            },
            "type": "scattermapbox"
           }
          ],
          "scatterpolar": [
           {
            "marker": {
             "colorbar": {
              "outlinewidth": 0,
              "ticks": ""
             }
            },
            "type": "scatterpolar"
           }
          ],
          "scatterpolargl": [
           {
            "marker": {
             "colorbar": {
              "outlinewidth": 0,
              "ticks": ""
             }
            },
            "type": "scatterpolargl"
           }
          ],
          "scatterternary": [
           {
            "marker": {
             "colorbar": {
              "outlinewidth": 0,
              "ticks": ""
             }
            },
            "type": "scatterternary"
           }
          ],
          "surface": [
           {
            "colorbar": {
             "outlinewidth": 0,
             "ticks": ""
            },
            "colorscale": [
             [
              0,
              "#0d0887"
             ],
             [
              0.1111111111111111,
              "#46039f"
             ],
             [
              0.2222222222222222,
              "#7201a8"
             ],
             [
              0.3333333333333333,
              "#9c179e"
             ],
             [
              0.4444444444444444,
              "#bd3786"
             ],
             [
              0.5555555555555556,
              "#d8576b"
             ],
             [
              0.6666666666666666,
              "#ed7953"
             ],
             [
              0.7777777777777778,
              "#fb9f3a"
             ],
             [
              0.8888888888888888,
              "#fdca26"
             ],
             [
              1,
              "#f0f921"
             ]
            ],
            "type": "surface"
           }
          ],
          "table": [
           {
            "cells": {
             "fill": {
              "color": "#EBF0F8"
             },
             "line": {
              "color": "white"
             }
            },
            "header": {
             "fill": {
              "color": "#C8D4E3"
             },
             "line": {
              "color": "white"
             }
            },
            "type": "table"
           }
          ]
         },
         "layout": {
          "annotationdefaults": {
           "arrowcolor": "#2a3f5f",
           "arrowhead": 0,
           "arrowwidth": 1
          },
          "autotypenumbers": "strict",
          "coloraxis": {
           "colorbar": {
            "outlinewidth": 0,
            "ticks": ""
           }
          },
          "colorscale": {
           "diverging": [
            [
             0,
             "#8e0152"
            ],
            [
             0.1,
             "#c51b7d"
            ],
            [
             0.2,
             "#de77ae"
            ],
            [
             0.3,
             "#f1b6da"
            ],
            [
             0.4,
             "#fde0ef"
            ],
            [
             0.5,
             "#f7f7f7"
            ],
            [
             0.6,
             "#e6f5d0"
            ],
            [
             0.7,
             "#b8e186"
            ],
            [
             0.8,
             "#7fbc41"
            ],
            [
             0.9,
             "#4d9221"
            ],
            [
             1,
             "#276419"
            ]
           ],
           "sequential": [
            [
             0,
             "#0d0887"
            ],
            [
             0.1111111111111111,
             "#46039f"
            ],
            [
             0.2222222222222222,
             "#7201a8"
            ],
            [
             0.3333333333333333,
             "#9c179e"
            ],
            [
             0.4444444444444444,
             "#bd3786"
            ],
            [
             0.5555555555555556,
             "#d8576b"
            ],
            [
             0.6666666666666666,
             "#ed7953"
            ],
            [
             0.7777777777777778,
             "#fb9f3a"
            ],
            [
             0.8888888888888888,
             "#fdca26"
            ],
            [
             1,
             "#f0f921"
            ]
           ],
           "sequentialminus": [
            [
             0,
             "#0d0887"
            ],
            [
             0.1111111111111111,
             "#46039f"
            ],
            [
             0.2222222222222222,
             "#7201a8"
            ],
            [
             0.3333333333333333,
             "#9c179e"
            ],
            [
             0.4444444444444444,
             "#bd3786"
            ],
            [
             0.5555555555555556,
             "#d8576b"
            ],
            [
             0.6666666666666666,
             "#ed7953"
            ],
            [
             0.7777777777777778,
             "#fb9f3a"
            ],
            [
             0.8888888888888888,
             "#fdca26"
            ],
            [
             1,
             "#f0f921"
            ]
           ]
          },
          "colorway": [
           "#636efa",
           "#EF553B",
           "#00cc96",
           "#ab63fa",
           "#FFA15A",
           "#19d3f3",
           "#FF6692",
           "#B6E880",
           "#FF97FF",
           "#FECB52"
          ],
          "font": {
           "color": "#2a3f5f"
          },
          "geo": {
           "bgcolor": "white",
           "lakecolor": "white",
           "landcolor": "#E5ECF6",
           "showlakes": true,
           "showland": true,
           "subunitcolor": "white"
          },
          "hoverlabel": {
           "align": "left"
          },
          "hovermode": "closest",
          "mapbox": {
           "style": "light"
          },
          "paper_bgcolor": "white",
          "plot_bgcolor": "#E5ECF6",
          "polar": {
           "angularaxis": {
            "gridcolor": "white",
            "linecolor": "white",
            "ticks": ""
           },
           "bgcolor": "#E5ECF6",
           "radialaxis": {
            "gridcolor": "white",
            "linecolor": "white",
            "ticks": ""
           }
          },
          "scene": {
           "xaxis": {
            "backgroundcolor": "#E5ECF6",
            "gridcolor": "white",
            "gridwidth": 2,
            "linecolor": "white",
            "showbackground": true,
            "ticks": "",
            "zerolinecolor": "white"
           },
           "yaxis": {
            "backgroundcolor": "#E5ECF6",
            "gridcolor": "white",
            "gridwidth": 2,
            "linecolor": "white",
            "showbackground": true,
            "ticks": "",
            "zerolinecolor": "white"
           },
           "zaxis": {
            "backgroundcolor": "#E5ECF6",
            "gridcolor": "white",
            "gridwidth": 2,
            "linecolor": "white",
            "showbackground": true,
            "ticks": "",
            "zerolinecolor": "white"
           }
          },
          "shapedefaults": {
           "line": {
            "color": "#2a3f5f"
           }
          },
          "ternary": {
           "aaxis": {
            "gridcolor": "white",
            "linecolor": "white",
            "ticks": ""
           },
           "baxis": {
            "gridcolor": "white",
            "linecolor": "white",
            "ticks": ""
           },
           "bgcolor": "#E5ECF6",
           "caxis": {
            "gridcolor": "white",
            "linecolor": "white",
            "ticks": ""
           }
          },
          "title": {
           "x": 0.05
          },
          "xaxis": {
           "automargin": true,
           "gridcolor": "white",
           "linecolor": "white",
           "ticks": "",
           "title": {
            "standoff": 15
           },
           "zerolinecolor": "white",
           "zerolinewidth": 2
          },
          "yaxis": {
           "automargin": true,
           "gridcolor": "white",
           "linecolor": "white",
           "ticks": "",
           "title": {
            "standoff": 15
           },
           "zerolinecolor": "white",
           "zerolinewidth": 2
          }
         }
        },
        "xaxis": {
         "anchor": "y",
         "autorange": true,
         "domain": [
          0,
          1
         ],
         "range": [
          "2023-12-25 17:55",
          "2023-12-26 17:55"
         ],
         "title": {
          "text": "time"
         },
         "type": "date"
        },
        "yaxis": {
         "anchor": "x",
         "autorange": true,
         "domain": [
          0,
          1
         ],
         "range": [
          0,
          2
         ],
         "title": {
          "text": "capital"
         },
         "type": "linear"
        }
       }
      },
      "image/png": "[encoded data removed]",
      "text/html": [
       "<div>                            <div id=\"4558ccc8-c3ba-4095-a446-13f5362c1428\" class=\"plotly-graph-div\" style=\"height:700px; width:100%;\"></div>            <script type=\"text/javascript\">                require([\"plotly\"], function(Plotly) {                    window.PLOTLYENV=window.PLOTLYENV || {};                                    if (document.getElementById(\"4558ccc8-c3ba-4095-a446-13f5362c1428\")) {                    Plotly.newPlot(                        \"4558ccc8-c3ba-4095-a446-13f5362c1428\",                        [{\"hovertemplate\":\"time=%{x}\\u003cbr\\u003ecapital=%{y}\\u003cextra\\u003e\\u003c\\u002fextra\\u003e\",\"legendgroup\":\"\",\"line\":{\"color\":\"#636efa\",\"dash\":\"solid\"},\"marker\":{\"symbol\":\"circle\"},\"mode\":\"lines\",\"name\":\"\",\"orientation\":\"v\",\"showlegend\":false,\"x\":[\"2023-12-25T17:55:00\",\"2023-12-25T18:00:00\",\"2023-12-25T18:05:00\",\"2023-12-25T18:10:00\",\"2023-12-25T18:15:00\",\"2023-12-25T18:20:00\",\"2023-12-25T18:25:00\",\"2023-12-25T18:30:00\",\"2023-12-25T18:35:00\",\"2023-12-25T18:40:00\",\"2023-12-25T18:45:00\",\"2023-12-25T18:50:00\",\"2023-12-25T18:55:00\",\"2023-12-25T19:00:00\",\"2023-12-25T19:05:00\",\"2023-12-25T19:10:00\",\"2023-12-25T19:15:00\",\"2023-12-25T19:20:00\",\"2023-12-25T19:25:00\",\"2023-12-25T19:30:00\",\"2023-12-25T19:35:00\",\"2023-12-25T19:40:00\",\"2023-12-25T19:45:00\",\"2023-12-25T19:50:00\",\"2023-12-25T19:55:00\",\"2023-12-25T20:00:00\",\"2023-12-25T20:05:00\",\"2023-12-25T20:10:00\",\"2023-12-25T20:15:00\",\"2023-12-25T20:20:00\",\"2023-12-25T20:25:00\",\"2023-12-25T20:30:00\",\"2023-12-25T20:35:00\",\"2023-12-25T20:40:00\",\"2023-12-25T20:45:00\",\"2023-12-25T20:50:00\",\"2023-12-25T20:55:00\",\"2023-12-25T21:00:00\",\"2023-12-25T21:05:00\",\"2023-12-25T21:10:00\",\"2023-12-25T21:15:00\",\"2023-12-25T21:20:00\",\"2023-12-25T21:25:00\",\"2023-12-25T21:30:00\",\"2023-12-25T21:35:00\",\"2023-12-25T21:40:00\",\"2023-12-25T21:45:00\",\"2023-12-25T21:50:00\",\"2023-12-25T21:55:00\",\"2023-12-25T22:00:00\",\"2023-12-25T22:05:00\",\"2023-12-25T22:10:00\",\"2023-12-25T22:15:00\",\"2023-12-25T22:20:00\",\"2023-12-25T22:25:00\",\"2023-12-25T22:30:00\",\"2023-12-25T22:35:00\",\"2023-12-25T22:40:00\",\"2023-12-25T22:45:00\",\"2023-12-25T22:50:00\",\"2023-12-25T22:55:00\",\"2023-12-25T23:00:00\",\"2023-12-25T23:05:00\",\"2023-12-25T23:10:00\",\"2023-12-25T23:15:00\",\"2023-12-25T23:20:00\",\"2023-12-25T23:25:00\",\"2023-12-25T23:30:00\",\"2023-12-25T23:35:00\",\"2023-12-25T23:40:00\",\"2023-12-25T23:45:00\",\"2023-12-25T23:50:00\",\"2023-12-25T23:55:00\",\"2023-12-26T00:00:00\",\"2023-12-26T00:05:00\",\"2023-12-26T00:10:00\",\"2023-12-26T00:15:00\",\"2023-12-26T00:20:00\",\"2023-12-26T00:25:00\",\"2023-12-26T00:30:00\",\"2023-12-26T00:35:00\",\"2023-12-26T00:40:00\",\"2023-12-26T00:45:00\",\"2023-12-26T00:50:00\",\"2023-12-26T00:55:00\",\"2023-12-26T01:00:00\",\"2023-12-26T01:05:00\",\"2023-12-26T01:10:00\",\"2023-12-26T01:15:00\",\"2023-12-26T01:20:00\",\"2023-12-26T01:25:00\",\"2023-12-26T01:30:00\",\"2023-12-26T01:35:00\",\"2023-12-26T01:40:00\",\"2023-12-26T01:45:00\",\"2023-12-26T01:50:00\",\"2023-12-26T01:55:00\",\"2023-12-26T02:00:00\",\"2023-12-26T02:05:00\",\"2023-12-26T02:10:00\",\"2023-12-26T02:15:00\",\"2023-12-26T02:20:00\",\"2023-12-26T02:25:00\",\"2023-12-26T02:30:00\",\"2023-12-26T02:35:00\",\"2023-12-26T02:40:00\",\"2023-12-26T02:45:00\",\"2023-12-26T02:50:00\",\"2023-12-26T02:55:00\",\"2023-12-26T03:00:00\",\"2023-12-26T03:05:00\",\"2023-12-26T03:10:00\",\"2023-12-26T03:15:00\",\"2023-12-26T03:20:00\",\"2023-12-26T03:25:00\",\"2023-12-26T03:30:00\",\"2023-12-26T03:35:00\",\"2023-12-26T03:40:00\",\"2023-12-26T03:45:00\",\"2023-12-26T03:50:00\",\"2023-12-26T03:55:00\",\"2023-12-26T04:00:00\",\"2023-12-26T04:05:00\",\"2023-12-26T04:10:00\",\"2023-12-26T04:15:00\",\"2023-12-26T04:20:00\",\"2023-12-26T04:25:00\",\"2023-12-26T04:30:00\",\"2023-12-26T04:35:00\",\"2023-12-26T04:40:00\",\"2023-12-26T04:45:00\",\"2023-12-26T04:50:00\",\"2023-12-26T04:55:00\",\"2023-12-26T05:00:00\",\"2023-12-26T05:05:00\",\"2023-12-26T05:10:00\",\"2023-12-26T05:15:00\",\"2023-12-26T05:20:00\",\"2023-12-26T05:25:00\",\"2023-12-26T05:30:00\",\"2023-12-26T05:35:00\",\"2023-12-26T05:40:00\",\"2023-12-26T05:45:00\",\"2023-12-26T05:50:00\",\"2023-12-26T05:55:00\",\"2023-12-26T06:00:00\",\"2023-12-26T06:05:00\",\"2023-12-26T06:10:00\",\"2023-12-26T06:15:00\",\"2023-12-26T06:20:00\",\"2023-12-26T06:25:00\",\"2023-12-26T06:30:00\",\"2023-12-26T06:35:00\",\"2023-12-26T06:40:00\",\"2023-12-26T06:45:00\",\"2023-12-26T06:50:00\",\"2023-12-26T06:55:00\",\"2023-12-26T07:00:00\",\"2023-12-26T07:05:00\",\"2023-12-26T07:10:00\",\"2023-12-26T07:15:00\",\"2023-12-26T07:20:00\",\"2023-12-26T07:25:00\",\"2023-12-26T07:30:00\",\"2023-12-26T07:35:00\",\"2023-12-26T07:40:00\",\"2023-12-26T07:45:00\",\"2023-12-26T07:50:00\",\"2023-12-26T07:55:00\",\"2023-12-26T08:00:00\",\"2023-12-26T08:05:00\",\"2023-12-26T08:10:00\",\"2023-12-26T08:15:00\",\"2023-12-26T08:20:00\",\"2023-12-26T08:25:00\",\"2023-12-26T08:30:00\",\"2023-12-26T08:35:00\",\"2023-12-26T08:40:00\",\"2023-12-26T08:45:00\",\"2023-12-26T08:50:00\",\"2023-12-26T08:55:00\",\"2023-12-26T09:00:00\",\"2023-12-26T09:05:00\",\"2023-12-26T09:10:00\",\"2023-12-26T09:15:00\",\"2023-12-26T09:20:00\",\"2023-12-26T09:25:00\",\"2023-12-26T09:30:00\",\"2023-12-26T09:35:00\",\"2023-12-26T09:40:00\",\"2023-12-26T09:45:00\",\"2023-12-26T09:50:00\",\"2023-12-26T09:55:00\",\"2023-12-26T10:00:00\",\"2023-12-26T10:05:00\",\"2023-12-26T10:10:00\",\"2023-12-26T10:15:00\",\"2023-12-26T10:20:00\",\"2023-12-26T10:25:00\",\"2023-12-26T10:30:00\",\"2023-12-26T10:35:00\",\"2023-12-26T10:40:00\",\"2023-12-26T10:45:00\",\"2023-12-26T10:50:00\",\"2023-12-26T10:55:00\",\"2023-12-26T11:00:00\",\"2023-12-26T11:05:00\",\"2023-12-26T11:10:00\",\"2023-12-26T11:15:00\",\"2023-12-26T11:20:00\",\"2023-12-26T11:25:00\",\"2023-12-26T11:30:00\",\"2023-12-26T11:35:00\",\"2023-12-26T11:40:00\",\"2023-12-26T11:45:00\",\"2023-12-26T11:50:00\",\"2023-12-26T11:55:00\",\"2023-12-26T12:00:00\",\"2023-12-26T12:05:00\",\"2023-12-26T12:10:00\",\"2023-12-26T12:15:00\",\"2023-12-26T12:20:00\",\"2023-12-26T12:25:00\",\"2023-12-26T12:30:00\",\"2023-12-26T12:35:00\",\"2023-12-26T12:40:00\",\"2023-12-26T12:45:00\",\"2023-12-26T12:50:00\",\"2023-12-26T12:55:00\",\"2023-12-26T13:00:00\",\"2023-12-26T13:05:00\",\"2023-12-26T13:10:00\",\"2023-12-26T13:15:00\",\"2023-12-26T13:20:00\",\"2023-12-26T13:25:00\",\"2023-12-26T13:30:00\",\"2023-12-26T13:35:00\",\"2023-12-26T13:40:00\",\"2023-12-26T13:45:00\",\"2023-12-26T13:50:00\",\"2023-12-26T13:55:00\",\"2023-12-26T14:00:00\",\"2023-12-26T14:05:00\",\"2023-12-26T14:10:00\",\"2023-12-26T14:15:00\",\"2023-12-26T14:20:00\",\"2023-12-26T14:25:00\",\"2023-12-26T14:30:00\",\"2023-12-26T14:35:00\",\"2023-12-26T14:40:00\",\"2023-12-26T14:45:00\",\"2023-12-26T14:50:00\",\"2023-12-26T14:55:00\",\"2023-12-26T15:00:00\",\"2023-12-26T15:05:00\",\"2023-12-26T15:10:00\",\"2023-12-26T15:15:00\",\"2023-12-26T15:20:00\",\"2023-12-26T15:25:00\",\"2023-12-26T15:30:00\",\"2023-12-26T15:35:00\",\"2023-12-26T15:40:00\",\"2023-12-26T15:45:00\",\"2023-12-26T15:50:00\",\"2023-12-26T15:55:00\",\"2023-12-26T16:00:00\",\"2023-12-26T16:05:00\",\"2023-12-26T16:10:00\",\"2023-12-26T16:15:00\",\"2023-12-26T16:20:00\",\"2023-12-26T16:25:00\",\"2023-12-26T16:30:00\",\"2023-12-26T16:35:00\",\"2023-12-26T16:40:00\",\"2023-12-26T16:45:00\",\"2023-12-26T16:50:00\",\"2023-12-26T16:55:00\",\"2023-12-26T17:00:00\",\"2023-12-26T17:05:00\",\"2023-12-26T17:10:00\",\"2023-12-26T17:15:00\",\"2023-12-26T17:20:00\",\"2023-12-26T17:25:00\",\"2023-12-26T17:30:00\",\"2023-12-26T17:35:00\",\"2023-12-26T17:40:00\",\"2023-12-26T17:45:00\",\"2023-12-26T17:50:00\",\"2023-12-26T17:55:00\"],\"xaxis\":\"x\",\"y\":[1,1,1,1,1,1,1,1,1,1,1,1,1,1,1,1,1,1,1,1,1,1,1,1,1,1,1,1,1,1,1,1,1,1,1,1,1,1,1,1,1,1,1,1,1,1,1,1,1,1,1,1,1,1,1,1,1,1,1,1,1,1,1,1,1,1,1,1,1,1,1,1,1,1,1,1,1,1,1,1,1,1,1,1,1,1,1,1,1,1,1,1,1,1,1,1,1,1,1,1,1,1,1,1,1,1,1,1,1,1,1,1,1,1,1,1,1,1,1,1,1,1,1,1,1,1,1,1,1,1,1,1,1,1,1,1,1,1,1,1,1,1,1,1,1,1,1,1,1,1,1,1,1,1,1,1,1,1,1,1,1,1,1,1,1,1,1,1,1,1,1,1,1,1,1,1,1,1,1,1,1,1,1,1,1,1,1,1,1,1,1,1,1,1,1,1,1,1,1,1,1,1,1,1,1,1,1,1,1,1,1,1,1,1,1,1,1,1,1,1,1,1,1,1,1,1,1,1,1,1,1,1,1,1,1,1,1,1,1,1,1,1,1,1,1,1,1,1,1,1,1,1,1,1,1,1,1,1,1,1,1,1,1,1,1,1,1,1,1,1,1,1,1,1,1,1,1,1,1,1,1,1,1,1,1,1,1,1,1],\"yaxis\":\"y\",\"type\":\"scatter\"}],                        {\"template\":{\"data\":{\"histogram2dcontour\":[{\"type\":\"histogram2dcontour\",\"colorbar\":{\"outlinewidth\":0,\"ticks\":\"\"},\"colorscale\":[[0.0,\"#0d0887\"],[0.1111111111111111,\"#46039f\"],[0.2222222222222222,\"#7201a8\"],[0.3333333333333333,\"#9c179e\"],[0.4444444444444444,\"#bd3786\"],[0.5555555555555556,\"#d8576b\"],[0.6666666666666666,\"#ed7953\"],[0.7777777777777778,\"#fb9f3a\"],[0.8888888888888888,\"#fdca26\"],[1.0,\"#f0f921\"]]}],\"choropleth\":[{\"type\":\"choropleth\",\"colorbar\":{\"outlinewidth\":0,\"ticks\":\"\"}}],\"histogram2d\":[{\"type\":\"histogram2d\",\"colorbar\":{\"outlinewidth\":0,\"ticks\":\"\"},\"colorscale\":[[0.0,\"#0d0887\"],[0.1111111111111111,\"#46039f\"],[0.2222222222222222,\"#7201a8\"],[0.3333333333333333,\"#9c179e\"],[0.4444444444444444,\"#bd3786\"],[0.5555555555555556,\"#d8576b\"],[0.6666666666666666,\"#ed7953\"],[0.7777777777777778,\"#fb9f3a\"],[0.8888888888888888,\"#fdca26\"],[1.0,\"#f0f921\"]]}],\"heatmap\":[{\"type\":\"heatmap\",\"colorbar\":{\"outlinewidth\":0,\"ticks\":\"\"},\"colorscale\":[[0.0,\"#0d0887\"],[0.1111111111111111,\"#46039f\"],[0.2222222222222222,\"#7201a8\"],[0.3333333333333333,\"#9c179e\"],[0.4444444444444444,\"#bd3786\"],[0.5555555555555556,\"#d8576b\"],[0.6666666666666666,\"#ed7953\"],[0.7777777777777778,\"#fb9f3a\"],[0.8888888888888888,\"#fdca26\"],[1.0,\"#f0f921\"]]}],\"heatmapgl\":[{\"type\":\"heatmapgl\",\"colorbar\":{\"outlinewidth\":0,\"ticks\":\"\"},\"colorscale\":[[0.0,\"#0d0887\"],[0.1111111111111111,\"#46039f\"],[0.2222222222222222,\"#7201a8\"],[0.3333333333333333,\"#9c179e\"],[0.4444444444444444,\"#bd3786\"],[0.5555555555555556,\"#d8576b\"],[0.6666666666666666,\"#ed7953\"],[0.7777777777777778,\"#fb9f3a\"],[0.8888888888888888,\"#fdca26\"],[1.0,\"#f0f921\"]]}],\"contourcarpet\":[{\"type\":\"contourcarpet\",\"colorbar\":{\"outlinewidth\":0,\"ticks\":\"\"}}],\"contour\":[{\"type\":\"contour\",\"colorbar\":{\"outlinewidth\":0,\"ticks\":\"\"},\"colorscale\":[[0.0,\"#0d0887\"],[0.1111111111111111,\"#46039f\"],[0.2222222222222222,\"#7201a8\"],[0.3333333333333333,\"#9c179e\"],[0.4444444444444444,\"#bd3786\"],[0.5555555555555556,\"#d8576b\"],[0.6666666666666666,\"#ed7953\"],[0.7777777777777778,\"#fb9f3a\"],[0.8888888888888888,\"#fdca26\"],[1.0,\"#f0f921\"]]}],\"surface\":[{\"type\":\"surface\",\"colorbar\":{\"outlinewidth\":0,\"ticks\":\"\"},\"colorscale\":[[0.0,\"#0d0887\"],[0.1111111111111111,\"#46039f\"],[0.2222222222222222,\"#7201a8\"],[0.3333333333333333,\"#9c179e\"],[0.4444444444444444,\"#bd3786\"],[0.5555555555555556,\"#d8576b\"],[0.6666666666666666,\"#ed7953\"],[0.7777777777777778,\"#fb9f3a\"],[0.8888888888888888,\"#fdca26\"],[1.0,\"#f0f921\"]]}],\"mesh3d\":[{\"type\":\"mesh3d\",\"colorbar\":{\"outlinewidth\":0,\"ticks\":\"\"}}],\"scatter\":[{\"fillpattern\":{\"fillmode\":\"overlay\",\"size\":10,\"solidity\":0.2},\"type\":\"scatter\"}],\"parcoords\":[{\"type\":\"parcoords\",\"line\":{\"colorbar\":{\"outlinewidth\":0,\"ticks\":\"\"}}}],\"scatterpolargl\":[{\"type\":\"scatterpolargl\",\"marker\":{\"colorbar\":{\"outlinewidth\":0,\"ticks\":\"\"}}}],\"bar\":[{\"error_x\":{\"color\":\"#2a3f5f\"},\"error_y\":{\"color\":\"#2a3f5f\"},\"marker\":{\"line\":{\"color\":\"#E5ECF6\",\"width\":0.5},\"pattern\":{\"fillmode\":\"overlay\",\"size\":10,\"solidity\":0.2}},\"type\":\"bar\"}],\"scattergeo\":[{\"type\":\"scattergeo\",\"marker\":{\"colorbar\":{\"outlinewidth\":0,\"ticks\":\"\"}}}],\"scatterpolar\":[{\"type\":\"scatterpolar\",\"marker\":{\"colorbar\":{\"outlinewidth\":0,\"ticks\":\"\"}}}],\"histogram\":[{\"marker\":{\"pattern\":{\"fillmode\":\"overlay\",\"size\":10,\"solidity\":0.2}},\"type\":\"histogram\"}],\"scattergl\":[{\"type\":\"scattergl\",\"marker\":{\"colorbar\":{\"outlinewidth\":0,\"ticks\":\"\"}}}],\"scatter3d\":[{\"type\":\"scatter3d\",\"line\":{\"colorbar\":{\"outlinewidth\":0,\"ticks\":\"\"}},\"marker\":{\"colorbar\":{\"outlinewidth\":0,\"ticks\":\"\"}}}],\"scattermapbox\":[{\"type\":\"scattermapbox\",\"marker\":{\"colorbar\":{\"outlinewidth\":0,\"ticks\":\"\"}}}],\"scatterternary\":[{\"type\":\"scatterternary\",\"marker\":{\"colorbar\":{\"outlinewidth\":0,\"ticks\":\"\"}}}],\"scattercarpet\":[{\"type\":\"scattercarpet\",\"marker\":{\"colorbar\":{\"outlinewidth\":0,\"ticks\":\"\"}}}],\"carpet\":[{\"aaxis\":{\"endlinecolor\":\"#2a3f5f\",\"gridcolor\":\"white\",\"linecolor\":\"white\",\"minorgridcolor\":\"white\",\"startlinecolor\":\"#2a3f5f\"},\"baxis\":{\"endlinecolor\":\"#2a3f5f\",\"gridcolor\":\"white\",\"linecolor\":\"white\",\"minorgridcolor\":\"white\",\"startlinecolor\":\"#2a3f5f\"},\"type\":\"carpet\"}],\"table\":[{\"cells\":{\"fill\":{\"color\":\"#EBF0F8\"},\"line\":{\"color\":\"white\"}},\"header\":{\"fill\":{\"color\":\"#C8D4E3\"},\"line\":{\"color\":\"white\"}},\"type\":\"table\"}],\"barpolar\":[{\"marker\":{\"line\":{\"color\":\"#E5ECF6\",\"width\":0.5},\"pattern\":{\"fillmode\":\"overlay\",\"size\":10,\"solidity\":0.2}},\"type\":\"barpolar\"}],\"pie\":[{\"automargin\":true,\"type\":\"pie\"}]},\"layout\":{\"autotypenumbers\":\"strict\",\"colorway\":[\"#636efa\",\"#EF553B\",\"#00cc96\",\"#ab63fa\",\"#FFA15A\",\"#19d3f3\",\"#FF6692\",\"#B6E880\",\"#FF97FF\",\"#FECB52\"],\"font\":{\"color\":\"#2a3f5f\"},\"hovermode\":\"closest\",\"hoverlabel\":{\"align\":\"left\"},\"paper_bgcolor\":\"white\",\"plot_bgcolor\":\"#E5ECF6\",\"polar\":{\"bgcolor\":\"#E5ECF6\",\"angularaxis\":{\"gridcolor\":\"white\",\"linecolor\":\"white\",\"ticks\":\"\"},\"radialaxis\":{\"gridcolor\":\"white\",\"linecolor\":\"white\",\"ticks\":\"\"}},\"ternary\":{\"bgcolor\":\"#E5ECF6\",\"aaxis\":{\"gridcolor\":\"white\",\"linecolor\":\"white\",\"ticks\":\"\"},\"baxis\":{\"gridcolor\":\"white\",\"linecolor\":\"white\",\"ticks\":\"\"},\"caxis\":{\"gridcolor\":\"white\",\"linecolor\":\"white\",\"ticks\":\"\"}},\"coloraxis\":{\"colorbar\":{\"outlinewidth\":0,\"ticks\":\"\"}},\"colorscale\":{\"sequential\":[[0.0,\"#0d0887\"],[0.1111111111111111,\"#46039f\"],[0.2222222222222222,\"#7201a8\"],[0.3333333333333333,\"#9c179e\"],[0.4444444444444444,\"#bd3786\"],[0.5555555555555556,\"#d8576b\"],[0.6666666666666666,\"#ed7953\"],[0.7777777777777778,\"#fb9f3a\"],[0.8888888888888888,\"#fdca26\"],[1.0,\"#f0f921\"]],\"sequentialminus\":[[0.0,\"#0d0887\"],[0.1111111111111111,\"#46039f\"],[0.2222222222222222,\"#7201a8\"],[0.3333333333333333,\"#9c179e\"],[0.4444444444444444,\"#bd3786\"],[0.5555555555555556,\"#d8576b\"],[0.6666666666666666,\"#ed7953\"],[0.7777777777777778,\"#fb9f3a\"],[0.8888888888888888,\"#fdca26\"],[1.0,\"#f0f921\"]],\"diverging\":[[0,\"#8e0152\"],[0.1,\"#c51b7d\"],[0.2,\"#de77ae\"],[0.3,\"#f1b6da\"],[0.4,\"#fde0ef\"],[0.5,\"#f7f7f7\"],[0.6,\"#e6f5d0\"],[0.7,\"#b8e186\"],[0.8,\"#7fbc41\"],[0.9,\"#4d9221\"],[1,\"#276419\"]]},\"xaxis\":{\"gridcolor\":\"white\",\"linecolor\":\"white\",\"ticks\":\"\",\"title\":{\"standoff\":15},\"zerolinecolor\":\"white\",\"automargin\":true,\"zerolinewidth\":2},\"yaxis\":{\"gridcolor\":\"white\",\"linecolor\":\"white\",\"ticks\":\"\",\"title\":{\"standoff\":15},\"zerolinecolor\":\"white\",\"automargin\":true,\"zerolinewidth\":2},\"scene\":{\"xaxis\":{\"backgroundcolor\":\"#E5ECF6\",\"gridcolor\":\"white\",\"linecolor\":\"white\",\"showbackground\":true,\"ticks\":\"\",\"zerolinecolor\":\"white\",\"gridwidth\":2},\"yaxis\":{\"backgroundcolor\":\"#E5ECF6\",\"gridcolor\":\"white\",\"linecolor\":\"white\",\"showbackground\":true,\"ticks\":\"\",\"zerolinecolor\":\"white\",\"gridwidth\":2},\"zaxis\":{\"backgroundcolor\":\"#E5ECF6\",\"gridcolor\":\"white\",\"linecolor\":\"white\",\"showbackground\":true,\"ticks\":\"\",\"zerolinecolor\":\"white\",\"gridwidth\":2}},\"shapedefaults\":{\"line\":{\"color\":\"#2a3f5f\"}},\"annotationdefaults\":{\"arrowcolor\":\"#2a3f5f\",\"arrowhead\":0,\"arrowwidth\":1},\"geo\":{\"bgcolor\":\"white\",\"landcolor\":\"#E5ECF6\",\"subunitcolor\":\"white\",\"showland\":true,\"showlakes\":true,\"lakecolor\":\"white\"},\"title\":{\"x\":0.05},\"mapbox\":{\"style\":\"light\"}}},\"xaxis\":{\"anchor\":\"y\",\"domain\":[0.0,1.0],\"title\":{\"text\":\"time\"}},\"yaxis\":{\"anchor\":\"x\",\"domain\":[0.0,1.0],\"title\":{\"text\":\"capital\"}},\"legend\":{\"tracegroupgap\":0},\"margin\":{\"t\":60},\"height\":700},                        {\"responsive\": true}                    ).then(function(){\n",
       "                            \n",
       "var gd = document.getElementById('4558ccc8-c3ba-4095-a446-13f5362c1428');\n",
       "var x = new MutationObserver(function (mutations, observer) {{\n",
       "        var display = window.getComputedStyle(gd).display;\n",
       "        if (!display || display === 'none') {{\n",
       "            console.log([gd, 'removed!']);\n",
       "            Plotly.purge(gd);\n",
       "            observer.disconnect();\n",
       "        }}\n",
       "}});\n",
       "\n",
       "// Listen for the removal of the full notebook cells\n",
       "var notebookContainer = gd.closest('#notebook-container');\n",
       "if (notebookContainer) {{\n",
       "    x.observe(notebookContainer, {childList: true});\n",
       "}}\n",
       "\n",
       "// Listen for the clearing of the current output cell\n",
       "var outputEl = gd.closest('.output');\n",
       "if (outputEl) {{\n",
       "    x.observe(outputEl, {childList: true});\n",
       "}}\n",
       "\n",
       "                        })                };                });            </script>        </div>"
      ]
     },
     "metadata": {},
     "output_type": "display_data"
    }
   ],
   "source": [
    "capital = 1\n",
    "df['capital'] = 0\n",
    "df_len = df.shape[0]\n",
    "capital_ls = []\n",
    "price_in = None\n",
    "\n",
    "for ix in range(0, df_len):\n",
    "    if ix < df_len - 1:\n",
    "        row = df.iloc[ix]\n",
    "        next_row = df.iloc[ix + 1]\n",
    "        best_ask = row['best_ask']\n",
    "        \n",
    "        if row['prediction'] == 1:\n",
    "            if price_in == None:\n",
    "                price_in = row['best_bid']\n",
    "        else:\n",
    "            if price_in:\n",
    "                pnl = (price_in - best_ask) / price_in\n",
    "                # alog.info((pnl, price_in, best_ask))\n",
    "                capital = capital + (capital * pnl * (1 - 0.005))\n",
    "                \n",
    "            price_in = None\n",
    "            \n",
    "    #alog.info(capital)\n",
    "    capital_ls.append(capital)\n",
    "\n",
    "df['capital'] = np.asarray(capital_ls)\n",
    "print(df)\n",
    "px.line(df, y='capital', height=700)"
   ]
  },
  {
   "cell_type": "code",
   "execution_count": null,
   "id": "8bae39fc-febf-46c0-9849-a7fc303034c0",
   "metadata": {},
   "outputs": [],
   "source": []
  }
 ],
 "metadata": {
  "kernelspec": {
   "display_name": "Python 3 (ipykernel)",
   "language": "python",
   "name": "python3"
  },
  "language_info": {
   "codemirror_mode": {
    "name": "ipython",
    "version": 3
   },
   "file_extension": ".py",
   "mimetype": "text/x-python",
   "name": "python",
   "nbconvert_exporter": "python",
   "pygments_lexer": "ipython3",
   "version": "3.8.10"
  }
 },
 "nbformat": 4,
 "nbformat_minor": 5
}
